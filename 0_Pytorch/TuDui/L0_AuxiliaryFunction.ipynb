{
 "cells": [
  {
   "cell_type": "markdown",
   "metadata": {
    "collapsed": true,
    "pycharm": {
     "name": "#%% md\n"
    }
   },
   "source": [
    "## 0.辅助函数的使用dir()、help()\n",
    "### dir()函数\n",
    "dir() 函数不带参数时，返回当前范围内的变量、方法和定义的类型列表；\n",
    "带参数时，返回参数的**属性、方法列表**。如果参数包含方法__dir__()，该方法将被调用。如果参数不包含__dir__()，该方法将最大限度地收集参数信息。"
   ]
  },
  {
   "cell_type": "code",
   "execution_count": 1,
   "outputs": [
    {
     "data": {
      "text/plain": "['In',\n 'Out',\n '_',\n '__',\n '___',\n '__builtin__',\n '__builtins__',\n '__doc__',\n '__loader__',\n '__name__',\n '__package__',\n '__spec__',\n '_dh',\n '_i',\n '_i1',\n '_ih',\n '_ii',\n '_iii',\n '_oh',\n 'exit',\n 'get_ipython',\n 'open',\n 'quit']"
     },
     "execution_count": 1,
     "metadata": {},
     "output_type": "execute_result"
    }
   ],
   "source": [
    "dir()  # 获得当前模块的属性列表"
   ],
   "metadata": {
    "collapsed": false,
    "pycharm": {
     "name": "#%%\n"
    }
   }
  },
  {
   "cell_type": "code",
   "execution_count": 2,
   "outputs": [
    {
     "data": {
      "text/plain": "['__add__',\n '__class__',\n '__class_getitem__',\n '__contains__',\n '__delattr__',\n '__delitem__',\n '__dir__',\n '__doc__',\n '__eq__',\n '__format__',\n '__ge__',\n '__getattribute__',\n '__getitem__',\n '__gt__',\n '__hash__',\n '__iadd__',\n '__imul__',\n '__init__',\n '__init_subclass__',\n '__iter__',\n '__le__',\n '__len__',\n '__lt__',\n '__mul__',\n '__ne__',\n '__new__',\n '__reduce__',\n '__reduce_ex__',\n '__repr__',\n '__reversed__',\n '__rmul__',\n '__setattr__',\n '__setitem__',\n '__sizeof__',\n '__str__',\n '__subclasshook__',\n 'append',\n 'clear',\n 'copy',\n 'count',\n 'extend',\n 'index',\n 'insert',\n 'pop',\n 'remove',\n 'reverse',\n 'sort']"
     },
     "execution_count": 2,
     "metadata": {},
     "output_type": "execute_result"
    }
   ],
   "source": [
    "dir([ ])  # 查看列表的方法"
   ],
   "metadata": {
    "collapsed": false,
    "pycharm": {
     "name": "#%%\n"
    }
   }
  },
  {
   "cell_type": "code",
   "execution_count": 6,
   "outputs": [
    {
     "data": {
      "text/plain": "['AVG',\n 'AggregationType',\n 'AliasDb',\n 'Any',\n 'AnyType',\n 'Argument',\n 'ArgumentSpec',\n 'BFloat16Storage',\n 'BFloat16Tensor',\n 'BenchmarkConfig',\n 'BenchmarkExecutionStats',\n 'Block',\n 'BoolStorage',\n 'BoolTensor',\n 'BoolType',\n 'BufferDict',\n 'ByteStorage',\n 'ByteTensor',\n 'CONV_BN_FUSION',\n 'CallStack',\n 'Callable',\n 'Capsule',\n 'CharStorage',\n 'CharTensor',\n 'ClassType',\n 'Code',\n 'CompilationUnit',\n 'CompleteArgumentSpec',\n 'ComplexDoubleStorage',\n 'ComplexFloatStorage',\n 'ComplexType',\n 'ConcreteModuleType',\n 'ConcreteModuleTypeBuilder',\n 'DeepCopyMemoTable',\n 'DeserializationStorageContext',\n 'DeviceObjType',\n 'DictType',\n 'DisableTorchFunction',\n 'DispatchKey',\n 'DispatchKeySet',\n 'DoubleStorage',\n 'DoubleTensor',\n 'EnumType',\n 'ErrorReport',\n 'ExcludeDispatchKeyGuard',\n 'ExecutionPlan',\n 'FUSE_ADD_RELU',\n 'FatalError',\n 'FileCheck',\n 'FloatStorage',\n 'FloatTensor',\n 'FloatType',\n 'FunctionSchema',\n 'Future',\n 'FutureType',\n 'Generator',\n 'Gradient',\n 'Graph',\n 'GraphExecutorState',\n 'HOIST_CONV_PACKED_PARAMS',\n 'HalfStorage',\n 'HalfTensor',\n 'INSERT_FOLD_PREPACK_OPS',\n 'IODescriptor',\n 'InferredType',\n 'IntStorage',\n 'IntTensor',\n 'IntType',\n 'InterfaceType',\n 'JITException',\n 'ListType',\n 'LiteScriptModule',\n 'LockingLogger',\n 'LoggerBase',\n 'LongStorage',\n 'LongTensor',\n 'MobileOptimizerType',\n 'ModuleDict',\n 'Node',\n 'NoneType',\n 'NoopLogger',\n 'NumberType',\n 'OperatorInfo',\n 'OptionalType',\n 'PRIVATE_OPS',\n 'ParameterDict',\n 'PyObjectType',\n 'PyTorchFileReader',\n 'PyTorchFileWriter',\n 'QInt32Storage',\n 'QInt8Storage',\n 'QUInt2x4Storage',\n 'QUInt4x2Storage',\n 'QUInt8Storage',\n 'REMOVE_DROPOUT',\n 'RRefType',\n 'SUM',\n 'ScriptClass',\n 'ScriptClassFunction',\n 'ScriptDict',\n 'ScriptDictIterator',\n 'ScriptDictKeyIterator',\n 'ScriptFunction',\n 'ScriptList',\n 'ScriptListIterator',\n 'ScriptMethod',\n 'ScriptModule',\n 'ScriptModuleSerializer',\n 'ScriptObject',\n 'ScriptObjectProperty',\n 'SerializationStorageContext',\n 'Set',\n 'ShortStorage',\n 'ShortTensor',\n 'Size',\n 'StaticModule',\n 'Storage',\n 'StorageBase',\n 'Stream',\n 'StreamObjType',\n 'StringType',\n 'SymFloatNode',\n 'SymIntNode',\n 'SymIntType',\n 'TYPE_CHECKING',\n 'Tag',\n 'Tensor',\n 'TensorType',\n 'ThroughputBenchmark',\n 'TracingState',\n 'TupleType',\n 'Type',\n 'TypedStorage',\n 'USE_GLOBAL_DEPS',\n 'USE_RTLD_GLOBAL_WITH_LIBTORCH',\n 'Union',\n 'UnionType',\n 'UntypedStorage',\n 'Use',\n 'Value',\n '_C',\n '_VF',\n '__all__',\n '__annotations__',\n '__builtins__',\n '__cached__',\n '__config__',\n '__doc__',\n '__file__',\n '__future__',\n '__loader__',\n '__name__',\n '__package__',\n '__path__',\n '__spec__',\n '__version__',\n '_adaptive_avg_pool2d',\n '_adaptive_avg_pool3d',\n '_add_batch_dim',\n '_add_relu',\n '_add_relu_',\n '_addmm_activation',\n '_aminmax',\n '_amp_foreach_non_finite_check_and_unscale_',\n '_amp_update_scale_',\n '_assert',\n '_assert_async',\n '_assert_tensor_metadata',\n '_batch_norm_impl_index',\n '_cast_Byte',\n '_cast_Char',\n '_cast_Double',\n '_cast_Float',\n '_cast_Half',\n '_cast_Int',\n '_cast_Long',\n '_cast_Short',\n '_choose_qparams_per_tensor',\n '_classes',\n '_coalesce',\n '_compute_linear_combination',\n '_conj',\n '_conj_copy',\n '_conj_physical',\n '_convert_indices_from_coo_to_csr',\n '_convert_indices_from_csr_to_coo',\n '_convolution',\n '_convolution_mode',\n '_copy_from',\n '_copy_from_and_resize',\n '_ctc_loss',\n '_cudnn_ctc_loss',\n '_cudnn_init_dropout_state',\n '_cudnn_rnn',\n '_cudnn_rnn_flatten_weight',\n '_cufft_clear_plan_cache',\n '_cufft_get_plan_cache_max_size',\n '_cufft_get_plan_cache_size',\n '_cufft_set_plan_cache_max_size',\n '_cummax_helper',\n '_cummin_helper',\n '_debug_has_internal_overlap',\n '_decomp',\n '_dim_arange',\n '_dirichlet_grad',\n '_disable_functionalization',\n '_efficientzerotensor',\n '_embedding_bag',\n '_embedding_bag_forward_only',\n '_empty_affine_quantized',\n '_empty_per_channel_affine_quantized',\n '_enable_functionalization',\n '_euclidean_dist',\n '_fake_quantize_learnable_per_channel_affine',\n '_fake_quantize_learnable_per_tensor_affine',\n '_fake_quantize_per_tensor_affine_cachemask_tensor_qparams',\n '_fft_c2c',\n '_fft_c2r',\n '_fft_r2c',\n '_flash_scaled_dot_product_attention',\n '_foobar',\n '_foreach_abs',\n '_foreach_abs_',\n '_foreach_acos',\n '_foreach_acos_',\n '_foreach_add',\n '_foreach_add_',\n '_foreach_addcdiv',\n '_foreach_addcdiv_',\n '_foreach_addcmul',\n '_foreach_addcmul_',\n '_foreach_asin',\n '_foreach_asin_',\n '_foreach_atan',\n '_foreach_atan_',\n '_foreach_ceil',\n '_foreach_ceil_',\n '_foreach_cos',\n '_foreach_cos_',\n '_foreach_cosh',\n '_foreach_cosh_',\n '_foreach_div',\n '_foreach_div_',\n '_foreach_erf',\n '_foreach_erf_',\n '_foreach_erfc',\n '_foreach_erfc_',\n '_foreach_exp',\n '_foreach_exp_',\n '_foreach_expm1',\n '_foreach_expm1_',\n '_foreach_floor',\n '_foreach_floor_',\n '_foreach_frac',\n '_foreach_frac_',\n '_foreach_lgamma',\n '_foreach_lgamma_',\n '_foreach_log',\n '_foreach_log10',\n '_foreach_log10_',\n '_foreach_log1p',\n '_foreach_log1p_',\n '_foreach_log2',\n '_foreach_log2_',\n '_foreach_log_',\n '_foreach_maximum',\n '_foreach_maximum_',\n '_foreach_minimum',\n '_foreach_minimum_',\n '_foreach_mul',\n '_foreach_mul_',\n '_foreach_neg',\n '_foreach_neg_',\n '_foreach_norm',\n '_foreach_reciprocal',\n '_foreach_reciprocal_',\n '_foreach_round',\n '_foreach_round_',\n '_foreach_sigmoid',\n '_foreach_sigmoid_',\n '_foreach_sin',\n '_foreach_sin_',\n '_foreach_sinh',\n '_foreach_sinh_',\n '_foreach_sqrt',\n '_foreach_sqrt_',\n '_foreach_sub',\n '_foreach_sub_',\n '_foreach_tan',\n '_foreach_tan_',\n '_foreach_tanh',\n '_foreach_tanh_',\n '_foreach_trunc',\n '_foreach_trunc_',\n '_foreach_zero_',\n '_from_functional_tensor',\n '_fused_adam_',\n '_fused_dropout',\n '_fused_moving_avg_obs_fq_helper',\n '_fw_primal_copy',\n '_grid_sampler_2d_cpu_fallback',\n '_has_compatible_shallow_copy_type',\n '_histogramdd_bin_edges',\n '_histogramdd_from_bin_cts',\n '_histogramdd_from_bin_tensors',\n '_import_dotted_name',\n '_index_put_impl_',\n '_indices_copy',\n '_initExtension',\n '_is_functional_tensor',\n '_is_zerotensor',\n '_jit_internal',\n '_linalg_check_errors',\n '_linalg_det',\n '_linalg_eigh',\n '_linalg_slogdet',\n '_linalg_solve_ex',\n '_linalg_svd',\n '_linalg_utils',\n '_load_global_deps',\n '_lobpcg',\n '_log_softmax',\n '_log_softmax_backward_data',\n '_logcumsumexp',\n '_lowrank',\n '_lstm_mps',\n '_lu_with_info',\n '_make_dual',\n '_make_dual_copy',\n '_make_per_channel_quantized_tensor',\n '_make_per_tensor_quantized_tensor',\n '_masked_scale',\n '_masked_softmax',\n '_meta_registrations',\n '_mkldnn',\n '_mkldnn_reshape',\n '_mkldnn_transpose',\n '_mkldnn_transpose_',\n '_mps_convolution',\n '_mps_convolution_transpose',\n '_mps_max_pool2d',\n '_namedtensor_internals',\n '_native_decoder_only_multi_head_attention',\n '_native_multi_head_attention',\n '_neg_view',\n '_neg_view_copy',\n '_nested_from_padded',\n '_nested_from_padded_and_nested_example',\n '_nested_tensor_from_mask',\n '_nested_tensor_from_mask_left_aligned',\n '_nested_tensor_from_tensor_list',\n '_nested_tensor_softmax_with_shape',\n '_nnpack_available',\n '_nnpack_spatial_convolution',\n '_ops',\n '_pack_padded_sequence',\n '_pad_packed_sequence',\n '_pin_memory',\n '_preload_cuda_deps',\n '_prims',\n '_prims_common',\n '_refs',\n '_register_device_module',\n '_remove_batch_dim',\n '_reshape_alias_copy',\n '_reshape_from_tensor',\n '_resize_output_',\n '_rowwise_prune',\n '_sample_dirichlet',\n '_saturate_weight_to_fp16',\n '_scaled_dot_product_attention_math',\n '_shape_as_tensor',\n '_six',\n '_sobol_engine_draw',\n '_sobol_engine_ff_',\n '_sobol_engine_initialize_state_',\n '_sobol_engine_scramble_',\n '_softmax',\n '_softmax_backward_data',\n '_sources',\n '_sparse_broadcast_to',\n '_sparse_broadcast_to_copy',\n '_sparse_bsc_tensor_unsafe',\n '_sparse_bsr_tensor_unsafe',\n '_sparse_compressed_tensor_unsafe',\n '_sparse_coo_tensor_unsafe',\n '_sparse_csc_tensor_unsafe',\n '_sparse_csr_prod',\n '_sparse_csr_sum',\n '_sparse_csr_tensor_unsafe',\n '_sparse_log_softmax_backward_data',\n '_sparse_mask_helper',\n '_sparse_softmax_backward_data',\n '_sparse_sparse_matmul',\n '_sparse_sum',\n '_stack',\n '_standard_gamma',\n '_standard_gamma_grad',\n '_storage_classes',\n '_string_classes',\n '_subclasses',\n '_sync',\n '_tensor',\n '_tensor_classes',\n '_tensor_str',\n '_test_autograd_multiple_dispatch',\n '_test_autograd_multiple_dispatch_view',\n '_test_autograd_multiple_dispatch_view_copy',\n '_test_serialization_subcmul',\n '_to_cpu',\n '_to_functional_tensor',\n '_torch_cuda_cu_linker_symbol_op',\n '_transform_bias_rescale_qkv',\n '_transformer_decoder_only_layer_fwd',\n '_transformer_encoder_layer_fwd',\n '_trilinear',\n '_triton_multi_head_attention',\n '_triton_scaled_dot_attention',\n '_unique',\n '_unique2',\n '_unpack_dual',\n '_use_cudnn_ctc_loss',\n '_use_cudnn_rnn_flatten_weight',\n '_utils',\n '_utils_internal',\n '_validate_compressed_sparse_indices',\n '_validate_sparse_bsc_tensor_args',\n '_validate_sparse_bsr_tensor_args',\n '_validate_sparse_compressed_tensor_args',\n '_validate_sparse_coo_tensor_args',\n '_validate_sparse_csc_tensor_args',\n '_validate_sparse_csr_tensor_args',\n '_values_copy',\n '_vmap_internals',\n '_weight_norm',\n '_weight_norm_interface',\n '_weights_only_unpickler',\n 'abs',\n 'abs_',\n 'absolute',\n 'acos',\n 'acos_',\n 'acosh',\n 'acosh_',\n 'adaptive_avg_pool1d',\n 'adaptive_max_pool1d',\n 'add',\n 'addbmm',\n 'addcdiv',\n 'addcmul',\n 'addmm',\n 'addmv',\n 'addmv_',\n 'addr',\n 'adjoint',\n 'affine_grid_generator',\n 'alias_copy',\n 'align_tensors',\n 'all',\n 'allclose',\n 'alpha_dropout',\n 'alpha_dropout_',\n 'amax',\n 'amin',\n 'aminmax',\n 'amp',\n 'angle',\n 'any',\n 'ao',\n 'arange',\n 'arccos',\n 'arccos_',\n 'arccosh',\n 'arccosh_',\n 'arcsin',\n 'arcsin_',\n 'arcsinh',\n 'arcsinh_',\n 'arctan',\n 'arctan2',\n 'arctan_',\n 'arctanh',\n 'arctanh_',\n 'are_deterministic_algorithms_enabled',\n 'argmax',\n 'argmin',\n 'argsort',\n 'argwhere',\n 'as_strided',\n 'as_strided_',\n 'as_strided_copy',\n 'as_strided_scatter',\n 'as_tensor',\n 'asarray',\n 'asin',\n 'asin_',\n 'asinh',\n 'asinh_',\n 'atan',\n 'atan2',\n 'atan_',\n 'atanh',\n 'atanh_',\n 'atleast_1d',\n 'atleast_2d',\n 'atleast_3d',\n 'attr',\n 'autocast',\n 'autocast_decrement_nesting',\n 'autocast_increment_nesting',\n 'autograd',\n 'avg_pool1d',\n 'backends',\n 'baddbmm',\n 'bartlett_window',\n 'batch_norm',\n 'batch_norm_backward_elemt',\n 'batch_norm_backward_reduce',\n 'batch_norm_elemt',\n 'batch_norm_gather_stats',\n 'batch_norm_gather_stats_with_counts',\n 'batch_norm_stats',\n 'batch_norm_update_stats',\n 'bernoulli',\n 'bfloat16',\n 'bilinear',\n 'binary_cross_entropy_with_logits',\n 'bincount',\n 'binomial',\n 'bitwise_and',\n 'bitwise_left_shift',\n 'bitwise_not',\n 'bitwise_or',\n 'bitwise_right_shift',\n 'bitwise_xor',\n 'blackman_window',\n 'block_diag',\n 'bmm',\n 'bool',\n 'broadcast_shapes',\n 'broadcast_tensors',\n 'broadcast_to',\n 'bucketize',\n 'builtins',\n 'can_cast',\n 'candidate',\n 'cartesian_prod',\n 'cat',\n 'ccol_indices_copy',\n 'cdist',\n 'cdouble',\n 'ceil',\n 'ceil_',\n 'celu',\n 'celu_',\n 'cfloat',\n 'chain_matmul',\n 'chalf',\n 'channel_shuffle',\n 'channels_last',\n 'channels_last_3d',\n 'cholesky',\n 'cholesky_inverse',\n 'cholesky_solve',\n 'choose_qparams_optimized',\n 'chunk',\n 'clamp',\n 'clamp_',\n 'clamp_max',\n 'clamp_max_',\n 'clamp_min',\n 'clamp_min_',\n 'classes',\n 'classproperty',\n 'clear_autocast_cache',\n 'clip',\n 'clip_',\n 'clone',\n 'col_indices_copy',\n 'column_stack',\n 'combinations',\n 'compiled_with_cxx11_abi',\n 'complex',\n 'complex128',\n 'complex32',\n 'complex64',\n 'concat',\n 'concatenate',\n 'conj',\n 'conj_physical',\n 'conj_physical_',\n 'constant_pad_nd',\n 'contiguous_format',\n 'conv1d',\n 'conv2d',\n 'conv3d',\n 'conv_tbc',\n 'conv_transpose1d',\n 'conv_transpose2d',\n 'conv_transpose3d',\n 'convolution',\n 'copysign',\n 'corrcoef',\n 'cos',\n 'cos_',\n 'cosh',\n 'cosh_',\n 'cosine_embedding_loss',\n 'cosine_similarity',\n 'count_nonzero',\n 'cov',\n 'cpp',\n 'cpu',\n 'cross',\n 'crow_indices_copy',\n 'ctc_loss',\n 'ctypes',\n 'cuda',\n 'cudnn_affine_grid_generator',\n 'cudnn_batch_norm',\n 'cudnn_convolution',\n 'cudnn_convolution_add_relu',\n 'cudnn_convolution_relu',\n 'cudnn_convolution_transpose',\n 'cudnn_grid_sampler',\n 'cudnn_is_acceptable',\n 'cummax',\n 'cummin',\n 'cumprod',\n 'cumsum',\n 'cumulative_trapezoid',\n 'default_generator',\n 'deg2rad',\n 'deg2rad_',\n 'dequantize',\n 'det',\n 'detach',\n 'detach_',\n 'detach_copy',\n 'device',\n 'diag',\n 'diag_embed',\n 'diagflat',\n 'diagonal',\n 'diagonal_copy',\n 'diagonal_scatter',\n 'diff',\n 'digamma',\n 'dist',\n 'distributed',\n 'distributions',\n 'div',\n 'divide',\n 'dot',\n 'double',\n 'dropout',\n 'dropout_',\n 'dsmm',\n 'dsplit',\n 'dstack',\n 'dtype',\n 'e',\n 'eig',\n 'einsum',\n 'embedding',\n 'embedding_bag',\n 'embedding_renorm_',\n 'empty',\n 'empty_like',\n 'empty_quantized',\n 'empty_strided',\n 'enable_grad',\n 'eq',\n 'equal',\n 'erf',\n 'erf_',\n 'erfc',\n 'erfc_',\n 'erfinv',\n 'exp',\n 'exp2',\n 'exp2_',\n 'exp_',\n 'expand_copy',\n 'expm1',\n 'expm1_',\n 'eye',\n 'fake_quantize_per_channel_affine',\n 'fake_quantize_per_tensor_affine',\n 'fbgemm_linear_fp16_weight',\n 'fbgemm_linear_fp16_weight_fp32_activation',\n 'fbgemm_linear_int8_weight',\n 'fbgemm_linear_int8_weight_fp32_activation',\n 'fbgemm_linear_quantize_weight',\n 'fbgemm_pack_gemm_matrix_fp16',\n 'fbgemm_pack_quantized_matrix',\n 'feature_alpha_dropout',\n 'feature_alpha_dropout_',\n 'feature_dropout',\n 'feature_dropout_',\n 'fft',\n 'fill',\n 'fill_',\n 'finfo',\n 'fix',\n 'fix_',\n 'flatten',\n 'flip',\n 'fliplr',\n 'flipud',\n 'float',\n 'float16',\n 'float32',\n 'float64',\n 'float_power',\n 'floor',\n 'floor_',\n 'floor_divide',\n 'fmax',\n 'fmin',\n 'fmod',\n 'fork',\n 'frac',\n 'frac_',\n 'frexp',\n 'frobenius_norm',\n 'from_dlpack',\n 'from_file',\n 'from_numpy',\n 'frombuffer',\n 'full',\n 'full_like',\n 'functional',\n 'fused_moving_avg_obs_fake_quant',\n 'futures',\n 'fx',\n 'gather',\n 'gcd',\n 'gcd_',\n 'ge',\n 'geqrf',\n 'ger',\n 'get_autocast_cpu_dtype',\n 'get_autocast_gpu_dtype',\n 'get_default_dtype',\n 'get_deterministic_debug_mode',\n 'get_device',\n 'get_file_path',\n 'get_float32_matmul_precision',\n 'get_num_interop_threads',\n 'get_num_threads',\n 'get_rng_state',\n 'gradient',\n 'greater',\n 'greater_equal',\n 'grid_sampler',\n 'grid_sampler_2d',\n 'grid_sampler_3d',\n 'group_norm',\n 'gru',\n 'gru_cell',\n 'gt',\n 'half',\n 'hamming_window',\n 'hann_window',\n 'hardshrink',\n 'has_cuda',\n 'has_cudnn',\n 'has_lapack',\n 'has_mkl',\n 'has_mkldnn',\n 'has_mps',\n 'has_openmp',\n 'has_spectral',\n 'heaviside',\n 'hinge_embedding_loss',\n 'histc',\n 'histogram',\n 'histogramdd',\n 'hsmm',\n 'hsplit',\n 'hspmm',\n 'hstack',\n 'hub',\n 'hypot',\n 'i0',\n 'i0_',\n 'igamma',\n 'igammac',\n 'iinfo',\n 'imag',\n 'import_ir_module',\n 'import_ir_module_from_buffer',\n 'index_add',\n 'index_copy',\n 'index_fill',\n 'index_put',\n 'index_put_',\n 'index_reduce',\n 'index_select',\n 'indices_copy',\n 'inf',\n 'inference_mode',\n 'init_num_threads',\n 'initial_seed',\n 'inner',\n 'inspect',\n 'instance_norm',\n 'int',\n 'int16',\n 'int32',\n 'int64',\n 'int8',\n 'int_repr',\n 'inverse',\n 'is_anomaly_check_nan_enabled',\n 'is_anomaly_enabled',\n 'is_autocast_cache_enabled',\n 'is_autocast_cpu_enabled',\n 'is_autocast_enabled',\n 'is_complex',\n 'is_conj',\n 'is_deterministic_algorithms_warn_only_enabled',\n 'is_distributed',\n 'is_floating_point',\n 'is_grad_enabled',\n 'is_inference',\n 'is_inference_mode_enabled',\n 'is_neg',\n 'is_nonzero',\n 'is_same_size',\n 'is_signed',\n 'is_storage',\n 'is_tensor',\n 'is_vulkan_available',\n 'is_warn_always_enabled',\n 'isclose',\n 'isfinite',\n 'isin',\n 'isinf',\n 'isnan',\n 'isneginf',\n 'isposinf',\n 'isreal',\n 'istft',\n 'jit',\n 'kaiser_window',\n 'kl_div',\n 'kron',\n 'kthvalue',\n 'layer_norm',\n 'layout',\n 'lcm',\n 'lcm_',\n 'ldexp',\n 'ldexp_',\n 'le',\n 'legacy_contiguous_format',\n 'lerp',\n 'less',\n 'less_equal',\n 'lgamma',\n 'library',\n 'linalg',\n 'linspace',\n 'load',\n 'lobpcg',\n 'log',\n 'log10',\n 'log10_',\n 'log1p',\n 'log1p_',\n 'log2',\n 'log2_',\n 'log_',\n 'log_softmax',\n 'logaddexp',\n 'logaddexp2',\n 'logcumsumexp',\n 'logdet',\n 'logical_and',\n 'logical_not',\n 'logical_or',\n 'logical_xor',\n 'logit',\n 'logit_',\n 'logspace',\n 'logsumexp',\n 'long',\n 'lstm',\n 'lstm_cell',\n 'lstsq',\n 'lt',\n 'lu',\n 'lu_solve',\n 'lu_unpack',\n 'manual_seed',\n 'margin_ranking_loss',\n 'masked',\n 'masked_fill',\n 'masked_scatter',\n 'masked_select',\n 'matmul',\n 'matrix_exp',\n 'matrix_power',\n 'matrix_rank',\n 'max',\n 'max_pool1d',\n 'max_pool1d_with_indices',\n 'max_pool2d',\n 'max_pool3d',\n 'maximum',\n 'mean',\n 'median',\n 'memory_format',\n 'merge_type_from_type_comment',\n 'meshgrid',\n 'min',\n 'minimum',\n 'miopen_batch_norm',\n 'miopen_convolution',\n 'miopen_convolution_add_relu',\n 'miopen_convolution_relu',\n 'miopen_convolution_transpose',\n 'miopen_depthwise_convolution',\n 'miopen_rnn',\n 'mkldnn_adaptive_avg_pool2d',\n 'mkldnn_convolution',\n 'mkldnn_linear_backward_weights',\n 'mkldnn_max_pool2d',\n 'mkldnn_max_pool3d',\n 'mm',\n 'mode',\n 'moveaxis',\n 'movedim',\n 'msort',\n 'mul',\n 'multinomial',\n 'multiply',\n 'multiprocessing',\n 'mv',\n 'mvlgamma',\n 'name',\n 'nan',\n 'nan_to_num',\n 'nan_to_num_',\n 'nanmean',\n 'nanmedian',\n 'nanquantile',\n 'nansum',\n 'narrow',\n 'narrow_copy',\n 'native_batch_norm',\n 'native_channel_shuffle',\n 'native_dropout',\n 'native_group_norm',\n 'native_layer_norm',\n 'native_norm',\n 'ne',\n 'neg',\n 'neg_',\n 'negative',\n 'negative_',\n 'nested',\n 'nextafter',\n 'nn',\n 'no_grad',\n 'nonzero',\n 'norm',\n 'norm_except_dim',\n 'normal',\n 'not_equal',\n 'nuclear_norm',\n 'numel',\n 'obj',\n 'ones',\n 'ones_like',\n 'onnx',\n 'ops',\n 'optim',\n 'orgqr',\n 'ormqr',\n 'os',\n 'outer',\n 'overrides',\n 'package',\n 'pairwise_distance',\n 'parse_ir',\n 'parse_schema',\n 'parse_type_comment',\n 'pca_lowrank',\n 'pdist',\n 'per_channel_affine',\n 'per_channel_affine_float_qparams',\n 'per_channel_symmetric',\n 'per_tensor_affine',\n 'per_tensor_symmetric',\n 'permute',\n 'permute_copy',\n 'pi',\n ...]"
     },
     "execution_count": 6,
     "metadata": {},
     "output_type": "execute_result"
    }
   ],
   "source": [
    "import torch\n",
    "dir(torch)"
   ],
   "metadata": {
    "collapsed": false,
    "pycharm": {
     "name": "#%%\n"
    }
   }
  },
  {
   "cell_type": "code",
   "execution_count": 7,
   "outputs": [
    {
     "data": {
      "text/plain": "['__abs__',\n '__add__',\n '__and__',\n '__bool__',\n '__ceil__',\n '__class__',\n '__delattr__',\n '__dir__',\n '__divmod__',\n '__doc__',\n '__eq__',\n '__float__',\n '__floor__',\n '__floordiv__',\n '__format__',\n '__ge__',\n '__getattribute__',\n '__getnewargs__',\n '__gt__',\n '__hash__',\n '__index__',\n '__init__',\n '__init_subclass__',\n '__int__',\n '__invert__',\n '__le__',\n '__lshift__',\n '__lt__',\n '__mod__',\n '__mul__',\n '__ne__',\n '__neg__',\n '__new__',\n '__or__',\n '__pos__',\n '__pow__',\n '__radd__',\n '__rand__',\n '__rdivmod__',\n '__reduce__',\n '__reduce_ex__',\n '__repr__',\n '__rfloordiv__',\n '__rlshift__',\n '__rmod__',\n '__rmul__',\n '__ror__',\n '__round__',\n '__rpow__',\n '__rrshift__',\n '__rshift__',\n '__rsub__',\n '__rtruediv__',\n '__rxor__',\n '__setattr__',\n '__sizeof__',\n '__str__',\n '__sub__',\n '__subclasshook__',\n '__truediv__',\n '__trunc__',\n '__xor__',\n 'as_integer_ratio',\n 'bit_count',\n 'bit_length',\n 'conjugate',\n 'denominator',\n 'from_bytes',\n 'imag',\n 'numerator',\n 'real',\n 'to_bytes']"
     },
     "execution_count": 7,
     "metadata": {},
     "output_type": "execute_result"
    }
   ],
   "source": [
    "dir(torch.cuda.is_available())"
   ],
   "metadata": {
    "collapsed": false,
    "pycharm": {
     "name": "#%%\n"
    }
   }
  },
  {
   "cell_type": "markdown",
   "source": [
    "### help()函数\n",
    "help() 函数用于查看函数或模块用途的详细说明。"
   ],
   "metadata": {
    "collapsed": false,
    "pycharm": {
     "name": "#%% md\n"
    }
   }
  },
  {
   "cell_type": "code",
   "execution_count": 3,
   "outputs": [
    {
     "name": "stdout",
     "output_type": "stream",
     "text": [
      "Help on built-in module sys:\n",
      "\n",
      "NAME\n",
      "    sys\n",
      "\n",
      "MODULE REFERENCE\n",
      "    https://docs.python.org/3.10/library/sys.html\n",
      "    \n",
      "    The following documentation is automatically generated from the Python\n",
      "    source files.  It may be incomplete, incorrect or include features that\n",
      "    are considered implementation detail and may vary between Python\n",
      "    implementations.  When in doubt, consult the module reference at the\n",
      "    location listed above.\n",
      "\n",
      "DESCRIPTION\n",
      "    This module provides access to some objects used or maintained by the\n",
      "    interpreter and to functions that interact strongly with the interpreter.\n",
      "    \n",
      "    Dynamic objects:\n",
      "    \n",
      "    argv -- command line arguments; argv[0] is the script pathname if known\n",
      "    path -- module search path; path[0] is the script directory, else ''\n",
      "    modules -- dictionary of loaded modules\n",
      "    \n",
      "    displayhook -- called to show results in an interactive session\n",
      "    excepthook -- called to handle any uncaught exception other than SystemExit\n",
      "      To customize printing in an interactive session or to install a custom\n",
      "      top-level exception handler, assign other functions to replace these.\n",
      "    \n",
      "    stdin -- standard input file object; used by input()\n",
      "    stdout -- standard output file object; used by print()\n",
      "    stderr -- standard error object; used for error messages\n",
      "      By assigning other file objects (or objects that behave like files)\n",
      "      to these, it is possible to redirect all of the interpreter's I/O.\n",
      "    \n",
      "    last_type -- type of last uncaught exception\n",
      "    last_value -- value of last uncaught exception\n",
      "    last_traceback -- traceback of last uncaught exception\n",
      "      These three are only available in an interactive session after a\n",
      "      traceback has been printed.\n",
      "    \n",
      "    Static objects:\n",
      "    \n",
      "    builtin_module_names -- tuple of module names built into this interpreter\n",
      "    copyright -- copyright notice pertaining to this interpreter\n",
      "    exec_prefix -- prefix used to find the machine-specific Python library\n",
      "    executable -- absolute path of the executable binary of the Python interpreter\n",
      "    float_info -- a named tuple with information about the float implementation.\n",
      "    float_repr_style -- string indicating the style of repr() output for floats\n",
      "    hash_info -- a named tuple with information about the hash algorithm.\n",
      "    hexversion -- version information encoded as a single integer\n",
      "    implementation -- Python implementation information.\n",
      "    int_info -- a named tuple with information about the int implementation.\n",
      "    maxsize -- the largest supported length of containers.\n",
      "    maxunicode -- the value of the largest Unicode code point\n",
      "    platform -- platform identifier\n",
      "    prefix -- prefix used to find the Python library\n",
      "    thread_info -- a named tuple with information about the thread implementation.\n",
      "    version -- the version of this interpreter as a string\n",
      "    version_info -- version information as a named tuple\n",
      "    __stdin__ -- the original stdin; don't touch!\n",
      "    __stdout__ -- the original stdout; don't touch!\n",
      "    __stderr__ -- the original stderr; don't touch!\n",
      "    __displayhook__ -- the original displayhook; don't touch!\n",
      "    __excepthook__ -- the original excepthook; don't touch!\n",
      "    \n",
      "    Functions:\n",
      "    \n",
      "    displayhook() -- print an object to the screen, and save it in builtins._\n",
      "    excepthook() -- print an exception and its traceback to sys.stderr\n",
      "    exc_info() -- return thread-safe information about the current exception\n",
      "    exit() -- exit the interpreter by raising SystemExit\n",
      "    getdlopenflags() -- returns flags to be used for dlopen() calls\n",
      "    getprofile() -- get the global profiling function\n",
      "    getrefcount() -- return the reference count for an object (plus one :-)\n",
      "    getrecursionlimit() -- return the max recursion depth for the interpreter\n",
      "    getsizeof() -- return the size of an object in bytes\n",
      "    gettrace() -- get the global debug tracing function\n",
      "    setdlopenflags() -- set the flags to be used for dlopen() calls\n",
      "    setprofile() -- set the global profiling function\n",
      "    setrecursionlimit() -- set the max recursion depth for the interpreter\n",
      "    settrace() -- set the global debug tracing function\n",
      "\n",
      "FUNCTIONS\n",
      "    __breakpointhook__ = breakpointhook(...)\n",
      "        breakpointhook(*args, **kws)\n",
      "        \n",
      "        This hook function is called by built-in breakpoint().\n",
      "    \n",
      "    __displayhook__ = displayhook(object, /)\n",
      "        Print an object to sys.stdout and also save it in builtins._\n",
      "    \n",
      "    __excepthook__ = excepthook(exctype, value, traceback, /)\n",
      "        Handle an exception by displaying it with a traceback on sys.stderr.\n",
      "    \n",
      "    __unraisablehook__ = unraisablehook(unraisable, /)\n",
      "        Handle an unraisable exception.\n",
      "        \n",
      "        The unraisable argument has the following attributes:\n",
      "        \n",
      "        * exc_type: Exception type.\n",
      "        * exc_value: Exception value, can be None.\n",
      "        * exc_traceback: Exception traceback, can be None.\n",
      "        * err_msg: Error message, can be None.\n",
      "        * object: Object causing the exception, can be None.\n",
      "    \n",
      "    addaudithook(hook)\n",
      "        Adds a new audit hook callback.\n",
      "    \n",
      "    audit(...)\n",
      "        audit(event, *args)\n",
      "        \n",
      "        Passes the event to any audit hooks that are attached.\n",
      "    \n",
      "    call_tracing(func, args, /)\n",
      "        Call func(*args), while tracing is enabled.\n",
      "        \n",
      "        The tracing state is saved, and restored afterwards.  This is intended\n",
      "        to be called from a debugger from a checkpoint, to recursively debug\n",
      "        some other code.\n",
      "    \n",
      "    exc_info()\n",
      "        Return current exception information: (type, value, traceback).\n",
      "        \n",
      "        Return information about the most recent exception caught by an except\n",
      "        clause in the current stack frame or in an older stack frame.\n",
      "    \n",
      "    exit(status=None, /)\n",
      "        Exit the interpreter by raising SystemExit(status).\n",
      "        \n",
      "        If the status is omitted or None, it defaults to zero (i.e., success).\n",
      "        If the status is an integer, it will be used as the system exit status.\n",
      "        If it is another kind of object, it will be printed and the system\n",
      "        exit status will be one (i.e., failure).\n",
      "    \n",
      "    get_asyncgen_hooks()\n",
      "        Return the installed asynchronous generators hooks.\n",
      "        \n",
      "        This returns a namedtuple of the form (firstiter, finalizer).\n",
      "    \n",
      "    get_coroutine_origin_tracking_depth()\n",
      "        Check status of origin tracking for coroutine objects in this thread.\n",
      "    \n",
      "    get_int_max_str_digits()\n",
      "        Set the maximum string digits limit for non-binary int<->str conversions.\n",
      "    \n",
      "    getallocatedblocks()\n",
      "        Return the number of memory blocks currently allocated.\n",
      "    \n",
      "    getdefaultencoding()\n",
      "        Return the current default encoding used by the Unicode implementation.\n",
      "    \n",
      "    getdlopenflags()\n",
      "        Return the current value of the flags that are used for dlopen calls.\n",
      "        \n",
      "        The flag constants are defined in the os module.\n",
      "    \n",
      "    getfilesystemencodeerrors()\n",
      "        Return the error mode used Unicode to OS filename conversion.\n",
      "    \n",
      "    getfilesystemencoding()\n",
      "        Return the encoding used to convert Unicode filenames to OS filenames.\n",
      "    \n",
      "    getprofile()\n",
      "        Return the profiling function set with sys.setprofile.\n",
      "        \n",
      "        See the profiler chapter in the library manual.\n",
      "    \n",
      "    getrecursionlimit()\n",
      "        Return the current value of the recursion limit.\n",
      "        \n",
      "        The recursion limit is the maximum depth of the Python interpreter\n",
      "        stack.  This limit prevents infinite recursion from causing an overflow\n",
      "        of the C stack and crashing Python.\n",
      "    \n",
      "    getrefcount(object, /)\n",
      "        Return the reference count of object.\n",
      "        \n",
      "        The count returned is generally one higher than you might expect,\n",
      "        because it includes the (temporary) reference as an argument to\n",
      "        getrefcount().\n",
      "    \n",
      "    getsizeof(...)\n",
      "        getsizeof(object [, default]) -> int\n",
      "        \n",
      "        Return the size of object in bytes.\n",
      "    \n",
      "    getswitchinterval()\n",
      "        Return the current thread switch interval; see sys.setswitchinterval().\n",
      "    \n",
      "    gettrace()\n",
      "        Return the global debug tracing function set with sys.settrace.\n",
      "        \n",
      "        See the debugger chapter in the library manual.\n",
      "    \n",
      "    intern(string, /)\n",
      "        ``Intern'' the given string.\n",
      "        \n",
      "        This enters the string in the (global) table of interned strings whose\n",
      "        purpose is to speed up dictionary lookups. Return the string itself or\n",
      "        the previously interned string object with the same value.\n",
      "    \n",
      "    is_finalizing()\n",
      "        Return True if Python is exiting.\n",
      "    \n",
      "    set_asyncgen_hooks(...)\n",
      "        set_asyncgen_hooks(* [, firstiter] [, finalizer])\n",
      "        \n",
      "        Set a finalizer for async generators objects.\n",
      "    \n",
      "    set_coroutine_origin_tracking_depth(depth)\n",
      "        Enable or disable origin tracking for coroutine objects in this thread.\n",
      "        \n",
      "        Coroutine objects will track 'depth' frames of traceback information\n",
      "        about where they came from, available in their cr_origin attribute.\n",
      "        \n",
      "        Set a depth of 0 to disable.\n",
      "    \n",
      "    set_int_max_str_digits(maxdigits)\n",
      "        Set the maximum string digits limit for non-binary int<->str conversions.\n",
      "    \n",
      "    setdlopenflags(flags, /)\n",
      "        Set the flags used by the interpreter for dlopen calls.\n",
      "        \n",
      "        This is used, for example, when the interpreter loads extension\n",
      "        modules. Among other things, this will enable a lazy resolving of\n",
      "        symbols when importing a module, if called as sys.setdlopenflags(0).\n",
      "        To share symbols across extension modules, call as\n",
      "        sys.setdlopenflags(os.RTLD_GLOBAL).  Symbolic names for the flag\n",
      "        modules can be found in the os module (RTLD_xxx constants, e.g.\n",
      "        os.RTLD_LAZY).\n",
      "    \n",
      "    setprofile(...)\n",
      "        setprofile(function)\n",
      "        \n",
      "        Set the profiling function.  It will be called on each function call\n",
      "        and return.  See the profiler chapter in the library manual.\n",
      "    \n",
      "    setrecursionlimit(limit, /)\n",
      "        Set the maximum depth of the Python interpreter stack to n.\n",
      "        \n",
      "        This limit prevents infinite recursion from causing an overflow of the C\n",
      "        stack and crashing Python.  The highest possible limit is platform-\n",
      "        dependent.\n",
      "    \n",
      "    setswitchinterval(interval, /)\n",
      "        Set the ideal thread switching delay inside the Python interpreter.\n",
      "        \n",
      "        The actual frequency of switching threads can be lower if the\n",
      "        interpreter executes long sequences of uninterruptible code\n",
      "        (this is implementation-specific and workload-dependent).\n",
      "        \n",
      "        The parameter must represent the desired switching delay in seconds\n",
      "        A typical value is 0.005 (5 milliseconds).\n",
      "    \n",
      "    settrace(...)\n",
      "        settrace(function)\n",
      "        \n",
      "        Set the global debug tracing function.  It will be called on each\n",
      "        function call.  See the debugger chapter in the library manual.\n",
      "    \n",
      "    unraisablehook(unraisable, /)\n",
      "        Handle an unraisable exception.\n",
      "        \n",
      "        The unraisable argument has the following attributes:\n",
      "        \n",
      "        * exc_type: Exception type.\n",
      "        * exc_value: Exception value, can be None.\n",
      "        * exc_traceback: Exception traceback, can be None.\n",
      "        * err_msg: Error message, can be None.\n",
      "        * object: Object causing the exception, can be None.\n",
      "\n",
      "DATA\n",
      "    __stderr__ = <_io.TextIOWrapper name='<stderr>' mode='w' encoding='utf...\n",
      "    __stdin__ = <_io.TextIOWrapper name='<stdin>' mode='r' encoding='utf-8...\n",
      "    __stdout__ = <_io.TextIOWrapper name='<stdout>' mode='w' encoding='utf...\n",
      "    abiflags = ''\n",
      "    api_version = 1013\n",
      "    argv = ['/home/zhang/anaconda3/envs/pytorch/lib/python3.10/site-packag...\n",
      "    base_exec_prefix = '/home/zhang/anaconda3/envs/pytorch'\n",
      "    base_prefix = '/home/zhang/anaconda3/envs/pytorch'\n",
      "    builtin_module_names = ('_abc', '_ast', '_codecs', '_collections', '_f...\n",
      "    byteorder = 'little'\n",
      "    copyright = 'Copyright (c) 2001-2022 Python Software Foundati...ematis...\n",
      "    displayhook = <ipykernel.displayhook.ZMQShellDisplayHook object>\n",
      "    dont_write_bytecode = False\n",
      "    exec_prefix = '/home/zhang/anaconda3/envs/pytorch'\n",
      "    executable = '/home/zhang/anaconda3/envs/pytorch/bin/python'\n",
      "    flags = sys.flags(debug=0, inspect=0, interactive=0, opt..., warn_defa...\n",
      "    float_info = sys.float_info(max=1.7976931348623157e+308, max_...epsilo...\n",
      "    float_repr_style = 'short'\n",
      "    hash_info = sys.hash_info(width=64, modulus=2305843009213693...iphash2...\n",
      "    hexversion = 50989296\n",
      "    implementation = namespace(name='cpython', cache_tag='cpython-310...xv...\n",
      "    int_info = sys.int_info(bits_per_digit=30, sizeof_digit=4, ..._str_dig...\n",
      "    maxsize = 9223372036854775807\n",
      "    maxunicode = 1114111\n",
      "    meta_path = [<_distutils_hack.DistutilsMetaFinder object>, <class '_fr...\n",
      "    modules = {'IPython': <module 'IPython' from '/home/zhang/anaconda3/en...\n",
      "    orig_argv = ['/home/zhang/anaconda3/envs/pytorch/bin/python', '-m', 'i...\n",
      "    path = ['/home/zhang/workspace/IDEs/pycharm-professional-...2021.3.3/p...\n",
      "    path_hooks = [<class 'zipimport.zipimporter'>, <function FileFinder.pa...\n",
      "    path_importer_cache = {'/home/zhang/PycharmProjects/d2l': FileFinder('...\n",
      "    platform = 'linux'\n",
      "    platlibdir = 'lib'\n",
      "    prefix = '/home/zhang/anaconda3/envs/pytorch'\n",
      "    ps1 = 'In : '\n",
      "    ps2 = '...: '\n",
      "    ps3 = 'Out: '\n",
      "    pycache_prefix = None\n",
      "    stderr = <ipykernel.iostream.OutStream object>\n",
      "    stdin = <_io.TextIOWrapper name='<stdin>' mode='r' encoding='utf-8'>\n",
      "    stdlib_module_names = frozenset({'__future__', '_abc', '_aix_support',...\n",
      "    stdout = <ipykernel.iostream.OutStream object>\n",
      "    thread_info = sys.thread_info(name='pthread', lock='semaphore', versio...\n",
      "    version = '3.10.8 (main, Nov 24 2022, 14:13:03) [GCC 11.2.0]'\n",
      "    version_info = sys.version_info(major=3, minor=10, micro=8, releaselev...\n",
      "    warnoptions = []\n",
      "\n",
      "FILE\n",
      "    (built-in)\n",
      "\n",
      "\n"
     ]
    }
   ],
   "source": [
    "help('sys')  # 查看 sys 模块的帮助"
   ],
   "metadata": {
    "collapsed": false,
    "pycharm": {
     "name": "#%%\n"
    }
   }
  },
  {
   "cell_type": "code",
   "execution_count": 4,
   "outputs": [
    {
     "name": "stdout",
     "output_type": "stream",
     "text": [
      "Help on list object:\n",
      "\n",
      "class list(object)\n",
      " |  list(iterable=(), /)\n",
      " |  \n",
      " |  Built-in mutable sequence.\n",
      " |  \n",
      " |  If no argument is given, the constructor creates a new empty list.\n",
      " |  The argument must be an iterable if specified.\n",
      " |  \n",
      " |  Methods defined here:\n",
      " |  \n",
      " |  __add__(self, value, /)\n",
      " |      Return self+value.\n",
      " |  \n",
      " |  __contains__(self, key, /)\n",
      " |      Return key in self.\n",
      " |  \n",
      " |  __delitem__(self, key, /)\n",
      " |      Delete self[key].\n",
      " |  \n",
      " |  __eq__(self, value, /)\n",
      " |      Return self==value.\n",
      " |  \n",
      " |  __ge__(self, value, /)\n",
      " |      Return self>=value.\n",
      " |  \n",
      " |  __getattribute__(self, name, /)\n",
      " |      Return getattr(self, name).\n",
      " |  \n",
      " |  __getitem__(...)\n",
      " |      x.__getitem__(y) <==> x[y]\n",
      " |  \n",
      " |  __gt__(self, value, /)\n",
      " |      Return self>value.\n",
      " |  \n",
      " |  __iadd__(self, value, /)\n",
      " |      Implement self+=value.\n",
      " |  \n",
      " |  __imul__(self, value, /)\n",
      " |      Implement self*=value.\n",
      " |  \n",
      " |  __init__(self, /, *args, **kwargs)\n",
      " |      Initialize self.  See help(type(self)) for accurate signature.\n",
      " |  \n",
      " |  __iter__(self, /)\n",
      " |      Implement iter(self).\n",
      " |  \n",
      " |  __le__(self, value, /)\n",
      " |      Return self<=value.\n",
      " |  \n",
      " |  __len__(self, /)\n",
      " |      Return len(self).\n",
      " |  \n",
      " |  __lt__(self, value, /)\n",
      " |      Return self<value.\n",
      " |  \n",
      " |  __mul__(self, value, /)\n",
      " |      Return self*value.\n",
      " |  \n",
      " |  __ne__(self, value, /)\n",
      " |      Return self!=value.\n",
      " |  \n",
      " |  __repr__(self, /)\n",
      " |      Return repr(self).\n",
      " |  \n",
      " |  __reversed__(self, /)\n",
      " |      Return a reverse iterator over the list.\n",
      " |  \n",
      " |  __rmul__(self, value, /)\n",
      " |      Return value*self.\n",
      " |  \n",
      " |  __setitem__(self, key, value, /)\n",
      " |      Set self[key] to value.\n",
      " |  \n",
      " |  __sizeof__(self, /)\n",
      " |      Return the size of the list in memory, in bytes.\n",
      " |  \n",
      " |  append(self, object, /)\n",
      " |      Append object to the end of the list.\n",
      " |  \n",
      " |  clear(self, /)\n",
      " |      Remove all items from list.\n",
      " |  \n",
      " |  copy(self, /)\n",
      " |      Return a shallow copy of the list.\n",
      " |  \n",
      " |  count(self, value, /)\n",
      " |      Return number of occurrences of value.\n",
      " |  \n",
      " |  extend(self, iterable, /)\n",
      " |      Extend list by appending elements from the iterable.\n",
      " |  \n",
      " |  index(self, value, start=0, stop=9223372036854775807, /)\n",
      " |      Return first index of value.\n",
      " |      \n",
      " |      Raises ValueError if the value is not present.\n",
      " |  \n",
      " |  insert(self, index, object, /)\n",
      " |      Insert object before index.\n",
      " |  \n",
      " |  pop(self, index=-1, /)\n",
      " |      Remove and return item at index (default last).\n",
      " |      \n",
      " |      Raises IndexError if list is empty or index is out of range.\n",
      " |  \n",
      " |  remove(self, value, /)\n",
      " |      Remove first occurrence of value.\n",
      " |      \n",
      " |      Raises ValueError if the value is not present.\n",
      " |  \n",
      " |  reverse(self, /)\n",
      " |      Reverse *IN PLACE*.\n",
      " |  \n",
      " |  sort(self, /, *, key=None, reverse=False)\n",
      " |      Sort the list in ascending order and return None.\n",
      " |      \n",
      " |      The sort is in-place (i.e. the list itself is modified) and stable (i.e. the\n",
      " |      order of two equal elements is maintained).\n",
      " |      \n",
      " |      If a key function is given, apply it once to each list item and sort them,\n",
      " |      ascending or descending, according to their function values.\n",
      " |      \n",
      " |      The reverse flag can be set to sort in descending order.\n",
      " |  \n",
      " |  ----------------------------------------------------------------------\n",
      " |  Class methods defined here:\n",
      " |  \n",
      " |  __class_getitem__(...) from builtins.type\n",
      " |      See PEP 585\n",
      " |  \n",
      " |  ----------------------------------------------------------------------\n",
      " |  Static methods defined here:\n",
      " |  \n",
      " |  __new__(*args, **kwargs) from builtins.type\n",
      " |      Create and return a new object.  See help(type) for accurate signature.\n",
      " |  \n",
      " |  ----------------------------------------------------------------------\n",
      " |  Data and other attributes defined here:\n",
      " |  \n",
      " |  __hash__ = None\n",
      "\n"
     ]
    }
   ],
   "source": [
    "a=[1,2,3]\n",
    "help(a)  # 查看列表 list 帮助信息"
   ],
   "metadata": {
    "collapsed": false,
    "pycharm": {
     "name": "#%%\n"
    }
   }
  },
  {
   "cell_type": "code",
   "execution_count": 5,
   "outputs": [
    {
     "name": "stdout",
     "output_type": "stream",
     "text": [
      "Help on built-in function append:\n",
      "\n",
      "append(object, /) method of builtins.list instance\n",
      "    Append object to the end of the list.\n",
      "\n"
     ]
    }
   ],
   "source": [
    "help(a.append)  # 显示list的append方法的帮助"
   ],
   "metadata": {
    "collapsed": false,
    "pycharm": {
     "name": "#%%\n"
    }
   }
  },
  {
   "cell_type": "code",
   "execution_count": 9,
   "outputs": [
    {
     "name": "stdout",
     "output_type": "stream",
     "text": [
      "Help on function is_available in module torch.cuda:\n",
      "\n",
      "is_available() -> bool\n",
      "    Returns a bool indicating if CUDA is currently available.\n",
      "\n"
     ]
    }
   ],
   "source": [
    "help(torch.cuda.is_available)"
   ],
   "metadata": {
    "collapsed": false,
    "pycharm": {
     "name": "#%%\n"
    }
   }
  },
  {
   "cell_type": "code",
   "execution_count": null,
   "outputs": [],
   "source": [],
   "metadata": {
    "collapsed": false,
    "pycharm": {
     "name": "#%%\n"
    }
   }
  }
 ],
 "metadata": {
  "kernelspec": {
   "display_name": "Python 3",
   "language": "python",
   "name": "python3"
  },
  "language_info": {
   "codemirror_mode": {
    "name": "ipython",
    "version": 2
   },
   "file_extension": ".py",
   "mimetype": "text/x-python",
   "name": "python",
   "nbconvert_exporter": "python",
   "pygments_lexer": "ipython2",
   "version": "2.7.6"
  }
 },
 "nbformat": 4,
 "nbformat_minor": 0
}
