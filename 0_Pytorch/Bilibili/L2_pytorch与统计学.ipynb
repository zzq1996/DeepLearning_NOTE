{
 "cells": [
  {
   "cell_type": "markdown",
   "source": [
    "# 2.Pytorch与统计学\n",
    "## 2.1 Tensor中统计学相关的函数\n",
    "![](imgs/2_1.png)\n",
    "![](imgs/2_2.png)"
   ],
   "metadata": {
    "collapsed": false
   }
  },
  {
   "cell_type": "code",
   "execution_count": 7,
   "outputs": [
    {
     "name": "stdout",
     "output_type": "stream",
     "text": [
      "tensor([[0.0226, 0.2661, 0.3469],\n",
      "        [0.2649, 0.8694, 0.2331]])\n",
      "tensor(0.3339)\n",
      "tensor(2.0031)\n",
      "tensor(0.0001)\n",
      "tensor([0.1437, 0.5678, 0.2900])\n",
      "tensor([0.2875, 1.1356, 0.5801])\n",
      "tensor([0.0060, 0.2314, 0.0809])\n",
      "tensor([1, 1, 0])\n",
      "tensor([0, 0, 1])\n",
      "tensor(0.2840)\n",
      "tensor(0.0807)\n",
      "tensor(0.2649)\n",
      "torch.return_types.mode(\n",
      "values=tensor([0.0226, 0.2331]),\n",
      "indices=tensor([0, 2]))\n"
     ]
    }
   ],
   "source": [
    "import numpy as np\n",
    "import torch\n",
    "\n",
    "a=torch.rand(2,3)\n",
    "print(a)\n",
    "print(torch.mean(a))\n",
    "print(torch.sum(a))\n",
    "print(torch.prod(a))  # 累积\n",
    "print(torch.mean(a,dim=0))\n",
    "print(torch.sum(a,dim=0))\n",
    "print(torch.prod(a,dim=0))\n",
    "print(torch.argmax(a,dim=0))\n",
    "print(torch.argmin(a,dim=0))\n",
    "print(torch.std(a))\n",
    "print(torch.var(a))\n",
    "print(torch.median(a))\n",
    "print(torch.mode(a))"
   ],
   "metadata": {
    "collapsed": false
   }
  },
  {
   "cell_type": "code",
   "execution_count": 8,
   "outputs": [
    {
     "name": "stdout",
     "output_type": "stream",
     "text": [
      "tensor([[1.1815, 6.8949],\n",
      "        [0.4010, 1.2342]])\n",
      "tensor([3., 0., 0., 0., 0., 1.])\n"
     ]
    }
   ],
   "source": [
    "a=torch.rand(2,2)*10\n",
    "print(a)\n",
    "# bins=6:划分6个区间\n",
    "print(torch.histc(a,bins=6,min=0,max=0))"
   ],
   "metadata": {
    "collapsed": false
   }
  },
  {
   "cell_type": "code",
   "execution_count": 9,
   "outputs": [
    {
     "name": "stdout",
     "output_type": "stream",
     "text": [
      "tensor([7, 9, 0, 4, 6, 3, 8, 6, 0, 3])\n",
      "tensor([2, 0, 0, 2, 1, 0, 2, 1, 1, 1])\n"
     ]
    }
   ],
   "source": [
    "a=torch.randint(0,10,[10])\n",
    "print(a)\n",
    "# 只能处理一维tensor，可用来统计某一类别样本的个数\n",
    "print(torch.bincount(a))"
   ],
   "metadata": {
    "collapsed": false
   }
  },
  {
   "cell_type": "markdown",
   "source": [
    "## 2.2 Pytorch与分布函数\n",
    "![](imgs/2_3.png)\n",
    "\n",
    "![](imgs/2_4.png)\n",
    "\n",
    "![](imgs/2_5.png)"
   ],
   "metadata": {
    "collapsed": false
   }
  },
  {
   "cell_type": "code",
   "execution_count": null,
   "outputs": [],
   "source": [],
   "metadata": {
    "collapsed": false
   }
  },
  {
   "cell_type": "markdown",
   "source": [
    "## 2.3 Pytorch与随机抽样\n",
    "![](imgs/2_6.png)"
   ],
   "metadata": {
    "collapsed": false
   }
  },
  {
   "cell_type": "code",
   "execution_count": 14,
   "outputs": [
    {
     "name": "stdout",
     "output_type": "stream",
     "text": [
      "tensor([[0.4279, 1.1912]])\n",
      "tensor([[0.2209, 0.6126]])\n"
     ]
    }
   ],
   "source": [
    "torch.manual_seed(1)\n",
    "mean=torch.rand(1,2)\n",
    "std=torch.rand(1,2)\n",
    "a=torch.normal(mean=std,std=std)\n",
    "print(a)\n",
    "b=torch.normal(mean=std,std=std)\n",
    "print(b)"
   ],
   "metadata": {
    "collapsed": false
   }
  },
  {
   "cell_type": "markdown",
   "source": [
    "## 2.4 Pytorch与线性代数运算\n",
    "\n",
    "### 范数运算\n",
    "\n",
    "![](imgs/2_7.png)"
   ],
   "metadata": {
    "collapsed": false
   }
  },
  {
   "cell_type": "code",
   "execution_count": 17,
   "outputs": [
    {
     "name": "stdout",
     "output_type": "stream",
     "text": [
      "tensor([[0.7981, 0.7718, 0.0112],\n",
      "        [0.8100, 0.6397, 0.9743]])\n",
      "tensor([[0.8300, 0.0444, 0.0246],\n",
      "        [0.2588, 0.9391, 0.4167]])\n",
      "tensor(2.1807)\n",
      "tensor(1.1111)\n",
      "tensor(0.9095)\n",
      "tensor(1.8020)\n",
      "tensor(4.0050)\n"
     ]
    }
   ],
   "source": [
    "a=torch.rand(2,3)\n",
    "b=torch.rand(2,3)\n",
    "\n",
    "print(a)\n",
    "print(b)\n",
    "\n",
    "print(torch.dist(a,b,p=1))\n",
    "print(torch.dist(a,b,p=2))\n",
    "print(torch.dist(a,b,p=3))\n",
    "print(torch.norm(a))  # 计算2范数\n",
    "print(torch.norm(a,p=1))"
   ],
   "metadata": {
    "collapsed": false
   }
  },
  {
   "cell_type": "markdown",
   "source": [
    "### 矩阵分解\n",
    "![](imgs/2_8.png)\n",
    "\n",
    "#### 特征值分解(EVD)\n",
    "![](imgs/2_9.png)\n",
    "\n",
    "#### 奇异值分解(SVD)\n",
    "![](imgs/2_10.png)\n",
    "![](imgs/2_11.png)\n"
   ],
   "metadata": {
    "collapsed": false
   }
  },
  {
   "cell_type": "markdown",
   "source": [
    "## 2.5 Pytorch与矩阵分解\n",
    "![](imgs/2_12.png)"
   ],
   "metadata": {
    "collapsed": false
   }
  },
  {
   "cell_type": "code",
   "execution_count": null,
   "outputs": [],
   "source": [],
   "metadata": {
    "collapsed": false
   }
  },
  {
   "cell_type": "markdown",
   "source": [
    "## 2.6 Pytorch与张量\n",
    "\n",
    "### Tensor的裁剪运算\n",
    "![](imgs/2_13.png)\n"
   ],
   "metadata": {
    "collapsed": false
   }
  },
  {
   "cell_type": "code",
   "execution_count": 20,
   "outputs": [
    {
     "name": "stdout",
     "output_type": "stream",
     "text": [
      "tensor([[2.3459, 6.4705],\n",
      "        [3.5562, 4.4518]])\n",
      "tensor([[2.3459, 5.0000],\n",
      "        [3.5562, 4.4518]])\n"
     ]
    }
   ],
   "source": [
    "a=torch.rand(2,2) * 10\n",
    "print(a)\n",
    "# 小于2取2,大于5取5,其余值不变\n",
    "a=a.clamp(2,5)\n",
    "print(a)"
   ],
   "metadata": {
    "collapsed": false
   }
  },
  {
   "cell_type": "markdown",
   "source": [
    "### Tensor的索引与数据筛选\n",
    "![](imgs/2_14.png)"
   ],
   "metadata": {
    "collapsed": false
   }
  },
  {
   "cell_type": "code",
   "execution_count": 21,
   "outputs": [
    {
     "name": "stdout",
     "output_type": "stream",
     "text": [
      "tensor([[0.0193, 0.2616, 0.7713, 0.3785],\n",
      "        [0.9980, 0.9008, 0.4766, 0.1663],\n",
      "        [0.8045, 0.6552, 0.1768, 0.8248],\n",
      "        [0.8036, 0.9434, 0.2197, 0.4177]])\n",
      "tensor([[0.4903, 0.5730, 0.1205, 0.1452],\n",
      "        [0.7720, 0.3828, 0.7442, 0.5285],\n",
      "        [0.6642, 0.6099, 0.6818, 0.7479],\n",
      "        [0.0369, 0.7517, 0.1484, 0.1227]])\n",
      "tensor([[0.4903, 0.5730, 0.7713, 0.1452],\n",
      "        [0.9980, 0.9008, 0.7442, 0.5285],\n",
      "        [0.8045, 0.6552, 0.6818, 0.8248],\n",
      "        [0.8036, 0.9434, 0.1484, 0.1227]])\n"
     ]
    }
   ],
   "source": [
    "\"\"\"\n",
    "torch.where\n",
    "\"\"\"\n",
    "a=torch.rand(4,4)\n",
    "b=torch.rand(4,4)\n",
    "print(a)\n",
    "print(b)\n",
    "print(torch.where(a>0.5,a,b))\n"
   ],
   "metadata": {
    "collapsed": false
   }
  },
  {
   "cell_type": "code",
   "execution_count": 22,
   "outputs": [
    {
     "name": "stdout",
     "output_type": "stream",
     "text": [
      "tensor([[0.5304, 0.4148, 0.7937, 0.2104],\n",
      "        [0.0555, 0.8639, 0.4259, 0.7812],\n",
      "        [0.6607, 0.1251, 0.6004, 0.6201],\n",
      "        [0.1652, 0.2628, 0.6705, 0.5896]])\n"
     ]
    },
    {
     "data": {
      "text/plain": "tensor([[0.5304, 0.4148, 0.7937, 0.2104],\n        [0.1652, 0.2628, 0.6705, 0.5896],\n        [0.6607, 0.1251, 0.6004, 0.6201]])"
     },
     "execution_count": 22,
     "metadata": {},
     "output_type": "execute_result"
    }
   ],
   "source": [
    "\"\"\"\n",
    "torch.index_select\n",
    "\"\"\"\n",
    "a=torch.rand(4,4)\n",
    "print(a)\n",
    "torch.index_select(a,dim=0,index=torch.tensor([0,3,2]))"
   ],
   "metadata": {
    "collapsed": false
   }
  },
  {
   "cell_type": "code",
   "execution_count": 25,
   "outputs": [
    {
     "name": "stdout",
     "output_type": "stream",
     "text": [
      "tensor([[ 1.,  2.,  3.,  4.],\n",
      "        [ 5.,  6.,  7.,  8.],\n",
      "        [ 9., 10., 11., 12.],\n",
      "        [13., 14., 15., 16.]])\n"
     ]
    },
    {
     "data": {
      "text/plain": "tensor([[ 1.,  6.,  7.,  8.],\n        [ 1.,  6., 11., 12.],\n        [ 1.,  6., 15., 16.]])"
     },
     "execution_count": 25,
     "metadata": {},
     "output_type": "execute_result"
    }
   ],
   "source": [
    "\"\"\"\n",
    "torch.gather\n",
    "\"\"\"\n",
    "a=torch.linspace(1,16,16).view(4,4)  # change shape\n",
    "print(a)\n",
    "\n",
    "# dim=0, out[i,j,k]=input[index[i,j,k],j,k]\n",
    "# dim=1, out[i,j,k]=input[i,index[i,j,k],k]\n",
    "# dim=2, out[i,j,k]=input[i,j,index[i,j,k]]\n",
    "# 其中index为传入参数的索引\n",
    "torch.gather(a,dim=0,index=torch.tensor([[0,1,1,1],\n",
    "                                         [0,1,2,2],\n",
    "                                         [0,1,3,3]]))\n"
   ],
   "metadata": {
    "collapsed": false
   }
  },
  {
   "cell_type": "code",
   "execution_count": 26,
   "outputs": [
    {
     "name": "stdout",
     "output_type": "stream",
     "text": [
      "tensor([[ 1.,  2.,  3.,  4.],\n",
      "        [ 5.,  6.,  7.,  8.],\n",
      "        [ 9., 10., 11., 12.],\n",
      "        [13., 14., 15., 16.]])\n",
      "tensor([[False, False, False, False],\n",
      "        [False, False, False, False],\n",
      "        [ True,  True,  True,  True],\n",
      "        [ True,  True,  True,  True]])\n"
     ]
    },
    {
     "data": {
      "text/plain": "tensor([ 9., 10., 11., 12., 13., 14., 15., 16.])"
     },
     "execution_count": 26,
     "metadata": {},
     "output_type": "execute_result"
    }
   ],
   "source": [
    "\"\"\"\n",
    "torch.maskd_index\n",
    "\"\"\"\n",
    "a=torch.linspace(1,16,16).view(4,4)\n",
    "mask=torch.gt(a,8)\n",
    "print(a)\n",
    "print(mask)\n",
    "torch.masked_select(a,mask)"
   ],
   "metadata": {
    "collapsed": false
   }
  },
  {
   "cell_type": "code",
   "execution_count": 27,
   "outputs": [
    {
     "data": {
      "text/plain": "tensor([ 1., 16., 14., 11.])"
     },
     "execution_count": 27,
     "metadata": {},
     "output_type": "execute_result"
    }
   ],
   "source": [
    "\"\"\"\n",
    "torch.take\n",
    "\"\"\"\n",
    "torch.take(a,index=torch.tensor([0,15,13,10]))"
   ],
   "metadata": {
    "collapsed": false
   }
  },
  {
   "cell_type": "code",
   "execution_count": 28,
   "outputs": [
    {
     "data": {
      "text/plain": "tensor([[0, 1],\n        [0, 2],\n        [1, 0],\n        [1, 1],\n        [1, 3]])"
     },
     "execution_count": 28,
     "metadata": {},
     "output_type": "execute_result"
    }
   ],
   "source": [
    "\"\"\"\n",
    "torch.nonzero\n",
    "\"\"\"\n",
    "a=torch.tensor([\n",
    "    [0,1,2,0],\n",
    "    [2,3,0,1]\n",
    "])\n",
    "\n",
    "# 取出非0元素索引\n",
    "torch.nonzero(a)\n"
   ],
   "metadata": {
    "collapsed": false
   }
  },
  {
   "cell_type": "markdown",
   "source": [
    "### Tensor的组合/拼接\n",
    "![](imgs/2_15.png)"
   ],
   "metadata": {
    "collapsed": false
   }
  },
  {
   "cell_type": "code",
   "execution_count": 31,
   "outputs": [
    {
     "name": "stdout",
     "output_type": "stream",
     "text": [
      "tensor([[0., 0., 0., 0.],\n",
      "        [0., 0., 0., 0.]])\n",
      "tensor([[1., 1., 1., 1.],\n",
      "        [1., 1., 1., 1.]])\n",
      "tensor([[0., 0., 0., 0.],\n",
      "        [0., 0., 0., 0.],\n",
      "        [1., 1., 1., 1.],\n",
      "        [1., 1., 1., 1.]])\n"
     ]
    },
    {
     "data": {
      "text/plain": "tensor([[0., 0., 0., 0., 1., 1., 1., 1.],\n        [0., 0., 0., 0., 1., 1., 1., 1.]])"
     },
     "execution_count": 31,
     "metadata": {},
     "output_type": "execute_result"
    }
   ],
   "source": [
    "\"\"\"\n",
    "torch.cat\n",
    "\"\"\"\n",
    "a=torch.zeros(2,4)\n",
    "b=torch.ones(2,4)\n",
    "print(a)\n",
    "print(b)\n",
    "print(torch.cat((a,b),dim=0))\n",
    "torch.cat((a,b),dim=1)"
   ],
   "metadata": {
    "collapsed": false
   }
  },
  {
   "cell_type": "code",
   "execution_count": 35,
   "outputs": [
    {
     "name": "stdout",
     "output_type": "stream",
     "text": [
      "tensor([[1., 2., 3.],\n",
      "        [4., 5., 6.]])\n",
      "tensor([[ 7.,  8.,  9.],\n",
      "        [10., 11., 12.]])\n",
      "tensor([[[ 1.,  2.,  3.],\n",
      "         [ 4.,  5.,  6.]],\n",
      "\n",
      "        [[ 7.,  8.,  9.],\n",
      "         [10., 11., 12.]]])\n",
      "torch.Size([2, 2, 3])\n",
      "**********\n",
      "tensor([[[ 1.,  2.,  3.],\n",
      "         [ 7.,  8.,  9.]],\n",
      "\n",
      "        [[ 4.,  5.,  6.],\n",
      "         [10., 11., 12.]]])\n",
      "torch.Size([2, 2, 3])\n",
      "**********\n",
      "tensor([[[ 1.,  7.],\n",
      "         [ 2.,  8.],\n",
      "         [ 3.,  9.]],\n",
      "\n",
      "        [[ 4., 10.],\n",
      "         [ 5., 11.],\n",
      "         [ 6., 12.]]])\n",
      "torch.Size([2, 3, 2])\n"
     ]
    }
   ],
   "source": [
    "\"\"\"\n",
    "torch.stack\n",
    "\"\"\"\n",
    "\n",
    "a=torch.linspace(1,6,6).view(2,3)\n",
    "b=torch.linspace(7,12,6).view(2,3)\n",
    "print(a)\n",
    "print(b)\n",
    "out1=torch.stack((a,b),dim=0)\n",
    "print(out1)\n",
    "print(out1.shape)\n",
    "print('*'*10)\n",
    "out2=torch.stack((a,b),dim=1)\n",
    "print(out2)\n",
    "print(out2.shape)\n",
    "print('*'*10)\n",
    "out3=torch.stack((a,b),dim=2)\n",
    "print(out3)\n",
    "print(out3.shape)"
   ],
   "metadata": {
    "collapsed": false
   }
  },
  {
   "cell_type": "markdown",
   "source": [
    "### Tensor的切片\n",
    "![](imgs/2_16.png)\n"
   ],
   "metadata": {
    "collapsed": false
   }
  },
  {
   "cell_type": "code",
   "execution_count": 42,
   "outputs": [
    {
     "name": "stdout",
     "output_type": "stream",
     "text": [
      "tensor([[0.9891, 0.1500, 0.6211, 0.1303],\n",
      "        [0.9269, 0.3060, 0.8012, 0.5149],\n",
      "        [0.4611, 0.4840, 0.5850, 0.7357]])\n",
      "tensor([[0.9891, 0.1500, 0.6211, 0.1303],\n",
      "        [0.9269, 0.3060, 0.8012, 0.5149]]) torch.Size([2, 4])\n",
      "tensor([[0.4611, 0.4840, 0.5850, 0.7357]]) torch.Size([1, 4])\n"
     ]
    }
   ],
   "source": [
    "a=torch.rand(3,4)\n",
    "print(a)\n",
    "out=torch.chunk(a,2,dim=0)  # 在dim=0切为两片\n",
    "\n",
    "print(out[0],out[0].shape)\n",
    "print(out[1],out[1].shape)\n"
   ],
   "metadata": {
    "collapsed": false
   }
  },
  {
   "cell_type": "code",
   "execution_count": 44,
   "outputs": [
    {
     "name": "stdout",
     "output_type": "stream",
     "text": [
      "4\n",
      "tensor([[0.9408, 0.3302, 0.5224, 0.7230],\n",
      "        [0.5599, 0.2496, 0.7884, 0.8074],\n",
      "        [0.4710, 0.4384, 0.9544, 0.9371]]) torch.Size([3, 4])\n",
      "tensor([[0.2165, 0.9892, 0.6237, 0.1679],\n",
      "        [0.7737, 0.1267, 0.9620, 0.1786],\n",
      "        [0.6414, 0.6523, 0.6189, 0.9147]]) torch.Size([3, 4])\n",
      "tensor([[0.2923, 0.2889, 0.0667, 0.4795],\n",
      "        [0.2631, 0.5200, 0.3975, 0.6659],\n",
      "        [0.9325, 0.6475, 0.3389, 0.2547]]) torch.Size([3, 4])\n",
      "tensor([[0.0639, 0.9207, 0.4053, 0.6009]]) torch.Size([1, 4])\n"
     ]
    }
   ],
   "source": [
    "a=torch.rand(10,4)\n",
    "out=torch.split(a,3,dim=0)\n",
    "print(len(out))\n",
    "for t in out:\n",
    "    print(t,t.shape)"
   ],
   "metadata": {
    "collapsed": false
   }
  },
  {
   "cell_type": "markdown",
   "source": [
    "### Tensor的变形操作\n",
    "\n",
    "![](imgs/2_17.png)\n"
   ],
   "metadata": {
    "collapsed": false
   }
  },
  {
   "cell_type": "code",
   "execution_count": 48,
   "outputs": [
    {
     "name": "stdout",
     "output_type": "stream",
     "text": [
      "tensor([[0.6227, 0.3686, 0.4337],\n",
      "        [0.3092, 0.0431, 0.9361]])\n",
      "tensor([[0.6227, 0.3686],\n",
      "        [0.4337, 0.3092],\n",
      "        [0.0431, 0.9361]])\n",
      "tensor([[0.6227, 0.4337, 0.0431],\n",
      "        [0.3686, 0.3092, 0.9361]])\n",
      "tensor([[0.6227, 0.4337, 0.0431],\n",
      "        [0.3686, 0.3092, 0.9361]])\n"
     ]
    }
   ],
   "source": [
    "a=torch.rand(2,3)\n",
    "print(a)\n",
    "out=torch.reshape(a,(3,2))  # 先将a拉成一维，再reshape\n",
    "print(out)\n",
    "print(torch.t(out))  # 转置\n",
    "print(torch.transpose(out,0,1))  # 交换维度"
   ],
   "metadata": {
    "collapsed": false
   }
  },
  {
   "cell_type": "code",
   "execution_count": 59,
   "outputs": [
    {
     "name": "stdout",
     "output_type": "stream",
     "text": [
      "tensor([[[[0.7020],\n",
      "          [0.6056],\n",
      "          [0.3156]]],\n",
      "\n",
      "\n",
      "        [[[0.9492],\n",
      "          [0.7508],\n",
      "          [0.5628]]]]) torch.Size([2, 1, 3, 1])\n",
      "tensor([[[[0.7020],\n",
      "          [0.6056],\n",
      "          [0.3156]],\n",
      "\n",
      "         [[0.9492],\n",
      "          [0.7508],\n",
      "          [0.5628]]]])\n",
      "tensor([[0.7020, 0.6056, 0.3156],\n",
      "        [0.9492, 0.7508, 0.5628]]) torch.Size([2, 3])\n",
      "tensor([[[[[0.7020]],\n",
      "\n",
      "          [[0.6056]],\n",
      "\n",
      "          [[0.3156]]]],\n",
      "\n",
      "\n",
      "\n",
      "        [[[[0.9492]],\n",
      "\n",
      "          [[0.7508]],\n",
      "\n",
      "          [[0.5628]]]]]) torch.Size([2, 1, 3, 1, 1])\n",
      "(tensor([[[0.7020],\n",
      "         [0.6056],\n",
      "         [0.3156]],\n",
      "\n",
      "        [[0.9492],\n",
      "         [0.7508],\n",
      "         [0.5628]]]),)\n"
     ]
    }
   ],
   "source": [
    "a=torch.rand(2,1,3,1)\n",
    "print(a,a.shape)\n",
    "print(torch.transpose(a,0,1))\n",
    "\n",
    "# 降维，消除所有的1\n",
    "print(torch.squeeze(a),torch.squeeze(a).shape)\n",
    "\n",
    "# 升维，在最后一个维度进行扩展\n",
    "print(torch.unsqueeze(a,dim=-1),torch.unsqueeze(a,dim=-1).shape)\n"
   ],
   "metadata": {
    "collapsed": false
   }
  },
  {
   "cell_type": "code",
   "execution_count": 64,
   "outputs": [
    {
     "name": "stdout",
     "output_type": "stream",
     "text": [
      "tensor([[[[0.7020],\n",
      "          [0.6056],\n",
      "          [0.3156]]],\n",
      "\n",
      "\n",
      "        [[[0.9492],\n",
      "          [0.7508],\n",
      "          [0.5628]]]]) torch.Size([2, 1, 3, 1])\n",
      "(tensor([[[0.7020],\n",
      "         [0.6056],\n",
      "         [0.3156]]]), tensor([[[0.9492],\n",
      "         [0.7508],\n",
      "         [0.5628]]]))\n"
     ]
    }
   ],
   "source": [
    "print(a,a.shape)\n",
    "# 维度删除(返回值为元组)\n",
    "print(torch.unbind(a,dim=0))"
   ],
   "metadata": {
    "collapsed": false
   }
  },
  {
   "cell_type": "code",
   "execution_count": 67,
   "outputs": [
    {
     "name": "stdout",
     "output_type": "stream",
     "text": [
      "tensor([[[[0.5628],\n",
      "          [0.7508],\n",
      "          [0.9492]]],\n",
      "\n",
      "\n",
      "        [[[0.3156],\n",
      "          [0.6056],\n",
      "          [0.7020]]]])\n"
     ]
    }
   ],
   "source": [
    "# 翻转\n",
    "print(a,a.shape)\n",
    "print(torch.flip(a,dims=[0,2]))  # 依次对dim=0,dim=2进行翻转"
   ],
   "metadata": {
    "collapsed": false
   }
  },
  {
   "cell_type": "code",
   "execution_count": 70,
   "outputs": [
    {
     "name": "stdout",
     "output_type": "stream",
     "text": [
      "tensor([[[[0.7020],\n",
      "          [0.6056],\n",
      "          [0.3156]]],\n",
      "\n",
      "\n",
      "        [[[0.9492],\n",
      "          [0.7508],\n",
      "          [0.5628]]]]) torch.Size([2, 1, 3, 1])\n",
      "tensor([[[[0.7020],\n",
      "          [0.6056],\n",
      "          [0.3156]],\n",
      "\n",
      "         [[0.9492],\n",
      "          [0.7508],\n",
      "          [0.5628]]]]) torch.Size([1, 2, 3, 1])\n"
     ]
    }
   ],
   "source": [
    "# 旋转90度\n",
    "print(a,a.shape)\n",
    "print(torch.rot90(a),torch.rot90(a).shape)"
   ],
   "metadata": {
    "collapsed": false
   }
  },
  {
   "cell_type": "markdown",
   "source": [
    "### Tensor的填充操作\n",
    "![](imgs/2_18.png)"
   ],
   "metadata": {
    "collapsed": false
   }
  },
  {
   "cell_type": "markdown",
   "source": [
    "## 2.7 Pytorch与傅里叶变换\n",
    "![](imgs/2_19.png)"
   ],
   "metadata": {
    "collapsed": false
   }
  },
  {
   "cell_type": "markdown",
   "source": [
    "## 2.8 Pytorch简单编程技巧\n",
    "![](imgs/2_20.png)\n",
    "![](imgs/2_21.png)\n",
    "![](imgs/2_22.png)\n",
    "![](imgs/2_23.png)\n",
    "![](imgs/2_24.png)"
   ],
   "metadata": {
    "collapsed": false
   }
  },
  {
   "cell_type": "code",
   "execution_count": 72,
   "outputs": [
    {
     "name": "stdout",
     "output_type": "stream",
     "text": [
      "tensor([[0., 0.],\n",
      "        [0., 0.]], dtype=torch.float64)\n"
     ]
    }
   ],
   "source": [
    "import numpy as np\n",
    "\n",
    "a=np.zeros([2,2])\n",
    "out=torch.from_numpy(a)  # 转为tensor\n",
    "print(out)"
   ],
   "metadata": {
    "collapsed": false
   }
  },
  {
   "cell_type": "code",
   "execution_count": null,
   "outputs": [],
   "source": [],
   "metadata": {
    "collapsed": false
   }
  }
 ],
 "metadata": {
  "kernelspec": {
   "display_name": "Python 3",
   "language": "python",
   "name": "python3"
  },
  "language_info": {
   "codemirror_mode": {
    "name": "ipython",
    "version": 2
   },
   "file_extension": ".py",
   "mimetype": "text/x-python",
   "name": "python",
   "nbconvert_exporter": "python",
   "pygments_lexer": "ipython2",
   "version": "2.7.6"
  }
 },
 "nbformat": 4,
 "nbformat_minor": 0
}
