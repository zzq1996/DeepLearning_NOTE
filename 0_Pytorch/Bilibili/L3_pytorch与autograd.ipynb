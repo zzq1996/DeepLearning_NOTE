{
 "cells": [
  {
   "cell_type": "markdown",
   "source": [
    "# 3.pytorch与autograd导数\n",
    "## 3.1 方向导数\n",
    "![](imgs/3_1.png)"
   ],
   "metadata": {
    "collapsed": false
   }
  },
  {
   "cell_type": "markdown",
   "source": [
    "## 3.2 梯度与机器学习最优解\n",
    "![](imgs/3_2.png)\n",
    "![](imgs/3_3.png)"
   ],
   "metadata": {
    "collapsed": false
   }
  },
  {
   "cell_type": "markdown",
   "source": [
    "## 3.3 Variable is Tensor\n",
    "![](imgs/3_4.png)"
   ],
   "metadata": {
    "collapsed": false
   }
  },
  {
   "cell_type": "markdown",
   "source": [
    "## 3.4 计算梯度\n",
    "![](imgs/3_5.png)"
   ],
   "metadata": {
    "collapsed": false
   }
  },
  {
   "cell_type": "markdown",
   "source": [
    "## 3.5 重要概念\n",
    "### Autograd\n",
    "![](imgs/3_6.png)\n",
    "![](imgs/3_7.png)\n",
    "\n",
    "#### backward()函数\n",
    "![](imgs/3_8.png)\n",
    "![](imgs/3_9.png)\n",
    "\n",
    "#### torch.autograd.grad()函数\n",
    "![](imgs/3_10.png)\n",
    "![](imgs/3_11.png)\n",
    "\n",
    "#### torch.autograd.Function()函数\n",
    "![](imgs/3_12.png)\n"
   ],
   "metadata": {
    "collapsed": false
   }
  },
  {
   "cell_type": "code",
   "execution_count": 3,
   "outputs": [
    {
     "name": "stdout",
     "output_type": "stream",
     "text": [
      "tensor([[0.0148, 0.6699],\n",
      "        [0.0509, 0.1155]], requires_grad=True) tensor([[0.4748, 0.7311],\n",
      "        [0.9404, 0.6416]], requires_grad=True) tensor([[0.1499, 0.8551],\n",
      "        [0.9611, 0.9894]], requires_grad=True)\n",
      "tensor([[0.4748, 0.7311],\n",
      "        [0.9404, 0.6416]]) tensor([[0.0148, 0.6699],\n",
      "        [0.0509, 0.1155]]) tensor([[1., 1.],\n",
      "        [1., 1.]])\n"
     ]
    }
   ],
   "source": [
    "import torch\n",
    "\n",
    "\"\"\"\n",
    "线性计算的前向传播和梯度计算\n",
    "\"\"\"\n",
    "\n",
    "class line(torch.autograd.Function):\n",
    "    @staticmethod\n",
    "    def forward(ctx,w,x,b):\n",
    "        ctx.save_for_backward(w,x,b)\n",
    "        return w*x+b\n",
    "\n",
    "    @staticmethod\n",
    "    def backward(ctx,grad_out):\n",
    "        w,x,b=ctx.saved_tensors\n",
    "        grad_w=grad_out*x\n",
    "        grad_x=grad_out*w\n",
    "        grad_b=grad_out\n",
    "\n",
    "        return grad_w,grad_x,grad_b\n",
    "\n",
    "w=torch.rand(2,2,requires_grad=True)\n",
    "x=torch.rand(2,2,requires_grad=True)\n",
    "b=torch.rand(2,2,requires_grad=True)\n",
    "\n",
    "out=line.apply(w,x,b)\n",
    "out.backward(torch.ones(2,2))\n",
    "\n",
    "print(w,x,b)\n",
    "print(w.grad,x.grad,b.grad)\n"
   ],
   "metadata": {
    "collapsed": false
   }
  },
  {
   "cell_type": "code",
   "execution_count": null,
   "outputs": [],
   "source": [],
   "metadata": {
    "collapsed": false
   }
  },
  {
   "cell_type": "code",
   "execution_count": null,
   "outputs": [],
   "source": [],
   "metadata": {
    "collapsed": false
   }
  }
 ],
 "metadata": {
  "kernelspec": {
   "display_name": "Python 3",
   "language": "python",
   "name": "python3"
  },
  "language_info": {
   "codemirror_mode": {
    "name": "ipython",
    "version": 2
   },
   "file_extension": ".py",
   "mimetype": "text/x-python",
   "name": "python",
   "nbconvert_exporter": "python",
   "pygments_lexer": "ipython2",
   "version": "2.7.6"
  }
 },
 "nbformat": 4,
 "nbformat_minor": 0
}
