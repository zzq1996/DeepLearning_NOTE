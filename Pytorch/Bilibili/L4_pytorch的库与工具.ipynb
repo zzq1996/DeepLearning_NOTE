{
 "cells": [
  {
   "cell_type": "markdown",
   "source": [
    "# 4. pytorch的库与工具\n",
    "## 4.1 torch.nn库\n",
    "![](imgs/4_1.png)\n",
    "\n",
    "### nn.Parameter\n",
    "![](imgs/4_2.png)\n",
    "![](imgs/4_3.png)\n",
    "\n",
    "### nn.Module\n",
    "![](imgs/4_4.png)\n",
    "![](imgs/4_10.png)\n",
    "![](imgs/4_11.png)\n",
    "![](imgs/4_12.png)\n",
    "\n",
    "### nn.functional\n",
    "![](imgs/4_5.png)\n",
    "![](imgs/4_6.png)\n",
    "\n",
    "### nn.Sequential\n",
    "![](imgs/4_7.png)\n",
    "\n",
    "### nn.ModuleList\n",
    "![](imgs/4_8.png)\n",
    "\n",
    "### nn.ModuleDict\n",
    "![](imgs/4_9.png)\n",
    "\n",
    "### state_dict & load_state_dict\n",
    "![](imgs/4_13.png)\n",
    "\n"
   ],
   "metadata": {
    "collapsed": false
   }
  },
  {
   "cell_type": "markdown",
   "source": [
    "## 4.2 Visdom\n",
    "![](imgs/4_14.png)"
   ],
   "metadata": {
    "collapsed": false
   }
  },
  {
   "cell_type": "markdown",
   "source": [
    "## 4.3 tensorboardX\n",
    "![](imgs/4_15.png)"
   ],
   "metadata": {
    "collapsed": false
   }
  },
  {
   "cell_type": "code",
   "execution_count": null,
   "outputs": [],
   "source": [],
   "metadata": {
    "collapsed": false
   }
  },
  {
   "cell_type": "markdown",
   "source": [
    "## 4.4 torchvision\n",
    "![](imgs/4_16.png)"
   ],
   "metadata": {
    "collapsed": false
   }
  },
  {
   "cell_type": "code",
   "execution_count": null,
   "outputs": [],
   "source": [],
   "metadata": {
    "collapsed": false
   }
  },
  {
   "cell_type": "code",
   "execution_count": null,
   "outputs": [],
   "source": [],
   "metadata": {
    "collapsed": false
   }
  },
  {
   "cell_type": "code",
   "execution_count": null,
   "outputs": [],
   "source": [],
   "metadata": {
    "collapsed": false
   }
  }
 ],
 "metadata": {
  "kernelspec": {
   "display_name": "Python 3",
   "language": "python",
   "name": "python3"
  },
  "language_info": {
   "codemirror_mode": {
    "name": "ipython",
    "version": 2
   },
   "file_extension": ".py",
   "mimetype": "text/x-python",
   "name": "python",
   "nbconvert_exporter": "python",
   "pygments_lexer": "ipython2",
   "version": "2.7.6"
  }
 },
 "nbformat": 4,
 "nbformat_minor": 0
}
