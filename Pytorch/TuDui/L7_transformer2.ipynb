{
 "cells": [
  {
   "cell_type": "markdown",
   "source": [
    "# Transformer 一起动手编码学原理\n",
    "\n",
    "[原文链接](https://mp.weixin.qq.com/s/NgUNuWhvp2SqG-XWYv2PGQ)\n"
   ],
   "metadata": {
    "collapsed": false
   }
  },
  {
   "cell_type": "code",
   "execution_count": 16,
   "outputs": [],
   "source": [
    "import torch\n",
    "\n",
    "\n",
    "# device = \"cuda\" if torch.cuda.is_available() else \"cpu\"\n",
    "\n",
    "# Number of GPUs available. Use 0 for CPU mode.\n",
    "ngpu = 1\n",
    "device = torch.device(\"cuda:0\" if (torch.cuda.is_available() and ngpu > 0) else \"cpu\")\n",
    "\n",
    "d_model = 6  # embedding size\n",
    "# d_model = 3  # embedding size\n",
    "d_ff = 12  # feedforward nerual network  dimension\n",
    "d_k = d_v = 3  # dimension of k(same as q) and v\n",
    "n_heads = 2  # number of heads in multihead attention\n",
    "# n_heads = 1  # number of heads in multihead attention【注：为debug更简单，可以先改为1个head】\n",
    "p_drop = 0.1  # propability of dropout\n"
   ],
   "metadata": {
    "collapsed": false,
    "ExecuteTime": {
     "end_time": "2023-09-04T14:38:16.000884762Z",
     "start_time": "2023-09-04T14:38:15.999247104Z"
    }
   }
  },
  {
   "cell_type": "code",
   "execution_count": 17,
   "outputs": [
    {
     "data": {
      "text/plain": "(tensor([[1, 2, 3, 0]], device='cuda:0'),\n tensor([[4, 1, 2, 3]], device='cuda:0'),\n tensor([[1, 2, 3, 0]], device='cuda:0'))"
     },
     "execution_count": 17,
     "metadata": {},
     "output_type": "execute_result"
    }
   ],
   "source": [
    "# 定义词典\n",
    "source_vocab = {'E': 0, '我': 1, '吃': 2, '肉': 3}\n",
    "target_vocab = {'E': 0, 'I': 1, 'eat': 2, 'meat': 3, 'S': 4}\n",
    "\n",
    "# 样本数据\n",
    "encoder_input = torch.LongTensor([[1, 2, 3, 0]]).to(device)  # 我 吃 肉 E, E代表结束词\n",
    "decoder_input = torch.LongTensor([[4, 1, 2, 3]]).to(device)  # S I eat meat, S代表开始词, 并右移一位，用于并行训练\n",
    "target = torch.LongTensor([[1, 2, 3, 0]]).to(device)  # I eat meat E, 翻译目标\n",
    "\n",
    "encoder_input,decoder_input,target"
   ],
   "metadata": {
    "collapsed": false,
    "ExecuteTime": {
     "end_time": "2023-09-04T14:38:17.298070086Z",
     "start_time": "2023-09-04T14:38:17.295534982Z"
    }
   }
  },
  {
   "cell_type": "markdown",
   "source": [
    "## 1.1 ScaledDotProductAttention\n",
    "\n",
    "ScaledDotProductAttention（缩放点积注意力）是自注意力机制的一种。自注意力机制是一种用于计算序列中不同位置之间的关联性的技术。在自注意力机制中，每个位置的表示会根据其他位置的表示进行加权求和，以捕捉全局上下文信息。\n",
    "\n",
    "ScaledDotProductAttention是自注意力机制的一种实现方式。它通过计算查询向量和键向量之间的点积，然后将结果进行缩放，最后与值向量进行加权求和，得到最终的输出。这种机制可以帮助模型在编码输入序列时，自动学习到每个位置与其他位置之间的重要性，从而更好地捕捉序列中的关联信息。\n",
    "\n",
    "![](./imgs/7_1.png)"
   ],
   "metadata": {
    "collapsed": false
   }
  },
  {
   "cell_type": "code",
   "execution_count": 18,
   "outputs": [],
   "source": [
    "import numpy as np\n",
    "from torch import nn\n",
    "\n",
    "\"\"\"\n",
    "Attention\n",
    "\"\"\"\n",
    "\n",
    "class ScaledDotProductAttention(nn.Module):\n",
    "    def __init__(self):\n",
    "        super(ScaledDotProductAttention, self).__init__()\n",
    "\n",
    "    def forward(self, Q, K, V, attn_mask):\n",
    "        # Q、K、V，此时是已经乘过 W(q)、W(k)、W(v) 矩阵\n",
    "\n",
    "        # 如下图，但不用一个个算，矩阵乘法一次搞定\n",
    "        # K.transpose(-1, -2):将最后两个维度交换\n",
    "        scores = torch.matmul(Q, K.transpose(-1, -2)) / np.sqrt(d_k)\n",
    "\n",
    "        # 遮盖区的值设为近0，表示E结尾 or decoder 自我顺序遮盖，注意力丢弃\n",
    "        scores.masked_fill_(attn_mask, -1e9)\n",
    "\n",
    "        # softmax后（遮盖区变为0）\n",
    "        attn = nn.Softmax(dim=-1)(scores)\n",
    "\n",
    "        # 乘积意义：给V带上了注意力信息。prob就是下图z（矩阵计算不用在v1+v2）。\n",
    "        prob = torch.matmul(attn, V)\n",
    "        return prob\n",
    "\n"
   ],
   "metadata": {
    "collapsed": false,
    "ExecuteTime": {
     "end_time": "2023-09-04T14:38:19.435365183Z",
     "start_time": "2023-09-04T14:38:19.434006158Z"
    }
   }
  },
  {
   "cell_type": "markdown",
   "source": [
    "## 1.2 MultiHeadAttention\n",
    "\n",
    "注1：按惯性会想，会有多个head、串行循环计算，不是，多个head是一个张量输入\n",
    "\n",
    "注2：FF 全连接、残差连接、归一化，35、38 行业代码，pytorch框架带来的简化\n"
   ],
   "metadata": {
    "collapsed": false
   }
  },
  {
   "cell_type": "code",
   "execution_count": 19,
   "outputs": [],
   "source": [
    "class MultiHeadAttention(nn.Module):\n",
    "    def __init__(self):\n",
    "        super(MultiHeadAttention, self).__init__()\n",
    "        self.n_heads = n_heads\n",
    "        self.W_Q = nn.Linear(d_model, d_k * n_heads, bias=False)\n",
    "        self.W_K = nn.Linear(d_model, d_k * n_heads, bias=False)\n",
    "        self.W_V = nn.Linear(d_model, d_v * n_heads, bias=False)\n",
    "        self.fc = nn.Linear(d_v * n_heads, d_model, bias=False)  # ff 全连接\n",
    "        self.layer_norm = nn.LayerNorm(d_model)  # normal 归一化\n",
    "\n",
    "    def forward(self, input_Q, input_K, input_V, attn_mask):\n",
    "        # input_Q：1*4*6，每批1句 * 每句4个词 * 每词6长度编码\n",
    "\n",
    "        # residual 先临时保存下：原始值，后面做残差连接加法\n",
    "        # batch:1\n",
    "        residual, batch = input_Q, input_Q.size(0)\n",
    "\n",
    "        # 乘上 W 矩阵。注：W 就是要训练的参数\n",
    "        # 注意：维度从2维变成3维，增加 head 维度，也是一次性并行计算\n",
    "        Q = self.W_Q(input_Q)  # 乘以 W(6*6) 变为 1*4*6\n",
    "\n",
    "        # 切开为2个Head 变为 1*2*4*3 1批 2个Head 4词 3编码\n",
    "        Q = Q.view(batch, -1, n_heads, d_k).transpose(1, 2)\n",
    "\n",
    "\n",
    "        K = self.W_K(input_K).view(batch, -1, n_heads, d_k).transpose(1, 2)\n",
    "        V = self.W_V(input_V).view(batch, -1, n_heads, d_v).transpose(1, 2)\n",
    "\n",
    "        # 1*2*4*4，2个Head的4*4，最后一列为true\n",
    "        # 因为最后一列是 E 结束符\n",
    "        attn_mask = attn_mask.unsqueeze(1).repeat(1, n_heads, 1, 1)\n",
    "\n",
    "        # 返回1*2*4*3，2个头，4*3为带上关注关系的4词\n",
    "        prob = ScaledDotProductAttention()(Q, K, V, attn_mask)\n",
    "\n",
    "        # 把2头重新拼接起来，变为 1*4*6\n",
    "        prob = prob.transpose(1, 2).contiguous()\n",
    "        prob = prob.view(batch, -1, n_heads * d_v).contiguous()\n",
    "\n",
    "        # 全连接层：对多头注意力的输出进行线性变换，从而更好地提取信息\n",
    "        output = self.fc(prob)\n",
    "\n",
    "        # 残差连接 & 归一化\n",
    "        res = self.layer_norm(residual + output) # return 1*4*6\n",
    "        return res"
   ],
   "metadata": {
    "collapsed": false,
    "ExecuteTime": {
     "end_time": "2023-09-04T14:38:21.586351499Z",
     "start_time": "2023-09-04T14:38:21.584938137Z"
    }
   }
  },
  {
   "cell_type": "markdown",
   "source": [
    "## 1.3 Encoder\n",
    "在 attention 概念中，有很关键的 \"遮盖\" 概念，先不细究，你debug一遍会更理解"
   ],
   "metadata": {
    "collapsed": false
   }
  },
  {
   "cell_type": "code",
   "execution_count": 20,
   "outputs": [],
   "source": [
    "def get_attn_pad_mask(seq_q, seq_k):  # 本质是结尾E做注意力遮盖，返回 1*4*4，最后一列为True\n",
    "    batch, len_q = seq_q.size()  # 1, 4\n",
    "    batch, len_k = seq_k.size()  # 1, 4\n",
    "    pad_attn_mask = seq_k.data.eq(0).unsqueeze(1)  # 为0则为true，变为f,f,f,true，意思是把0这个结尾标志为true\n",
    "    return pad_attn_mask.expand(batch, len_q, len_k)  # 扩展为1*4*4，最后一列为true，表示抹掉结尾对应的注意力\n",
    "\n",
    "\n",
    "def get_attn_subsequent_mask(seq):  # decoder的自我顺序注意力遮盖，右上三角形区为true的遮盖\n",
    "    attn_shape = [seq.size(0), seq.size(1), seq.size(1)]\n",
    "    subsequent_mask = np.triu(np.ones(attn_shape), k=1)\n",
    "    subsequent_mask = torch.from_numpy(subsequent_mask)\n",
    "    return subsequent_mask"
   ],
   "metadata": {
    "collapsed": false,
    "ExecuteTime": {
     "end_time": "2023-09-04T14:38:23.280382825Z",
     "start_time": "2023-09-04T14:38:23.279157569Z"
    }
   }
  },
  {
   "cell_type": "code",
   "execution_count": 31,
   "outputs": [],
   "source": [
    "class Encoder(nn.Module):\n",
    "    def __init__(self):\n",
    "        super(Encoder, self).__init__()\n",
    "        self.source_embedding = nn.Embedding(len(source_vocab), d_model)\n",
    "        self.attention = MultiHeadAttention()\n",
    "\n",
    "    def forward(self, encoder_input):\n",
    "        # input 1 * 4，1句话4个单词\n",
    "        # 1 * 4 * 6，将每个单词的整数字编码扩展到6个浮点数编码\n",
    "        embedded = self.source_embedding(encoder_input)\n",
    "        # 1 * 4 * 4 矩阵，最后一列为true，表示忽略结尾词的注意力机制\n",
    "        mask = get_attn_pad_mask(encoder_input, encoder_input).to(device)\n",
    "        # 1*4*6，带上关注力的4个词矩阵\n",
    "        encoder_output = self.attention(embedded, embedded, embedded, mask)\n",
    "        return encoder_output"
   ],
   "metadata": {
    "collapsed": false,
    "ExecuteTime": {
     "end_time": "2023-09-04T14:41:40.997437230Z",
     "start_time": "2023-09-04T14:41:40.996701335Z"
    }
   }
  },
  {
   "cell_type": "markdown",
   "source": [
    "## 1.4 Decoder"
   ],
   "metadata": {
    "collapsed": false
   }
  },
  {
   "cell_type": "code",
   "execution_count": 37,
   "outputs": [],
   "source": [
    "class Decoder(nn.Module):\n",
    "\n",
    "    def __init__(self):\n",
    "        super(Decoder, self).__init__()\n",
    "        self.target_embedding = nn.Embedding(len(target_vocab), d_model)\n",
    "        self.attention = MultiHeadAttention()\n",
    "\n",
    "    # 三入参形状分别为 1*4, 1*4, 1*4*6，前两者未被embedding，注意后面这个是 encoder_output\n",
    "    def forward(self, decoder_input, encoder_input, encoder_output):\n",
    "        # 编码为1*4*6\n",
    "        decoder_embedded = self.target_embedding(decoder_input).to(device)\n",
    "\n",
    "        # 1*4*4 全为false，表示没有结尾词\n",
    "        decoder_self_attn_mask = get_attn_pad_mask(decoder_input, decoder_input).to(device)\n",
    "        # 1*4*4 右上三角区为1，其余为0\n",
    "        decoder_subsequent_mask = get_attn_subsequent_mask(decoder_input).to(device)\n",
    "        # 1*4*4 右上三角区为true，其余为false\n",
    "        decoder_self_mask = torch.gt(decoder_self_attn_mask + decoder_subsequent_mask, 0).to(device)\n",
    "\n",
    "        # 1*4*6 带上注意力的4词矩阵【注：decoder里面，第1个attention】\n",
    "        decoder_output = self.attention(decoder_embedded, decoder_embedded, decoder_embedded, decoder_self_mask).to(device)\n",
    "\n",
    "        # 1*4*4 最后一列为true，表示E结尾词\n",
    "        decoder_encoder_attn_mask = get_attn_pad_mask(decoder_input, encoder_input).to(device)\n",
    "        # 输入均为 1*4*6，Q表示\"S I eat meat\"、K表示\"我吃肉E\"、V表示 \"我吃肉E\"\n",
    "        #【注：decoder里面，第2个attention】\n",
    "        decoder_output = self.attention(decoder_output, encoder_output, encoder_output, decoder_encoder_attn_mask).to(device)\n",
    "\n",
    "        return decoder_output"
   ],
   "metadata": {
    "collapsed": false,
    "ExecuteTime": {
     "end_time": "2023-09-04T14:43:44.276258429Z",
     "start_time": "2023-09-04T14:43:44.233229338Z"
    }
   }
  },
  {
   "cell_type": "markdown",
   "source": [
    "## 1.5 Transformer"
   ],
   "metadata": {
    "collapsed": false
   }
  },
  {
   "cell_type": "code",
   "execution_count": 38,
   "outputs": [],
   "source": [
    "class Transformer(nn.Module):\n",
    "    def __init__(self):\n",
    "        super(Transformer, self).__init__()\n",
    "        self.encoder = Encoder()\n",
    "        self.decoder = Decoder()\n",
    "        self.fc = nn.Linear(d_model, len(target_vocab), bias=False)\n",
    "\n",
    "    def forward(self, encoder_input, decoder_input):\n",
    "        # 入 1*4，出 1*4*6，作用：\"我吃肉E\"，并带上三词间的关注力信息\n",
    "        encoder_output = self.encoder(encoder_input).to(device)\n",
    "        # 入 1*4, 1*4, 1*4*6=encoder_output\n",
    "        decoder_output = self.decoder(decoder_input, encoder_input, encoder_output).to(device)\n",
    "        # 预测出4个词，每个词对应到词典中5个词的概率，如下\n",
    "        # tensor([[[ 0.0755, -0.2646,  0.1279, -0.3735, -0.2351],[-1.2789,  0.6237, -0.6452,  1.1632,  0.6479]]]\n",
    "        decoder_logits = self.fc(decoder_output)\n",
    "        res = decoder_logits.view(-1, decoder_logits.size(-1))\n",
    "        return res"
   ],
   "metadata": {
    "collapsed": false,
    "ExecuteTime": {
     "end_time": "2023-09-04T14:43:46.013096582Z",
     "start_time": "2023-09-04T14:43:46.011644030Z"
    }
   }
  },
  {
   "cell_type": "markdown",
   "source": [
    "## 2. 训练模型"
   ],
   "metadata": {
    "collapsed": false
   }
  },
  {
   "cell_type": "code",
   "execution_count": 39,
   "outputs": [
    {
     "name": "stdout",
     "output_type": "stream",
     "text": [
      "Epoch: 0001 loss = 1.692826\n",
      "Epoch: 0002 loss = 1.207542\n",
      "Epoch: 0003 loss = 0.739193\n",
      "Epoch: 0004 loss = 0.510725\n",
      "Epoch: 0005 loss = 0.323282\n",
      "Epoch: 0006 loss = 0.231275\n",
      "Epoch: 0007 loss = 0.100680\n",
      "Epoch: 0008 loss = 0.054244\n",
      "Epoch: 0009 loss = 0.028504\n",
      "Epoch: 0010 loss = 0.014506\n"
     ]
    }
   ],
   "source": [
    "from torch import optim\n",
    "\n",
    "model = Transformer().to(device)\n",
    "criterion = nn.CrossEntropyLoss()\n",
    "optimizer = optim.Adam(model.parameters(), lr=1e-1)\n",
    "\n",
    "for epoch in range(10):\n",
    "    # 输出4*5，代表预测出4个词，每个词对应到词典中5个词的概率\n",
    "    output = model(encoder_input, decoder_input)\n",
    "    # 和目标词 I eat meat E做差异计算\n",
    "    loss = criterion(output, target.view(-1))\n",
    "    print('Epoch:', '%04d' % (epoch + 1), 'loss =', '{:.6f}'.format(loss))\n",
    "    # 这个3个操作：清零梯度、算法梯度、更新参数\n",
    "    optimizer.zero_grad()\n",
    "    loss.backward()\n",
    "    optimizer.step()"
   ],
   "metadata": {
    "collapsed": false,
    "ExecuteTime": {
     "end_time": "2023-09-04T14:43:47.150851188Z",
     "start_time": "2023-09-04T14:43:47.117022990Z"
    }
   }
  },
  {
   "cell_type": "markdown",
   "source": [
    "## 3. 使用模型"
   ],
   "metadata": {
    "collapsed": false
   }
  },
  {
   "cell_type": "code",
   "execution_count": 40,
   "outputs": [
    {
     "name": "stdout",
     "output_type": "stream",
     "text": [
      "第 0 轮: I\n",
      "第 1 轮: eat\n",
      "第 2 轮: meat\n",
      "第 3 轮: E\n"
     ]
    }
   ],
   "source": [
    "# 预测目标是5个单词\n",
    "target_len = len(target_vocab)\n",
    "# 1*4*6 输入\"我吃肉E\"，先算【自注意力】\n",
    "encoder_output = model.encoder(encoder_input)\n",
    "# 1*5 全是0，表示EEEEE\n",
    "decoder_input = torch.zeros(1, target_len).type_as(encoder_input.data)\n",
    "# 表示S开始字符\n",
    "next_symbol = 4\n",
    "\n",
    "# 5个单词逐个预测【注意：是一个个追加词，不断往后预测的】\n",
    "for i in range(target_len):\n",
    "    # 譬如i=0第一轮，decoder输入为SEEEE，第二轮为S I EEE，把预测 I 给拼上去，继续循环\n",
    "    decoder_input[0][i] = next_symbol\n",
    "    # decoder 输出\n",
    "    decoder_output = model.decoder(decoder_input, encoder_input, encoder_output)\n",
    "    # 负责将解码器的输出映射到目标词汇表，每个元素表示对应目标词汇的分数\n",
    "    # 取出最大的五个词的下标，譬如[1, 3, 3, 3, 3] 表示 i,meat,meat,meat,meat\n",
    "    logits = model.fc(decoder_output).squeeze(0)\n",
    "    prob = logits.max(dim=1, keepdim=False)[1]\n",
    "    next_symbol = prob.data[i].item()  # 只取当前i\n",
    "\n",
    "    for k, v in target_vocab.items():\n",
    "        if v == next_symbol:\n",
    "            print('第', i, '轮:', k)\n",
    "            break\n",
    "\n",
    "    if next_symbol == 0:  # 遇到结尾了，那就完成翻译\n",
    "        break"
   ],
   "metadata": {
    "collapsed": false,
    "ExecuteTime": {
     "end_time": "2023-09-04T14:44:14.040385547Z",
     "start_time": "2023-09-04T14:44:13.999552172Z"
    }
   }
  },
  {
   "cell_type": "code",
   "execution_count": null,
   "outputs": [],
   "source": [],
   "metadata": {
    "collapsed": false
   }
  },
  {
   "cell_type": "code",
   "execution_count": null,
   "outputs": [],
   "source": [],
   "metadata": {
    "collapsed": false
   }
  },
  {
   "cell_type": "code",
   "execution_count": null,
   "outputs": [],
   "source": [],
   "metadata": {
    "collapsed": false
   }
  },
  {
   "cell_type": "code",
   "execution_count": null,
   "outputs": [],
   "source": [],
   "metadata": {
    "collapsed": false
   }
  }
 ],
 "metadata": {
  "kernelspec": {
   "display_name": "Python 3",
   "language": "python",
   "name": "python3"
  },
  "language_info": {
   "codemirror_mode": {
    "name": "ipython",
    "version": 2
   },
   "file_extension": ".py",
   "mimetype": "text/x-python",
   "name": "python",
   "nbconvert_exporter": "python",
   "pygments_lexer": "ipython2",
   "version": "2.7.6"
  }
 },
 "nbformat": 4,
 "nbformat_minor": 0
}
