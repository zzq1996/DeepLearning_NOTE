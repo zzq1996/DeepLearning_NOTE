{
 "cells": [
  {
   "cell_type": "markdown",
   "metadata": {
    "collapsed": true,
    "pycharm": {
     "name": "#%% md\n"
    }
   },
   "source": [
    "# 11.8. RMSProp算法\n",
    "11.7节中的关键问题之一，是学习率按预定时间表$\\mathcal{O}(t^{-\\frac{1}{2}})$显著降低。虽然这通常适用于凸问题，但对于深度学习中遇到的非凸问题，可能并不理想。但是，作为一个预处理器，Adagrad算法按坐标顺序的适应性是非常可取的。\n",
    "\n",
    "`Tieleman.Hinton.2012`建议以RMSProp算法作为将速率调度与坐标自适应学习率分离的简单修复方法。问题在于，Adagrad算法将梯度$\\mathbf{g}_t$的平方累加成状态矢量$\\mathbf{s}_t = \\mathbf{s}_{t-1} + \\mathbf{g}_t^2$。因此，由于缺乏规范化，没有约束力，$\\mathbf{s}_t$持续增长，几乎上是在算法收敛时呈线性递增。\n",
    "\n",
    "解决此问题的一种方法是使用$\\mathbf{s}_t / t$。对于$\\mathbf{g}_t$的合理分布来说，它将收敛。遗憾的是，限制行为生效可能需要很长时间，因为该流程记住了值的完整轨迹。另一种方法是按动量法中的方式使用泄漏平均值，即$\\mathbf{s}_t \\leftarrow \\gamma \\mathbf{s}_{t-1} + (1-\\gamma) \\mathbf{g}_t^2$，其中参数$\\gamma > 0$。保持所有其它部分不变就产生了RMSProp算法。\n",
    "\n",
    "## 11.8.1. 算法\n",
    "\n",
    "让我们详细写出这些方程式。\n",
    "\n",
    "$$\\begin{aligned}\n",
    "    \\mathbf{s}_t & \\leftarrow \\gamma \\mathbf{s}_{t-1} + (1 - \\gamma) \\mathbf{g}_t^2, \\\\\n",
    "    \\mathbf{x}_t & \\leftarrow \\mathbf{x}_{t-1} - \\frac{\\eta}{\\sqrt{\\mathbf{s}_t + \\epsilon}} \\odot \\mathbf{g}_t.\n",
    "\\end{aligned}\n",
    "\\tag{11.8.1}\n",
    "$$\n",
    "\n",
    "常数$\\epsilon > 0$通常设置为$10^{-6}$，以确保我们不会因除以零或步长过大而受到影响。鉴于这种扩展，我们现在可以自由控制学习率$\\eta$，而不考虑基于每个坐标应用的缩放。就泄漏平均值而言，我们可以采用与之前在动量法中适用的相同推理。扩展$\\mathbf{s}_t$定义可获得\n",
    "\n",
    "$$\n",
    "\\begin{aligned}\n",
    "\\mathbf{s}_t & = (1 - \\gamma) \\mathbf{g}_t^2 + \\gamma \\mathbf{s}_{t-1} \\\\\n",
    "& = (1 - \\gamma) \\left(\\mathbf{g}_t^2 + \\gamma \\mathbf{g}_{t-1}^2 + \\gamma^2 \\mathbf{g}_{t-2} + \\ldots, \\right).\n",
    "\\end{aligned}\n",
    "\\tag{11.8.2}\n",
    "$$\n",
    "\n",
    "同之前在11.6小节一样，我们使用$1 + \\gamma + \\gamma^2 + \\ldots, = \\frac{1}{1-\\gamma}$。因此，权重总和标准化为$1$且观测值的半衰期为$\\gamma^{-1}$。让我们图像化各种数值的$\\gamma$在过去40个时间步长的权重。"
   ]
  },
  {
   "cell_type": "code",
   "execution_count": 1,
   "outputs": [
    {
     "data": {
      "text/plain": "<Figure size 350x250 with 1 Axes>",
      "image/svg+xml": "<?xml version=\"1.0\" encoding=\"utf-8\" standalone=\"no\"?>\n<!DOCTYPE svg PUBLIC \"-//W3C//DTD SVG 1.1//EN\"\n  \"http://www.w3.org/Graphics/SVG/1.1/DTD/svg11.dtd\">\n<svg xmlns:xlink=\"http://www.w3.org/1999/xlink\" width=\"234.6408pt\" height=\"183.35625pt\" viewBox=\"0 0 234.6408 183.35625\" xmlns=\"http://www.w3.org/2000/svg\" version=\"1.1\">\n <metadata>\n  <rdf:RDF xmlns:dc=\"http://purl.org/dc/elements/1.1/\" xmlns:cc=\"http://creativecommons.org/ns#\" xmlns:rdf=\"http://www.w3.org/1999/02/22-rdf-syntax-ns#\">\n   <cc:Work>\n    <dc:type rdf:resource=\"http://purl.org/dc/dcmitype/StillImage\"/>\n    <dc:date>2022-10-29T08:52:57.401428</dc:date>\n    <dc:format>image/svg+xml</dc:format>\n    <dc:creator>\n     <cc:Agent>\n      <dc:title>Matplotlib v3.5.1, https://matplotlib.org/</dc:title>\n     </cc:Agent>\n    </dc:creator>\n   </cc:Work>\n  </rdf:RDF>\n </metadata>\n <defs>\n  <style type=\"text/css\">*{stroke-linejoin: round; stroke-linecap: butt}</style>\n </defs>\n <g id=\"figure_1\">\n  <g id=\"patch_1\">\n   <path d=\"M 0 183.35625 \nL 234.6408 183.35625 \nL 234.6408 0 \nL 0 0 \nz\n\" style=\"fill: #ffffff\"/>\n  </g>\n  <g id=\"axes_1\">\n   <g id=\"patch_2\">\n    <path d=\"M 30.103125 145.8 \nL 225.403125 145.8 \nL 225.403125 7.2 \nL 30.103125 7.2 \nz\n\" style=\"fill: #ffffff\"/>\n   </g>\n   <g id=\"matplotlib.axis_1\">\n    <g id=\"xtick_1\">\n     <g id=\"line2d_1\">\n      <defs>\n       <path id=\"m03927546da\" d=\"M 0 0 \nL 0 3.5 \n\" style=\"stroke: #000000; stroke-width: 0.8\"/>\n      </defs>\n      <g>\n       <use xlink:href=\"#m03927546da\" x=\"38.980398\" y=\"145.8\" style=\"stroke: #000000; stroke-width: 0.8\"/>\n      </g>\n     </g>\n     <g id=\"text_1\">\n      <!-- 0 -->\n      <g transform=\"translate(35.799148 160.398438)scale(0.1 -0.1)\">\n       <defs>\n        <path id=\"DejaVuSans-30\" d=\"M 2034 4250 \nQ 1547 4250 1301 3770 \nQ 1056 3291 1056 2328 \nQ 1056 1369 1301 889 \nQ 1547 409 2034 409 \nQ 2525 409 2770 889 \nQ 3016 1369 3016 2328 \nQ 3016 3291 2770 3770 \nQ 2525 4250 2034 4250 \nz\nM 2034 4750 \nQ 2819 4750 3233 4129 \nQ 3647 3509 3647 2328 \nQ 3647 1150 3233 529 \nQ 2819 -91 2034 -91 \nQ 1250 -91 836 529 \nQ 422 1150 422 2328 \nQ 422 3509 836 4129 \nQ 1250 4750 2034 4750 \nz\n\" transform=\"scale(0.015625)\"/>\n       </defs>\n       <use xlink:href=\"#DejaVuSans-30\"/>\n      </g>\n     </g>\n    </g>\n    <g id=\"xtick_2\">\n     <g id=\"line2d_2\">\n      <g>\n       <use xlink:href=\"#m03927546da\" x=\"84.504873\" y=\"145.8\" style=\"stroke: #000000; stroke-width: 0.8\"/>\n      </g>\n     </g>\n     <g id=\"text_2\">\n      <!-- 10 -->\n      <g transform=\"translate(78.142373 160.398438)scale(0.1 -0.1)\">\n       <defs>\n        <path id=\"DejaVuSans-31\" d=\"M 794 531 \nL 1825 531 \nL 1825 4091 \nL 703 3866 \nL 703 4441 \nL 1819 4666 \nL 2450 4666 \nL 2450 531 \nL 3481 531 \nL 3481 0 \nL 794 0 \nL 794 531 \nz\n\" transform=\"scale(0.015625)\"/>\n       </defs>\n       <use xlink:href=\"#DejaVuSans-31\"/>\n       <use xlink:href=\"#DejaVuSans-30\" x=\"63.623047\"/>\n      </g>\n     </g>\n    </g>\n    <g id=\"xtick_3\">\n     <g id=\"line2d_3\">\n      <g>\n       <use xlink:href=\"#m03927546da\" x=\"130.029349\" y=\"145.8\" style=\"stroke: #000000; stroke-width: 0.8\"/>\n      </g>\n     </g>\n     <g id=\"text_3\">\n      <!-- 20 -->\n      <g transform=\"translate(123.666849 160.398438)scale(0.1 -0.1)\">\n       <defs>\n        <path id=\"DejaVuSans-32\" d=\"M 1228 531 \nL 3431 531 \nL 3431 0 \nL 469 0 \nL 469 531 \nQ 828 903 1448 1529 \nQ 2069 2156 2228 2338 \nQ 2531 2678 2651 2914 \nQ 2772 3150 2772 3378 \nQ 2772 3750 2511 3984 \nQ 2250 4219 1831 4219 \nQ 1534 4219 1204 4116 \nQ 875 4013 500 3803 \nL 500 4441 \nQ 881 4594 1212 4672 \nQ 1544 4750 1819 4750 \nQ 2544 4750 2975 4387 \nQ 3406 4025 3406 3419 \nQ 3406 3131 3298 2873 \nQ 3191 2616 2906 2266 \nQ 2828 2175 2409 1742 \nQ 1991 1309 1228 531 \nz\n\" transform=\"scale(0.015625)\"/>\n       </defs>\n       <use xlink:href=\"#DejaVuSans-32\"/>\n       <use xlink:href=\"#DejaVuSans-30\" x=\"63.623047\"/>\n      </g>\n     </g>\n    </g>\n    <g id=\"xtick_4\">\n     <g id=\"line2d_4\">\n      <g>\n       <use xlink:href=\"#m03927546da\" x=\"175.553824\" y=\"145.8\" style=\"stroke: #000000; stroke-width: 0.8\"/>\n      </g>\n     </g>\n     <g id=\"text_4\">\n      <!-- 30 -->\n      <g transform=\"translate(169.191324 160.398438)scale(0.1 -0.1)\">\n       <defs>\n        <path id=\"DejaVuSans-33\" d=\"M 2597 2516 \nQ 3050 2419 3304 2112 \nQ 3559 1806 3559 1356 \nQ 3559 666 3084 287 \nQ 2609 -91 1734 -91 \nQ 1441 -91 1130 -33 \nQ 819 25 488 141 \nL 488 750 \nQ 750 597 1062 519 \nQ 1375 441 1716 441 \nQ 2309 441 2620 675 \nQ 2931 909 2931 1356 \nQ 2931 1769 2642 2001 \nQ 2353 2234 1838 2234 \nL 1294 2234 \nL 1294 2753 \nL 1863 2753 \nQ 2328 2753 2575 2939 \nQ 2822 3125 2822 3475 \nQ 2822 3834 2567 4026 \nQ 2313 4219 1838 4219 \nQ 1578 4219 1281 4162 \nQ 984 4106 628 3988 \nL 628 4550 \nQ 988 4650 1302 4700 \nQ 1616 4750 1894 4750 \nQ 2613 4750 3031 4423 \nQ 3450 4097 3450 3541 \nQ 3450 3153 3228 2886 \nQ 3006 2619 2597 2516 \nz\n\" transform=\"scale(0.015625)\"/>\n       </defs>\n       <use xlink:href=\"#DejaVuSans-33\"/>\n       <use xlink:href=\"#DejaVuSans-30\" x=\"63.623047\"/>\n      </g>\n     </g>\n    </g>\n    <g id=\"xtick_5\">\n     <g id=\"line2d_5\">\n      <g>\n       <use xlink:href=\"#m03927546da\" x=\"221.0783\" y=\"145.8\" style=\"stroke: #000000; stroke-width: 0.8\"/>\n      </g>\n     </g>\n     <g id=\"text_5\">\n      <!-- 40 -->\n      <g transform=\"translate(214.7158 160.398438)scale(0.1 -0.1)\">\n       <defs>\n        <path id=\"DejaVuSans-34\" d=\"M 2419 4116 \nL 825 1625 \nL 2419 1625 \nL 2419 4116 \nz\nM 2253 4666 \nL 3047 4666 \nL 3047 1625 \nL 3713 1625 \nL 3713 1100 \nL 3047 1100 \nL 3047 0 \nL 2419 0 \nL 2419 1100 \nL 313 1100 \nL 313 1709 \nL 2253 4666 \nz\n\" transform=\"scale(0.015625)\"/>\n       </defs>\n       <use xlink:href=\"#DejaVuSans-34\"/>\n       <use xlink:href=\"#DejaVuSans-30\" x=\"63.623047\"/>\n      </g>\n     </g>\n    </g>\n    <g id=\"text_6\">\n     <!-- time -->\n     <g transform=\"translate(116.457031 174.076563)scale(0.1 -0.1)\">\n      <defs>\n       <path id=\"DejaVuSans-74\" d=\"M 1172 4494 \nL 1172 3500 \nL 2356 3500 \nL 2356 3053 \nL 1172 3053 \nL 1172 1153 \nQ 1172 725 1289 603 \nQ 1406 481 1766 481 \nL 2356 481 \nL 2356 0 \nL 1766 0 \nQ 1100 0 847 248 \nQ 594 497 594 1153 \nL 594 3053 \nL 172 3053 \nL 172 3500 \nL 594 3500 \nL 594 4494 \nL 1172 4494 \nz\n\" transform=\"scale(0.015625)\"/>\n       <path id=\"DejaVuSans-69\" d=\"M 603 3500 \nL 1178 3500 \nL 1178 0 \nL 603 0 \nL 603 3500 \nz\nM 603 4863 \nL 1178 4863 \nL 1178 4134 \nL 603 4134 \nL 603 4863 \nz\n\" transform=\"scale(0.015625)\"/>\n       <path id=\"DejaVuSans-6d\" d=\"M 3328 2828 \nQ 3544 3216 3844 3400 \nQ 4144 3584 4550 3584 \nQ 5097 3584 5394 3201 \nQ 5691 2819 5691 2113 \nL 5691 0 \nL 5113 0 \nL 5113 2094 \nQ 5113 2597 4934 2840 \nQ 4756 3084 4391 3084 \nQ 3944 3084 3684 2787 \nQ 3425 2491 3425 1978 \nL 3425 0 \nL 2847 0 \nL 2847 2094 \nQ 2847 2600 2669 2842 \nQ 2491 3084 2119 3084 \nQ 1678 3084 1418 2786 \nQ 1159 2488 1159 1978 \nL 1159 0 \nL 581 0 \nL 581 3500 \nL 1159 3500 \nL 1159 2956 \nQ 1356 3278 1631 3431 \nQ 1906 3584 2284 3584 \nQ 2666 3584 2933 3390 \nQ 3200 3197 3328 2828 \nz\n\" transform=\"scale(0.015625)\"/>\n       <path id=\"DejaVuSans-65\" d=\"M 3597 1894 \nL 3597 1613 \nL 953 1613 \nQ 991 1019 1311 708 \nQ 1631 397 2203 397 \nQ 2534 397 2845 478 \nQ 3156 559 3463 722 \nL 3463 178 \nQ 3153 47 2828 -22 \nQ 2503 -91 2169 -91 \nQ 1331 -91 842 396 \nQ 353 884 353 1716 \nQ 353 2575 817 3079 \nQ 1281 3584 2069 3584 \nQ 2775 3584 3186 3129 \nQ 3597 2675 3597 1894 \nz\nM 3022 2063 \nQ 3016 2534 2758 2815 \nQ 2500 3097 2075 3097 \nQ 1594 3097 1305 2825 \nQ 1016 2553 972 2059 \nL 3022 2063 \nz\n\" transform=\"scale(0.015625)\"/>\n      </defs>\n      <use xlink:href=\"#DejaVuSans-74\"/>\n      <use xlink:href=\"#DejaVuSans-69\" x=\"39.208984\"/>\n      <use xlink:href=\"#DejaVuSans-6d\" x=\"66.992188\"/>\n      <use xlink:href=\"#DejaVuSans-65\" x=\"164.404297\"/>\n     </g>\n    </g>\n   </g>\n   <g id=\"matplotlib.axis_2\">\n    <g id=\"ytick_1\">\n     <g id=\"line2d_6\">\n      <defs>\n       <path id=\"mab5939bd50\" d=\"M 0 0 \nL -3.5 0 \n\" style=\"stroke: #000000; stroke-width: 0.8\"/>\n      </defs>\n      <g>\n       <use xlink:href=\"#mab5939bd50\" x=\"30.103125\" y=\"139.500115\" style=\"stroke: #000000; stroke-width: 0.8\"/>\n      </g>\n     </g>\n     <g id=\"text_7\">\n      <!-- 0.0 -->\n      <g transform=\"translate(7.2 143.299333)scale(0.1 -0.1)\">\n       <defs>\n        <path id=\"DejaVuSans-2e\" d=\"M 684 794 \nL 1344 794 \nL 1344 0 \nL 684 0 \nL 684 794 \nz\n\" transform=\"scale(0.015625)\"/>\n       </defs>\n       <use xlink:href=\"#DejaVuSans-30\"/>\n       <use xlink:href=\"#DejaVuSans-2e\" x=\"63.623047\"/>\n       <use xlink:href=\"#DejaVuSans-30\" x=\"95.410156\"/>\n      </g>\n     </g>\n    </g>\n    <g id=\"ytick_2\">\n     <g id=\"line2d_7\">\n      <g>\n       <use xlink:href=\"#mab5939bd50\" x=\"30.103125\" y=\"97.500076\" style=\"stroke: #000000; stroke-width: 0.8\"/>\n      </g>\n     </g>\n     <g id=\"text_8\">\n      <!-- 0.1 -->\n      <g transform=\"translate(7.2 101.299295)scale(0.1 -0.1)\">\n       <use xlink:href=\"#DejaVuSans-30\"/>\n       <use xlink:href=\"#DejaVuSans-2e\" x=\"63.623047\"/>\n       <use xlink:href=\"#DejaVuSans-31\" x=\"95.410156\"/>\n      </g>\n     </g>\n    </g>\n    <g id=\"ytick_3\">\n     <g id=\"line2d_8\">\n      <g>\n       <use xlink:href=\"#mab5939bd50\" x=\"30.103125\" y=\"55.500038\" style=\"stroke: #000000; stroke-width: 0.8\"/>\n      </g>\n     </g>\n     <g id=\"text_9\">\n      <!-- 0.2 -->\n      <g transform=\"translate(7.2 59.299257)scale(0.1 -0.1)\">\n       <use xlink:href=\"#DejaVuSans-30\"/>\n       <use xlink:href=\"#DejaVuSans-2e\" x=\"63.623047\"/>\n       <use xlink:href=\"#DejaVuSans-32\" x=\"95.410156\"/>\n      </g>\n     </g>\n    </g>\n    <g id=\"ytick_4\">\n     <g id=\"line2d_9\">\n      <g>\n       <use xlink:href=\"#mab5939bd50\" x=\"30.103125\" y=\"13.5\" style=\"stroke: #000000; stroke-width: 0.8\"/>\n      </g>\n     </g>\n     <g id=\"text_10\">\n      <!-- 0.3 -->\n      <g transform=\"translate(7.2 17.299219)scale(0.1 -0.1)\">\n       <use xlink:href=\"#DejaVuSans-30\"/>\n       <use xlink:href=\"#DejaVuSans-2e\" x=\"63.623047\"/>\n       <use xlink:href=\"#DejaVuSans-33\" x=\"95.410156\"/>\n      </g>\n     </g>\n    </g>\n   </g>\n   <g id=\"line2d_10\">\n    <path d=\"M 38.980398 118.500096 \nL 43.532845 119.550096 \nL 48.085293 120.547597 \nL 52.63774 121.495223 \nL 57.190188 122.395468 \nL 61.742635 123.2507 \nL 66.295083 124.063171 \nL 70.847531 124.835018 \nL 75.399978 125.568273 \nL 79.952426 126.264865 \nL 84.504873 126.926627 \nL 89.057321 127.555302 \nL 93.609768 128.152542 \nL 98.162216 128.719921 \nL 102.714663 129.258931 \nL 107.267111 129.77099 \nL 111.819559 130.257446 \nL 116.372006 130.71958 \nL 120.924454 131.158606 \nL 125.476901 131.575682 \nL 130.029349 131.971903 \nL 134.581796 132.348314 \nL 139.134244 132.705904 \nL 143.686691 133.045615 \nL 148.239139 133.36834 \nL 152.791587 133.674928 \nL 157.344034 133.966188 \nL 161.896482 134.242884 \nL 166.448929 134.505745 \nL 171.001377 134.755464 \nL 175.553824 134.992696 \nL 180.106272 135.218067 \nL 184.658719 135.43217 \nL 189.211167 135.635567 \nL 193.763615 135.828794 \nL 198.316062 136.01236 \nL 202.86851 136.186748 \nL 207.420957 136.352416 \nL 211.973405 136.509801 \nL 216.525852 136.659317 \n\" clip-path=\"url(#p038e658355)\" style=\"fill: none; stroke: #1f77b4; stroke-width: 1.5; stroke-linecap: square\"/>\n   </g>\n   <g id=\"line2d_11\">\n    <path d=\"M 38.980398 97.500076 \nL 43.532845 101.70008 \nL 48.085293 105.480084 \nL 52.63774 108.882087 \nL 57.190188 111.94389 \nL 61.742635 114.699512 \nL 66.295083 117.179572 \nL 70.847531 119.411627 \nL 75.399978 121.420475 \nL 79.952426 123.228439 \nL 84.504873 124.855607 \nL 89.057321 126.320058 \nL 93.609768 127.638063 \nL 98.162216 128.824268 \nL 102.714663 129.891853 \nL 107.267111 130.852679 \nL 111.819559 131.717423 \nL 116.372006 132.495692 \nL 120.924454 133.196134 \nL 125.476901 133.826532 \nL 130.029349 134.39389 \nL 134.581796 134.904513 \nL 139.134244 135.364073 \nL 143.686691 135.777677 \nL 148.239139 136.149921 \nL 152.791587 136.48494 \nL 157.344034 136.786458 \nL 161.896482 137.057823 \nL 166.448929 137.302053 \nL 171.001377 137.521859 \nL 175.553824 137.719684 \nL 180.106272 137.897727 \nL 184.658719 138.057966 \nL 189.211167 138.202181 \nL 193.763615 138.331974 \nL 198.316062 138.448788 \nL 202.86851 138.553921 \nL 207.420957 138.64854 \nL 211.973405 138.733698 \nL 216.525852 138.810339 \n\" clip-path=\"url(#p038e658355)\" style=\"fill: none; stroke: #ff7f0e; stroke-width: 1.5; stroke-linecap: square\"/>\n   </g>\n   <g id=\"line2d_12\">\n    <path d=\"M 38.980398 55.500038 \nL 43.532845 72.300053 \nL 48.085293 85.740066 \nL 52.63774 96.492075 \nL 57.190188 105.093683 \nL 61.742635 111.97497 \nL 66.295083 117.479999 \nL 70.847531 121.884022 \nL 75.399978 125.40724 \nL 79.952426 128.225815 \nL 84.504873 130.480675 \nL 89.057321 132.284563 \nL 93.609768 133.727673 \nL 98.162216 134.882162 \nL 102.714663 135.805752 \nL 107.267111 136.544625 \nL 111.819559 137.135723 \nL 116.372006 137.608601 \nL 120.924454 137.986904 \nL 125.476901 138.289546 \nL 130.029349 138.53166 \nL 134.581796 138.725351 \nL 139.134244 138.880303 \nL 143.686691 139.004266 \nL 148.239139 139.103435 \nL 152.791587 139.182771 \nL 157.344034 139.24624 \nL 161.896482 139.297015 \nL 166.448929 139.337635 \nL 171.001377 139.370131 \nL 175.553824 139.396128 \nL 180.106272 139.416925 \nL 184.658719 139.433563 \nL 189.211167 139.446873 \nL 193.763615 139.457522 \nL 198.316062 139.46604 \nL 202.86851 139.472855 \nL 207.420957 139.478307 \nL 211.973405 139.482668 \nL 216.525852 139.486158 \n\" clip-path=\"url(#p038e658355)\" style=\"fill: none; stroke: #2ca02c; stroke-width: 1.5; stroke-linecap: square\"/>\n   </g>\n   <g id=\"line2d_13\">\n    <path d=\"M 38.980398 13.5 \nL 43.532845 51.300034 \nL 48.085293 77.760058 \nL 52.63774 96.282075 \nL 57.190188 109.247487 \nL 61.742635 118.323275 \nL 66.295083 124.676327 \nL 70.847531 129.123463 \nL 75.399978 132.236459 \nL 79.952426 134.415555 \nL 84.504873 135.940923 \nL 89.057321 137.008681 \nL 93.609768 137.756111 \nL 98.162216 138.279312 \nL 102.714663 138.645553 \nL 107.267111 138.901921 \nL 111.819559 139.081379 \nL 116.372006 139.207 \nL 120.924454 139.294934 \nL 125.476901 139.356488 \nL 130.029349 139.399576 \nL 134.581796 139.429738 \nL 139.134244 139.450851 \nL 143.686691 139.46563 \nL 148.239139 139.475975 \nL 152.791587 139.483217 \nL 157.344034 139.488286 \nL 161.896482 139.491835 \nL 166.448929 139.494319 \nL 171.001377 139.496058 \nL 175.553824 139.497275 \nL 180.106272 139.498127 \nL 184.658719 139.498723 \nL 189.211167 139.49914 \nL 193.763615 139.499433 \nL 198.316062 139.499637 \nL 202.86851 139.49978 \nL 207.420957 139.499881 \nL 211.973405 139.499951 \nL 216.525852 139.5 \n\" clip-path=\"url(#p038e658355)\" style=\"fill: none; stroke: #d62728; stroke-width: 1.5; stroke-linecap: square\"/>\n   </g>\n   <g id=\"patch_3\">\n    <path d=\"M 30.103125 145.8 \nL 30.103125 7.2 \n\" style=\"fill: none; stroke: #000000; stroke-width: 0.8; stroke-linejoin: miter; stroke-linecap: square\"/>\n   </g>\n   <g id=\"patch_4\">\n    <path d=\"M 225.403125 145.8 \nL 225.403125 7.2 \n\" style=\"fill: none; stroke: #000000; stroke-width: 0.8; stroke-linejoin: miter; stroke-linecap: square\"/>\n   </g>\n   <g id=\"patch_5\">\n    <path d=\"M 30.103125 145.8 \nL 225.403125 145.8 \n\" style=\"fill: none; stroke: #000000; stroke-width: 0.8; stroke-linejoin: miter; stroke-linecap: square\"/>\n   </g>\n   <g id=\"patch_6\">\n    <path d=\"M 30.103125 7.2 \nL 225.403125 7.2 \n\" style=\"fill: none; stroke: #000000; stroke-width: 0.8; stroke-linejoin: miter; stroke-linecap: square\"/>\n   </g>\n  </g>\n </g>\n <defs>\n  <clipPath id=\"p038e658355\">\n   <rect x=\"30.103125\" y=\"7.2\" width=\"195.3\" height=\"138.6\"/>\n  </clipPath>\n </defs>\n</svg>\n"
     },
     "metadata": {},
     "output_type": "display_data"
    }
   ],
   "source": [
    "import math\n",
    "import torch\n",
    "from d2l import torch as d2l\n",
    "\n",
    "d2l.set_figsize()\n",
    "gammas = [0.95, 0.9, 0.8, 0.7]\n",
    "for gamma in gammas:\n",
    "    x = torch.arange(40).detach().numpy()\n",
    "    d2l.plt.plot(x, (1-gamma) * gamma ** x, label=f'gamma = {gamma:.2f}')\n",
    "d2l.plt.xlabel('time');"
   ],
   "metadata": {
    "collapsed": false,
    "pycharm": {
     "name": "#%%\n"
    }
   }
  },
  {
   "cell_type": "markdown",
   "source": [
    "## 11.8.2. 从零开始实现\n",
    "和之前一样，我们使用二次函数$f(\\mathbf{x})=0.1x_1^2+2x_2^2$来观察RMSProp算法的轨迹。回想在11.7一节中，当我们使用学习率为0.4的Adagrad算法时，变量在算法的后期阶段移动非常缓慢，因为学习率衰减太快。RMSProp算法中不会发生这种情况，因为$\\eta$是单独控制的。"
   ],
   "metadata": {
    "collapsed": false,
    "pycharm": {
     "name": "#%% md\n"
    }
   }
  },
  {
   "cell_type": "code",
   "execution_count": 2,
   "outputs": [
    {
     "name": "stdout",
     "output_type": "stream",
     "text": [
      "epoch 20, x1: -0.010599, x2: 0.000000\n"
     ]
    },
    {
     "name": "stderr",
     "output_type": "stream",
     "text": [
      "/home/zhang/anaconda3/envs/d2l/lib/python3.8/site-packages/torch/functional.py:478: UserWarning: torch.meshgrid: in an upcoming release, it will be required to pass the indexing argument. (Triggered internally at  /opt/conda/conda-bld/pytorch_1656352463056/work/aten/src/ATen/native/TensorShape.cpp:2894.)\n",
      "  return _VF.meshgrid(tensors, **kwargs)  # type: ignore[attr-defined]\n"
     ]
    },
    {
     "data": {
      "text/plain": "<Figure size 350x250 with 1 Axes>",
      "image/svg+xml": "<?xml version=\"1.0\" encoding=\"utf-8\" standalone=\"no\"?>\n<!DOCTYPE svg PUBLIC \"-//W3C//DTD SVG 1.1//EN\"\n  \"http://www.w3.org/Graphics/SVG/1.1/DTD/svg11.dtd\">\n<svg xmlns:xlink=\"http://www.w3.org/1999/xlink\" width=\"245.120313pt\" height=\"183.35625pt\" viewBox=\"0 0 245.120313 183.35625\" xmlns=\"http://www.w3.org/2000/svg\" version=\"1.1\">\n <metadata>\n  <rdf:RDF xmlns:dc=\"http://purl.org/dc/elements/1.1/\" xmlns:cc=\"http://creativecommons.org/ns#\" xmlns:rdf=\"http://www.w3.org/1999/02/22-rdf-syntax-ns#\">\n   <cc:Work>\n    <dc:type rdf:resource=\"http://purl.org/dc/dcmitype/StillImage\"/>\n    <dc:date>2022-10-29T08:53:46.575838</dc:date>\n    <dc:format>image/svg+xml</dc:format>\n    <dc:creator>\n     <cc:Agent>\n      <dc:title>Matplotlib v3.5.1, https://matplotlib.org/</dc:title>\n     </cc:Agent>\n    </dc:creator>\n   </cc:Work>\n  </rdf:RDF>\n </metadata>\n <defs>\n  <style type=\"text/css\">*{stroke-linejoin: round; stroke-linecap: butt}</style>\n </defs>\n <g id=\"figure_1\">\n  <g id=\"patch_1\">\n   <path d=\"M 0 183.35625 \nL 245.120313 183.35625 \nL 245.120313 0 \nL 0 0 \nz\n\" style=\"fill: #ffffff\"/>\n  </g>\n  <g id=\"axes_1\">\n   <g id=\"patch_2\">\n    <path d=\"M 42.620312 145.8 \nL 237.920313 145.8 \nL 237.920313 7.2 \nL 42.620312 7.2 \nz\n\" style=\"fill: #ffffff\"/>\n   </g>\n   <g id=\"matplotlib.axis_1\">\n    <g id=\"xtick_1\">\n     <g id=\"line2d_1\">\n      <defs>\n       <path id=\"m267e2eae22\" d=\"M 0 0 \nL 0 3.5 \n\" style=\"stroke: #000000; stroke-width: 0.8\"/>\n      </defs>\n      <g>\n       <use xlink:href=\"#m267e2eae22\" x=\"88.39375\" y=\"145.8\" style=\"stroke: #000000; stroke-width: 0.8\"/>\n      </g>\n     </g>\n     <g id=\"text_1\">\n      <!-- −4 -->\n      <g transform=\"translate(81.022656 160.398438)scale(0.1 -0.1)\">\n       <defs>\n        <path id=\"DejaVuSans-2212\" d=\"M 678 2272 \nL 4684 2272 \nL 4684 1741 \nL 678 1741 \nL 678 2272 \nz\n\" transform=\"scale(0.015625)\"/>\n        <path id=\"DejaVuSans-34\" d=\"M 2419 4116 \nL 825 1625 \nL 2419 1625 \nL 2419 4116 \nz\nM 2253 4666 \nL 3047 4666 \nL 3047 1625 \nL 3713 1625 \nL 3713 1100 \nL 3047 1100 \nL 3047 0 \nL 2419 0 \nL 2419 1100 \nL 313 1100 \nL 313 1709 \nL 2253 4666 \nz\n\" transform=\"scale(0.015625)\"/>\n       </defs>\n       <use xlink:href=\"#DejaVuSans-2212\"/>\n       <use xlink:href=\"#DejaVuSans-34\" x=\"83.789062\"/>\n      </g>\n     </g>\n    </g>\n    <g id=\"xtick_2\">\n     <g id=\"line2d_2\">\n      <g>\n       <use xlink:href=\"#m267e2eae22\" x=\"149.425\" y=\"145.8\" style=\"stroke: #000000; stroke-width: 0.8\"/>\n      </g>\n     </g>\n     <g id=\"text_2\">\n      <!-- −2 -->\n      <g transform=\"translate(142.053907 160.398438)scale(0.1 -0.1)\">\n       <defs>\n        <path id=\"DejaVuSans-32\" d=\"M 1228 531 \nL 3431 531 \nL 3431 0 \nL 469 0 \nL 469 531 \nQ 828 903 1448 1529 \nQ 2069 2156 2228 2338 \nQ 2531 2678 2651 2914 \nQ 2772 3150 2772 3378 \nQ 2772 3750 2511 3984 \nQ 2250 4219 1831 4219 \nQ 1534 4219 1204 4116 \nQ 875 4013 500 3803 \nL 500 4441 \nQ 881 4594 1212 4672 \nQ 1544 4750 1819 4750 \nQ 2544 4750 2975 4387 \nQ 3406 4025 3406 3419 \nQ 3406 3131 3298 2873 \nQ 3191 2616 2906 2266 \nQ 2828 2175 2409 1742 \nQ 1991 1309 1228 531 \nz\n\" transform=\"scale(0.015625)\"/>\n       </defs>\n       <use xlink:href=\"#DejaVuSans-2212\"/>\n       <use xlink:href=\"#DejaVuSans-32\" x=\"83.789062\"/>\n      </g>\n     </g>\n    </g>\n    <g id=\"xtick_3\">\n     <g id=\"line2d_3\">\n      <g>\n       <use xlink:href=\"#m267e2eae22\" x=\"210.456251\" y=\"145.8\" style=\"stroke: #000000; stroke-width: 0.8\"/>\n      </g>\n     </g>\n     <g id=\"text_3\">\n      <!-- 0 -->\n      <g transform=\"translate(207.275001 160.398438)scale(0.1 -0.1)\">\n       <defs>\n        <path id=\"DejaVuSans-30\" d=\"M 2034 4250 \nQ 1547 4250 1301 3770 \nQ 1056 3291 1056 2328 \nQ 1056 1369 1301 889 \nQ 1547 409 2034 409 \nQ 2525 409 2770 889 \nQ 3016 1369 3016 2328 \nQ 3016 3291 2770 3770 \nQ 2525 4250 2034 4250 \nz\nM 2034 4750 \nQ 2819 4750 3233 4129 \nQ 3647 3509 3647 2328 \nQ 3647 1150 3233 529 \nQ 2819 -91 2034 -91 \nQ 1250 -91 836 529 \nQ 422 1150 422 2328 \nQ 422 3509 836 4129 \nQ 1250 4750 2034 4750 \nz\n\" transform=\"scale(0.015625)\"/>\n       </defs>\n       <use xlink:href=\"#DejaVuSans-30\"/>\n      </g>\n     </g>\n    </g>\n    <g id=\"text_4\">\n     <!-- x1 -->\n     <g transform=\"translate(134.129687 174.076563)scale(0.1 -0.1)\">\n      <defs>\n       <path id=\"DejaVuSans-78\" d=\"M 3513 3500 \nL 2247 1797 \nL 3578 0 \nL 2900 0 \nL 1881 1375 \nL 863 0 \nL 184 0 \nL 1544 1831 \nL 300 3500 \nL 978 3500 \nL 1906 2253 \nL 2834 3500 \nL 3513 3500 \nz\n\" transform=\"scale(0.015625)\"/>\n       <path id=\"DejaVuSans-31\" d=\"M 794 531 \nL 1825 531 \nL 1825 4091 \nL 703 3866 \nL 703 4441 \nL 1819 4666 \nL 2450 4666 \nL 2450 531 \nL 3481 531 \nL 3481 0 \nL 794 0 \nL 794 531 \nz\n\" transform=\"scale(0.015625)\"/>\n      </defs>\n      <use xlink:href=\"#DejaVuSans-78\"/>\n      <use xlink:href=\"#DejaVuSans-31\" x=\"59.179688\"/>\n     </g>\n    </g>\n   </g>\n   <g id=\"matplotlib.axis_2\">\n    <g id=\"ytick_1\">\n     <g id=\"line2d_4\">\n      <defs>\n       <path id=\"mcce7ae17be\" d=\"M 0 0 \nL -3.5 0 \n\" style=\"stroke: #000000; stroke-width: 0.8\"/>\n      </defs>\n      <g>\n       <use xlink:href=\"#mcce7ae17be\" x=\"42.620312\" y=\"145.8\" style=\"stroke: #000000; stroke-width: 0.8\"/>\n      </g>\n     </g>\n     <g id=\"text_5\">\n      <!-- −3 -->\n      <g transform=\"translate(20.878125 149.599219)scale(0.1 -0.1)\">\n       <defs>\n        <path id=\"DejaVuSans-33\" d=\"M 2597 2516 \nQ 3050 2419 3304 2112 \nQ 3559 1806 3559 1356 \nQ 3559 666 3084 287 \nQ 2609 -91 1734 -91 \nQ 1441 -91 1130 -33 \nQ 819 25 488 141 \nL 488 750 \nQ 750 597 1062 519 \nQ 1375 441 1716 441 \nQ 2309 441 2620 675 \nQ 2931 909 2931 1356 \nQ 2931 1769 2642 2001 \nQ 2353 2234 1838 2234 \nL 1294 2234 \nL 1294 2753 \nL 1863 2753 \nQ 2328 2753 2575 2939 \nQ 2822 3125 2822 3475 \nQ 2822 3834 2567 4026 \nQ 2313 4219 1838 4219 \nQ 1578 4219 1281 4162 \nQ 984 4106 628 3988 \nL 628 4550 \nQ 988 4650 1302 4700 \nQ 1616 4750 1894 4750 \nQ 2613 4750 3031 4423 \nQ 3450 4097 3450 3541 \nQ 3450 3153 3228 2886 \nQ 3006 2619 2597 2516 \nz\n\" transform=\"scale(0.015625)\"/>\n       </defs>\n       <use xlink:href=\"#DejaVuSans-2212\"/>\n       <use xlink:href=\"#DejaVuSans-33\" x=\"83.789062\"/>\n      </g>\n     </g>\n    </g>\n    <g id=\"ytick_2\">\n     <g id=\"line2d_5\">\n      <g>\n       <use xlink:href=\"#mcce7ae17be\" x=\"42.620312\" y=\"110.261538\" style=\"stroke: #000000; stroke-width: 0.8\"/>\n      </g>\n     </g>\n     <g id=\"text_6\">\n      <!-- −2 -->\n      <g transform=\"translate(20.878125 114.060757)scale(0.1 -0.1)\">\n       <use xlink:href=\"#DejaVuSans-2212\"/>\n       <use xlink:href=\"#DejaVuSans-32\" x=\"83.789062\"/>\n      </g>\n     </g>\n    </g>\n    <g id=\"ytick_3\">\n     <g id=\"line2d_6\">\n      <g>\n       <use xlink:href=\"#mcce7ae17be\" x=\"42.620312\" y=\"74.723076\" style=\"stroke: #000000; stroke-width: 0.8\"/>\n      </g>\n     </g>\n     <g id=\"text_7\">\n      <!-- −1 -->\n      <g transform=\"translate(20.878125 78.522295)scale(0.1 -0.1)\">\n       <use xlink:href=\"#DejaVuSans-2212\"/>\n       <use xlink:href=\"#DejaVuSans-31\" x=\"83.789062\"/>\n      </g>\n     </g>\n    </g>\n    <g id=\"ytick_4\">\n     <g id=\"line2d_7\">\n      <g>\n       <use xlink:href=\"#mcce7ae17be\" x=\"42.620312\" y=\"39.184615\" style=\"stroke: #000000; stroke-width: 0.8\"/>\n      </g>\n     </g>\n     <g id=\"text_8\">\n      <!-- 0 -->\n      <g transform=\"translate(29.257812 42.983833)scale(0.1 -0.1)\">\n       <use xlink:href=\"#DejaVuSans-30\"/>\n      </g>\n     </g>\n    </g>\n    <g id=\"text_9\">\n     <!-- x2 -->\n     <g transform=\"translate(14.798437 82.640625)rotate(-90)scale(0.1 -0.1)\">\n      <use xlink:href=\"#DejaVuSans-78\"/>\n      <use xlink:href=\"#DejaVuSans-32\" x=\"59.179688\"/>\n     </g>\n    </g>\n   </g>\n   <g id=\"line2d_8\">\n    <path d=\"M 57.878125 110.261538 \nL 96.477484 65.308548 \nL 120.357142 49.068785 \nL 138.043262 42.658188 \nL 152.011133 40.286769 \nL 163.368488 39.493747 \nL 172.726062 39.259292 \nL 180.468975 39.199591 \nL 186.866078 39.18697 \nL 192.121325 39.184878 \nL 196.400251 39.184631 \nL 199.844228 39.184615 \nL 202.578132 39.184615 \nL 204.714224 39.184615 \nL 206.353866 39.184615 \nL 207.58804 39.184615 \nL 208.497344 39.184615 \nL 209.151871 39.184615 \nL 209.611244 39.184615 \nL 209.924923 39.184615 \nL 210.132826 39.184615 \n\" clip-path=\"url(#pfe1f591813)\" style=\"fill: none; stroke: #ff7f0e; stroke-width: 1.5; stroke-linecap: square\"/>\n    <defs>\n     <path id=\"m467309c453\" d=\"M 0 3 \nC 0.795609 3 1.55874 2.683901 2.12132 2.12132 \nC 2.683901 1.55874 3 0.795609 3 0 \nC 3 -0.795609 2.683901 -1.55874 2.12132 -2.12132 \nC 1.55874 -2.683901 0.795609 -3 0 -3 \nC -0.795609 -3 -1.55874 -2.683901 -2.12132 -2.12132 \nC -2.683901 -1.55874 -3 -0.795609 -3 0 \nC -3 0.795609 -2.683901 1.55874 -2.12132 2.12132 \nC -1.55874 2.683901 -0.795609 3 0 3 \nz\n\" style=\"stroke: #ff7f0e\"/>\n    </defs>\n    <g clip-path=\"url(#pfe1f591813)\">\n     <use xlink:href=\"#m467309c453\" x=\"57.878125\" y=\"110.261538\" style=\"fill: #ff7f0e; stroke: #ff7f0e\"/>\n     <use xlink:href=\"#m467309c453\" x=\"96.477484\" y=\"65.308548\" style=\"fill: #ff7f0e; stroke: #ff7f0e\"/>\n     <use xlink:href=\"#m467309c453\" x=\"120.357142\" y=\"49.068785\" style=\"fill: #ff7f0e; stroke: #ff7f0e\"/>\n     <use xlink:href=\"#m467309c453\" x=\"138.043262\" y=\"42.658188\" style=\"fill: #ff7f0e; stroke: #ff7f0e\"/>\n     <use xlink:href=\"#m467309c453\" x=\"152.011133\" y=\"40.286769\" style=\"fill: #ff7f0e; stroke: #ff7f0e\"/>\n     <use xlink:href=\"#m467309c453\" x=\"163.368488\" y=\"39.493747\" style=\"fill: #ff7f0e; stroke: #ff7f0e\"/>\n     <use xlink:href=\"#m467309c453\" x=\"172.726062\" y=\"39.259292\" style=\"fill: #ff7f0e; stroke: #ff7f0e\"/>\n     <use xlink:href=\"#m467309c453\" x=\"180.468975\" y=\"39.199591\" style=\"fill: #ff7f0e; stroke: #ff7f0e\"/>\n     <use xlink:href=\"#m467309c453\" x=\"186.866078\" y=\"39.18697\" style=\"fill: #ff7f0e; stroke: #ff7f0e\"/>\n     <use xlink:href=\"#m467309c453\" x=\"192.121325\" y=\"39.184878\" style=\"fill: #ff7f0e; stroke: #ff7f0e\"/>\n     <use xlink:href=\"#m467309c453\" x=\"196.400251\" y=\"39.184631\" style=\"fill: #ff7f0e; stroke: #ff7f0e\"/>\n     <use xlink:href=\"#m467309c453\" x=\"199.844228\" y=\"39.184615\" style=\"fill: #ff7f0e; stroke: #ff7f0e\"/>\n     <use xlink:href=\"#m467309c453\" x=\"202.578132\" y=\"39.184615\" style=\"fill: #ff7f0e; stroke: #ff7f0e\"/>\n     <use xlink:href=\"#m467309c453\" x=\"204.714224\" y=\"39.184615\" style=\"fill: #ff7f0e; stroke: #ff7f0e\"/>\n     <use xlink:href=\"#m467309c453\" x=\"206.353866\" y=\"39.184615\" style=\"fill: #ff7f0e; stroke: #ff7f0e\"/>\n     <use xlink:href=\"#m467309c453\" x=\"207.58804\" y=\"39.184615\" style=\"fill: #ff7f0e; stroke: #ff7f0e\"/>\n     <use xlink:href=\"#m467309c453\" x=\"208.497344\" y=\"39.184615\" style=\"fill: #ff7f0e; stroke: #ff7f0e\"/>\n     <use xlink:href=\"#m467309c453\" x=\"209.151871\" y=\"39.184615\" style=\"fill: #ff7f0e; stroke: #ff7f0e\"/>\n     <use xlink:href=\"#m467309c453\" x=\"209.611244\" y=\"39.184615\" style=\"fill: #ff7f0e; stroke: #ff7f0e\"/>\n     <use xlink:href=\"#m467309c453\" x=\"209.924923\" y=\"39.184615\" style=\"fill: #ff7f0e; stroke: #ff7f0e\"/>\n     <use xlink:href=\"#m467309c453\" x=\"210.132826\" y=\"39.184615\" style=\"fill: #ff7f0e; stroke: #ff7f0e\"/>\n    </g>\n   </g>\n   <g id=\"PathCollection_1\"/>\n   <g id=\"PathCollection_2\">\n    <path d=\"M 97.100868 7.2 \nL 94.496869 7.868961 \nL 91.44531 8.673801 \nL 88.393757 9.499545 \nL 85.342191 10.346198 \nL 83.908323 10.753845 \nL 82.290631 11.275074 \nL 79.239071 12.281998 \nL 76.187512 13.312611 \nL 73.307377 14.307692 \nL 73.135938 14.376037 \nL 70.084378 15.61988 \nL 67.032818 16.891062 \nL 64.752171 17.861537 \nL 63.981244 18.249232 \nL 60.929685 19.816153 \nL 57.878125 21.415384 \nL 54.826565 23.409482 \nL 52.48604 24.96923 \nL 51.775006 25.578453 \nL 48.723432 28.243853 \nL 48.409729 28.523076 \nL 45.671872 31.93477 \nL 45.55989 32.076922 \nL 43.880133 35.630769 \nL 43.320214 39.184616 \nL 43.880133 42.738462 \nL 45.55989 46.292308 \nL 45.671872 46.43446 \nL 48.409729 49.846154 \nL 48.723432 50.125377 \nL 51.775006 52.790777 \nL 52.486042 53.400001 \nL 54.826565 54.959745 \nL 57.878125 56.953846 \nL 60.929685 58.553076 \nL 63.981244 60.119998 \nL 64.752171 60.507693 \nL 67.032818 61.478167 \nL 70.084378 62.749349 \nL 73.135938 63.993193 \nL 73.307377 64.061538 \nL 76.187512 65.056618 \nL 79.239071 66.087232 \nL 82.290631 67.094156 \nL 83.908319 67.615382 \nL 85.342191 68.02303 \nL 88.393757 68.869685 \nL 91.44531 69.695427 \nL 94.496869 70.500269 \nL 97.100868 71.169229 \nL 97.548436 71.272105 \nL 100.599996 71.954818 \nL 103.651563 72.618826 \nL 106.703122 73.264128 \nL 109.754682 73.890726 \nL 112.806249 74.498621 \nL 113.968755 74.723076 \nL 115.857816 75.053077 \nL 118.909375 75.56923 \nL 121.960942 76.068463 \nL 125.012502 76.55077 \nL 128.064069 77.016155 \nL 131.115628 77.464616 \nL 134.167188 77.896154 \nL 136.969651 78.276924 \nL 137.218755 78.307826 \nL 140.270314 78.670936 \nL 143.321874 79.018595 \nL 146.373441 79.350803 \nL 149.425 79.667558 \nL 152.476564 79.968862 \nL 155.528127 80.254716 \nL 158.57969 80.525117 \nL 161.631253 80.780066 \nL 164.682813 81.019566 \nL 167.734376 81.243611 \nL 170.785939 81.452208 \nL 173.837499 81.645351 \nL 176.889062 81.823043 \nL 177.034329 81.830766 \nL 179.940626 81.972923 \nL 182.992189 82.107968 \nL 186.04375 82.228801 \nL 189.095313 82.335415 \nL 192.146877 82.427815 \nL 195.198438 82.505999 \nL 198.250001 82.569969 \nL 201.301564 82.619722 \nL 204.353126 82.655262 \nL 207.404689 82.676585 \nL 210.456251 82.683692 \nL 213.507813 82.676585 \nL 216.559376 82.655262 \nL 219.610939 82.619722 \nL 222.662501 82.569969 \nL 225.714063 82.505999 \nL 228.765626 82.427815 \nL 231.817188 82.335415 \nL 234.868751 82.228801 \nL 237.920313 82.107968 \n\" clip-path=\"url(#pfe1f591813)\" style=\"fill: none; stroke: #1f77b4; stroke-width: 1.5\"/>\n   </g>\n   <g id=\"PathCollection_3\">\n    <path d=\"M 42.620312 82.505999 \nL 45.671872 83.280739 \nL 48.723432 84.041258 \nL 51.775006 84.78757 \nL 54.263642 85.384613 \nL 54.826565 85.509659 \nL 57.878125 86.174359 \nL 60.929685 86.825897 \nL 63.981244 87.464272 \nL 67.032818 88.089488 \nL 70.084378 88.701539 \nL 71.29158 88.93846 \nL 73.135938 89.275465 \nL 76.187512 89.820797 \nL 79.239071 90.353873 \nL 82.290631 90.874696 \nL 85.342191 91.383263 \nL 88.393757 91.879576 \nL 91.44531 92.363634 \nL 92.277553 92.492307 \nL 94.496869 92.813298 \nL 97.548436 93.243201 \nL 100.599996 93.661637 \nL 103.651563 94.06861 \nL 106.703122 94.464117 \nL 109.754682 94.848161 \nL 112.806249 95.220742 \nL 115.857816 95.58186 \nL 118.909375 95.931512 \nL 119.943828 96.046154 \nL 121.960942 96.256152 \nL 125.012502 96.563076 \nL 128.064069 96.859229 \nL 131.115628 97.144614 \nL 134.167188 97.41923 \nL 137.218755 97.683078 \nL 140.270314 97.936154 \nL 143.321874 98.17846 \nL 146.373441 98.41 \nL 149.425 98.630769 \nL 152.476564 98.840769 \nL 155.528127 99.040001 \nL 158.57969 99.228461 \nL 161.631253 99.406154 \nL 164.682813 99.573078 \nL 165.20896 99.600001 \nL 167.734376 99.721846 \nL 170.785939 99.858923 \nL 173.837499 99.985846 \nL 176.889062 100.102617 \nL 179.940626 100.209232 \nL 182.992189 100.305693 \nL 186.04375 100.392 \nL 189.095313 100.468155 \nL 192.146877 100.534155 \nL 195.198438 100.59 \nL 198.250001 100.635694 \nL 201.301564 100.671232 \nL 204.353126 100.696615 \nL 207.404689 100.711847 \nL 210.456251 100.716923 \nL 213.507813 100.711847 \nL 216.559376 100.696615 \nL 219.610939 100.671232 \nL 222.662501 100.635694 \nL 225.714063 100.59 \nL 228.765626 100.534155 \nL 231.817188 100.468155 \nL 234.868751 100.392 \nL 237.920313 100.305693 \n\" clip-path=\"url(#pfe1f591813)\" style=\"fill: none; stroke: #1f77b4; stroke-width: 1.5\"/>\n   </g>\n   <g id=\"PathCollection_4\">\n    <path d=\"M 42.620312 100.589999 \nL 45.671872 101.143384 \nL 48.723432 101.686614 \nL 51.775006 102.219694 \nL 54.826565 102.742616 \nL 57.27387 103.153848 \nL 57.878125 103.249896 \nL 60.929685 103.725343 \nL 63.981244 104.191185 \nL 67.032818 104.647423 \nL 70.084378 105.094054 \nL 73.135938 105.53108 \nL 76.187512 105.958505 \nL 79.239071 106.376322 \nL 81.716227 106.707695 \nL 82.290631 106.780594 \nL 85.342191 107.158756 \nL 88.393757 107.527811 \nL 91.44531 107.88775 \nL 94.496869 108.23858 \nL 97.548436 108.580295 \nL 100.599996 108.912898 \nL 103.651563 109.236389 \nL 106.703122 109.550769 \nL 109.754682 109.856036 \nL 112.806249 110.152188 \nL 113.968764 110.261538 \nL 115.857816 110.430561 \nL 118.909375 110.694936 \nL 121.960942 110.950639 \nL 125.012502 111.197671 \nL 128.064069 111.43604 \nL 131.115628 111.665742 \nL 134.167188 111.886772 \nL 137.218755 112.099135 \nL 140.270314 112.302831 \nL 143.321874 112.497859 \nL 146.373441 112.68422 \nL 149.425 112.861914 \nL 152.476564 113.030936 \nL 155.528127 113.191291 \nL 158.57969 113.342983 \nL 161.631253 113.486004 \nL 164.682813 113.620353 \nL 167.734376 113.746039 \nL 169.542874 113.81539 \nL 170.785939 113.86084 \nL 173.837499 113.964148 \nL 176.889062 114.059192 \nL 179.940626 114.145972 \nL 182.992189 114.224487 \nL 186.04375 114.294739 \nL 189.095313 114.356726 \nL 192.146877 114.410445 \nL 195.198438 114.455904 \nL 198.250001 114.493094 \nL 201.301564 114.522021 \nL 204.353126 114.542683 \nL 207.404689 114.555078 \nL 210.456251 114.559212 \nL 213.507813 114.555078 \nL 216.559376 114.542683 \nL 219.610939 114.522021 \nL 222.662501 114.493094 \nL 225.714063 114.455904 \nL 228.765626 114.410445 \nL 231.817188 114.356726 \nL 234.868751 114.294739 \nL 237.920313 114.224487 \n\" clip-path=\"url(#pfe1f591813)\" style=\"fill: none; stroke: #1f77b4; stroke-width: 1.5\"/>\n   </g>\n   <g id=\"PathCollection_5\">\n    <path d=\"M 42.620312 114.455904 \nL 45.671872 114.90633 \nL 48.723432 115.348496 \nL 51.775006 115.782398 \nL 54.826565 116.208033 \nL 57.878125 116.625402 \nL 60.929685 117.034508 \nL 63.477901 117.369232 \nL 63.981244 117.432411 \nL 67.032818 117.80754 \nL 70.084378 118.174768 \nL 73.135938 118.534104 \nL 76.187512 118.885538 \nL 79.239071 119.229076 \nL 82.290631 119.564717 \nL 85.342191 119.892461 \nL 88.393757 120.212309 \nL 91.44531 120.524255 \nL 94.496869 120.828305 \nL 95.47338 120.923075 \nL 97.548436 121.115889 \nL 100.599996 121.391879 \nL 103.651563 121.660309 \nL 106.703122 121.921177 \nL 109.754682 122.174485 \nL 112.806249 122.420228 \nL 115.857816 122.658411 \nL 118.909375 122.889036 \nL 121.960942 123.112097 \nL 125.012502 123.327593 \nL 128.064069 123.535532 \nL 131.115628 123.735911 \nL 134.167188 123.928724 \nL 137.218755 124.113977 \nL 140.270314 124.29167 \nL 143.321874 124.461801 \nL 143.605786 124.476926 \nL 146.373441 124.618353 \nL 149.425 124.767036 \nL 152.476564 124.908463 \nL 155.528127 125.042637 \nL 158.57969 125.169563 \nL 161.631253 125.289234 \nL 164.682813 125.401648 \nL 167.734376 125.506814 \nL 170.785939 125.604728 \nL 173.837499 125.695385 \nL 176.889062 125.778791 \nL 179.940626 125.854945 \nL 182.992189 125.923846 \nL 186.04375 125.985495 \nL 189.095313 126.039892 \nL 192.146877 126.087033 \nL 195.198438 126.126925 \nL 198.250001 126.159562 \nL 201.301564 126.184946 \nL 204.353126 126.203079 \nL 207.404689 126.213955 \nL 210.456251 126.217583 \nL 213.507813 126.213955 \nL 216.559376 126.203079 \nL 219.610939 126.184946 \nL 222.662501 126.159562 \nL 225.714063 126.126925 \nL 228.765626 126.087033 \nL 231.817188 126.039892 \nL 234.868751 125.985495 \nL 237.920313 125.923846 \n\" clip-path=\"url(#pfe1f591813)\" style=\"fill: none; stroke: #1f77b4; stroke-width: 1.5\"/>\n   </g>\n   <g id=\"PathCollection_6\">\n    <path d=\"M 42.620312 126.126925 \nL 45.671872 126.522197 \nL 48.723432 126.91022 \nL 51.775006 127.290991 \nL 54.826565 127.664506 \nL 57.878125 128.030769 \nL 60.929685 128.375701 \nL 63.981244 128.713666 \nL 67.032818 129.044662 \nL 70.084378 129.368688 \nL 73.135938 129.685749 \nL 76.187512 129.995838 \nL 79.239071 130.29896 \nL 82.290631 130.595114 \nL 85.342191 130.884301 \nL 88.393757 131.166519 \nL 91.44531 131.441767 \nL 93.070112 131.584612 \nL 94.496869 131.705313 \nL 97.548436 131.956763 \nL 100.599996 132.201509 \nL 103.651563 132.43955 \nL 106.703122 132.670885 \nL 109.754682 132.895516 \nL 112.806249 133.113439 \nL 115.857816 133.324659 \nL 118.909375 133.529174 \nL 121.960942 133.726982 \nL 125.012502 133.918082 \nL 128.064069 134.102481 \nL 131.115628 134.280175 \nL 134.167188 134.45116 \nL 137.218755 134.615441 \nL 140.270314 134.773017 \nL 143.321874 134.923888 \nL 146.373441 135.068054 \nL 147.936485 135.138463 \nL 149.425 135.203077 \nL 152.476564 135.329076 \nL 155.528127 135.448613 \nL 158.57969 135.561693 \nL 161.631253 135.668308 \nL 164.682813 135.768459 \nL 167.734376 135.862153 \nL 170.785939 135.949385 \nL 173.837499 136.030153 \nL 176.889062 136.10446 \nL 179.940626 136.172306 \nL 182.992189 136.233691 \nL 186.04375 136.288614 \nL 189.095313 136.337077 \nL 192.146877 136.379075 \nL 195.198438 136.414616 \nL 198.250001 136.443692 \nL 201.301564 136.466308 \nL 204.353126 136.482462 \nL 207.404689 136.492152 \nL 210.456251 136.495384 \nL 213.507813 136.492152 \nL 216.559376 136.482462 \nL 219.610939 136.466308 \nL 222.662501 136.443692 \nL 225.714063 136.414616 \nL 228.765626 136.379075 \nL 231.817188 136.337077 \nL 234.868751 136.288614 \nL 237.920313 136.233691 \n\" clip-path=\"url(#pfe1f591813)\" style=\"fill: none; stroke: #1f77b4; stroke-width: 1.5\"/>\n   </g>\n   <g id=\"PathCollection_7\">\n    <path d=\"M 42.620312 136.414613 \nL 45.671872 136.766771 \nL 48.723432 137.112458 \nL 51.775006 137.451694 \nL 54.826565 137.784465 \nL 57.878125 138.110766 \nL 60.929685 138.430616 \nL 63.477871 138.692306 \nL 63.981244 138.742187 \nL 67.032818 139.038339 \nL 70.084378 139.328259 \nL 73.135938 139.611942 \nL 76.187512 139.889394 \nL 79.239071 140.160608 \nL 82.290631 140.425588 \nL 85.342191 140.684331 \nL 88.393757 140.936841 \nL 91.44531 141.183116 \nL 94.496869 141.423157 \nL 97.548436 141.656963 \nL 100.599996 141.884534 \nL 103.651563 142.105868 \nL 105.641791 142.246157 \nL 106.703122 142.318434 \nL 109.754682 142.520218 \nL 112.806249 142.715983 \nL 115.857816 142.905721 \nL 118.909375 143.089439 \nL 121.960942 143.267132 \nL 125.012502 143.438798 \nL 128.064069 143.604445 \nL 131.115628 143.764065 \nL 134.167188 143.917665 \nL 137.218755 144.06524 \nL 140.270314 144.206794 \nL 143.321874 144.342322 \nL 146.373441 144.471825 \nL 149.425 144.595307 \nL 152.476564 144.712763 \nL 155.528127 144.8242 \nL 158.57969 144.92961 \nL 161.631253 145.028994 \nL 164.682813 145.122358 \nL 167.734376 145.209702 \nL 170.785939 145.291015 \nL 173.837499 145.366313 \nL 176.889062 145.435579 \nL 179.940626 145.498825 \nL 182.992189 145.556051 \nL 186.04375 145.607251 \nL 189.095313 145.652426 \nL 192.146877 145.69158 \nL 195.198438 145.724708 \nL 198.250001 145.75181 \nL 201.301564 145.772892 \nL 204.353126 145.787954 \nL 207.404689 145.79699 \nL 210.456251 145.8 \n\" clip-path=\"url(#pfe1f591813)\" style=\"fill: none; stroke: #1f77b4; stroke-width: 1.5\"/>\n    <path d=\"M 210.456251 145.8 \nL 213.507813 145.79699 \nL 216.559376 145.787954 \nL 219.610939 145.772892 \nL 222.662501 145.75181 \nL 225.714063 145.724708 \nL 228.765626 145.69158 \nL 231.817188 145.652426 \nL 234.868751 145.607251 \nL 237.920313 145.556051 \n\" clip-path=\"url(#pfe1f591813)\" style=\"fill: none; stroke: #1f77b4; stroke-width: 1.5\"/>\n   </g>\n   <g id=\"PathCollection_8\">\n    <path d=\"M 42.620312 145.724708 \nL 43.320206 145.8 \n\" clip-path=\"url(#pfe1f591813)\" style=\"fill: none; stroke: #1f77b4; stroke-width: 1.5\"/>\n   </g>\n   <g id=\"PathCollection_9\"/>\n   <g id=\"patch_3\">\n    <path d=\"M 42.620312 145.8 \nL 42.620312 7.2 \n\" style=\"fill: none; stroke: #000000; stroke-width: 0.8; stroke-linejoin: miter; stroke-linecap: square\"/>\n   </g>\n   <g id=\"patch_4\">\n    <path d=\"M 237.920313 145.8 \nL 237.920313 7.2 \n\" style=\"fill: none; stroke: #000000; stroke-width: 0.8; stroke-linejoin: miter; stroke-linecap: square\"/>\n   </g>\n   <g id=\"patch_5\">\n    <path d=\"M 42.620312 145.8 \nL 237.920313 145.8 \n\" style=\"fill: none; stroke: #000000; stroke-width: 0.8; stroke-linejoin: miter; stroke-linecap: square\"/>\n   </g>\n   <g id=\"patch_6\">\n    <path d=\"M 42.620312 7.2 \nL 237.920313 7.2 \n\" style=\"fill: none; stroke: #000000; stroke-width: 0.8; stroke-linejoin: miter; stroke-linecap: square\"/>\n   </g>\n  </g>\n </g>\n <defs>\n  <clipPath id=\"pfe1f591813\">\n   <rect x=\"42.620312\" y=\"7.2\" width=\"195.3\" height=\"138.6\"/>\n  </clipPath>\n </defs>\n</svg>\n"
     },
     "metadata": {},
     "output_type": "display_data"
    }
   ],
   "source": [
    "def rmsprop_2d(x1, x2, s1, s2):\n",
    "    g1, g2, eps = 0.2 * x1, 4 * x2, 1e-6\n",
    "    s1 = gamma * s1 + (1 - gamma) * g1 ** 2\n",
    "    s2 = gamma * s2 + (1 - gamma) * g2 ** 2\n",
    "    x1 -= eta / math.sqrt(s1 + eps) * g1\n",
    "    x2 -= eta / math.sqrt(s2 + eps) * g2\n",
    "    return x1, x2, s1, s2\n",
    "\n",
    "def f_2d(x1, x2):\n",
    "    return 0.1 * x1 ** 2 + 2 * x2 ** 2\n",
    "\n",
    "eta, gamma = 0.4, 0.9\n",
    "d2l.show_trace_2d(f_2d, d2l.train_2d(rmsprop_2d))"
   ],
   "metadata": {
    "collapsed": false,
    "pycharm": {
     "name": "#%%\n"
    }
   }
  },
  {
   "cell_type": "code",
   "execution_count": 4,
   "outputs": [],
   "source": [
    "\"\"\"\n",
    "接下来，我们在深度网络中实现RMSProp算法。\n",
    "\"\"\"\n",
    "def init_rmsprop_states(feature_dim):\n",
    "    s_w = torch.zeros((feature_dim, 1))\n",
    "    s_b = torch.zeros(1)\n",
    "    return (s_w, s_b)\n",
    "\n",
    "def rmsprop(params, states, hyperparams):\n",
    "    gamma, eps = hyperparams['gamma'], 1e-6\n",
    "    for p, s in zip(params, states):\n",
    "        with torch.no_grad():\n",
    "            s[:] = gamma * s + (1 - gamma) * torch.square(p.grad)\n",
    "            p[:] -= hyperparams['lr'] * p.grad / torch.sqrt(s + eps)\n",
    "        p.grad.data.zero_()"
   ],
   "metadata": {
    "collapsed": false,
    "pycharm": {
     "name": "#%%\n"
    }
   }
  },
  {
   "cell_type": "markdown",
   "source": [
    "我们将初始学习率设置为0.01，加权项$\\gamma$设置为0.9。也就是说，$\\mathbf{s}$累加了过去的$1/(1-\\gamma) = 10$次平方梯度观测值的平均值。"
   ],
   "metadata": {
    "collapsed": false,
    "pycharm": {
     "name": "#%% md\n"
    }
   }
  },
  {
   "cell_type": "code",
   "execution_count": 5,
   "outputs": [
    {
     "name": "stdout",
     "output_type": "stream",
     "text": [
      "loss: 0.243, 0.004 sec/epoch\n"
     ]
    }
   ],
   "source": [
    "data_iter, feature_dim = d2l.get_data_ch11(batch_size=10)\n",
    "d2l.train_ch11(rmsprop, init_rmsprop_states(feature_dim),\n",
    "               {'lr': 0.01, 'gamma': 0.9}, data_iter, feature_dim);"
   ],
   "metadata": {
    "collapsed": false,
    "pycharm": {
     "name": "#%%\n"
    }
   }
  },
  {
   "cell_type": "markdown",
   "source": [
    "## 11.8.3. 简洁实现"
   ],
   "metadata": {
    "collapsed": false,
    "pycharm": {
     "name": "#%% md\n"
    }
   }
  },
  {
   "cell_type": "code",
   "execution_count": 7,
   "outputs": [
    {
     "name": "stdout",
     "output_type": "stream",
     "text": [
      "loss: 0.245, 0.003 sec/epoch\n"
     ]
    }
   ],
   "source": [
    "\"\"\"\n",
    "我们可直接使用深度学习框架中提供的RMSProp算法来训练模型。\n",
    "\"\"\"\n",
    "trainer = torch.optim.RMSprop\n",
    "d2l.train_concise_ch11(trainer, {'lr': 0.01, 'alpha': 0.9},\n",
    "                       data_iter)"
   ],
   "metadata": {
    "collapsed": false,
    "pycharm": {
     "name": "#%%\n"
    }
   }
  },
  {
   "cell_type": "markdown",
   "source": [
    "## 11.8.4. 小结\n",
    "* RMSProp算法与Adagrad算法非常相似，因为两者都使用梯度的平方来缩放系数。\n",
    "* RMSProp算法与动量法都使用泄漏平均值。但是，RMSProp算法使用该技术来调整按系数顺序的预处理器。\n",
    "* 在实验中，学习率需要由实验者调度。\n",
    "* 系数$\\gamma$决定了在调整每坐标比例时历史记录的时长。"
   ],
   "metadata": {
    "collapsed": false,
    "pycharm": {
     "name": "#%% md\n"
    }
   }
  },
  {
   "cell_type": "code",
   "execution_count": null,
   "outputs": [],
   "source": [],
   "metadata": {
    "collapsed": false,
    "pycharm": {
     "name": "#%%\n"
    }
   }
  },
  {
   "cell_type": "code",
   "execution_count": null,
   "outputs": [],
   "source": [],
   "metadata": {
    "collapsed": false,
    "pycharm": {
     "name": "#%%\n"
    }
   }
  }
 ],
 "metadata": {
  "kernelspec": {
   "display_name": "Python 3",
   "language": "python",
   "name": "python3"
  },
  "language_info": {
   "codemirror_mode": {
    "name": "ipython",
    "version": 2
   },
   "file_extension": ".py",
   "mimetype": "text/x-python",
   "name": "python",
   "nbconvert_exporter": "python",
   "pygments_lexer": "ipython2",
   "version": "2.7.6"
  }
 },
 "nbformat": 4,
 "nbformat_minor": 0
}