{
 "cells": [
  {
   "cell_type": "markdown",
   "metadata": {
    "collapsed": true,
    "pycharm": {
     "name": "#%% md\n"
    }
   },
   "source": [
    "# 11.7. AdaGrad算法\n",
    "## 11.7.1. 稀疏特征和学习率\n",
    "假设我们正在训练一个语言模型。为了获得良好的准确性，我们大多希望在训练的过程中降低学习率，速度通常为$\\mathcal{O}(t^{-\\frac{1}{2}})$或更低。现在讨论关于稀疏特征（即只在偶尔出现的特征）的模型训练，这对自然语言来说很常见。例如，我们看到“预先条件”这个词比“学习”这个词的可能性要小得多。但是，它在计算广告学和个性化协同过滤等其他领域也很常见。\n",
    "\n",
    "只有在这些不常见的特征出现时，与其相关的参数才会得到有意义的更新。鉴于学习率下降，我们可能最终会面临这样的情况：常见特征的参数相当迅速地收敛到最佳值，而对于不常见的特征，我们仍缺乏足够的观测以确定其最佳值。换句话说，学习率要么对于常见特征而言降低太慢，要么对于不常见特征而言降低太快。\n",
    "\n",
    "解决此问题的一个方法是记录我们看到特定特征的次数，然后将其用作调整学习率。即我们可以使用大小为$\\eta_i = \\frac{\\eta_0}{\\sqrt{s(i, t) + c}}$的学习率，而不是$\\eta = \\frac{\\eta_0}{\\sqrt{t + c}}$。在这里$s(i, t)$计下了我们截至$t$时观察到功能$i$的次数。这其实很容易实施且不产生额外损耗。\n",
    "\n",
    "AdaGrad算法`Duchi.Hazan.Singer.2011`通过将粗略的计数器$s(i, t)$替换为先前观察所得梯度的平方之和来解决这个问题。它使用$s(i, t+1) = s(i, t) + \\left(\\partial_i f(\\mathbf{x})\\right)^2$来调整学习率。这有两个好处：首先，我们不再需要决定梯度何时算足够大。其次，它会随梯度的大小自动变化。通常对应于较大梯度的坐标会显著缩小，而其他梯度较小的坐标则会得到更平滑的处理。在实际应用中，它促成了计算广告学及其相关问题中非常有效的优化程序。但是，它遮盖了AdaGrad固有的一些额外优势，这些优势在预处理环境中很容易被理解。\n",
    "\n",
    "## 11.7.2. 预处理\n",
    "\n",
    "凸优化问题有助于分析算法的特点。毕竟对于大多数非凸问题来说，获得有意义的理论保证很难，但是直觉和洞察往往会延续。让我们来看看最小化$f(\\mathbf{x}) = \\frac{1}{2} \\mathbf{x}^\\top \\mathbf{Q} \\mathbf{x} + \\mathbf{c}^\\top \\mathbf{x} + b$这一问题。\n",
    "\n",
    "正如在11.6节中那样，我们可以根据其特征分解$\\mathbf{Q} = \\mathbf{U}^\\top \\boldsymbol{\\Lambda} \\mathbf{U}$重写这个问题，来得到一个简化得多的问题，使每个坐标都可以单独解出：\n",
    "\n",
    "$$f(\\mathbf{x}) = \\bar{f}(\\bar{\\mathbf{x}}) = \\frac{1}{2} \\bar{\\mathbf{x}}^\\top \\boldsymbol{\\Lambda} \\bar{\\mathbf{x}} + \\bar{\\mathbf{c}}^\\top \\bar{\\mathbf{x}} + b.\\tag{11.7.1}$$\n",
    "\n",
    "在这里我们使用了$\\mathbf{x} = \\mathbf{U} \\mathbf{x}$，且因此$\\mathbf{c} = \\mathbf{U} \\mathbf{c}$。修改后优化器为$\\bar{\\mathbf{x}} = -\\boldsymbol{\\Lambda}^{-1} \\bar{\\mathbf{c}}$且最小值为$-\\frac{1}{2} \\bar{\\mathbf{c}}^\\top \\boldsymbol{\\Lambda}^{-1} \\bar{\\mathbf{c}} + b$。这样更容易计算，因为$\\boldsymbol{\\Lambda}$是一个包含$\\mathbf{Q}$特征值的对角矩阵。\n",
    "\n",
    "如果稍微扰动$\\mathbf{c}$，我们会期望在$f$的最小化器中只产生微小的变化。\n",
    "遗憾的是，情况并非如此。虽然$\\mathbf{c}$的微小变化导致了$\\bar{\\mathbf{c}}$同样的微小变化，但$f$的（以及$\\bar{f}$的）最小化器并非如此。每当特征值$\\boldsymbol{\\Lambda}_i$很大时，我们只会看到$\\bar{x}_i$和$\\bar{f}$的最小值发声微小变化。相反，对于小的$\\boldsymbol{\\Lambda}_i$来说，$\\bar{x}_i$的变化可能是剧烈的。最大和最小的特征值之比称为优化问题的**条件数**（condition number）。\n",
    "\n",
    "$$\\kappa = \\frac{\\boldsymbol{\\Lambda}_1}{\\boldsymbol{\\Lambda}_d}.\\tag{11.7.2}$$\n",
    "\n",
    "如果条件编号$\\kappa$很大，准确解决优化问题就会很难。我们需要确保在获取大量动态的特征值范围时足够谨慎：难道我们不能简单地通过扭曲空间来“修复”这个问题，从而使所有特征值都是$1$？理论上这很容易：我们只需要$\\mathbf{Q}$的特征值和特征向量即可将问题从$\\mathbf{x}$整理到$\\mathbf{z} := \\boldsymbol{\\Lambda}^{\\frac{1}{2}} \\mathbf{U} \\mathbf{x}$中的一个。在新的坐标系中，$\\mathbf{x}^\\top \\mathbf{Q} \\mathbf{x}$可以被简化为$\\|\\mathbf{z}\\|^2$。可惜，这是一个相当不切实际的想法。一般而言，计算特征值和特征向量要比解决实际问题“贵”得多。\n",
    "\n",
    "虽然准确计算特征值可能会很昂贵，但即便只是大致猜测并计算它们，也可能已经比不做任何事情好得多。特别是，我们可以使用$\\mathbf{Q}$的对角线条目并相应地重新缩放它。这比计算特征值开销小的多。\n",
    "\n",
    "$$\\tilde{\\mathbf{Q}} = \\mathrm{diag}^{-\\frac{1}{2}}(\\mathbf{Q}) \\mathbf{Q} \\mathrm{diag}^{-\\frac{1}{2}}(\\mathbf{Q}).\\tag{11.7.3}$$\n",
    "\n",
    "在这种情况下，我们得到了$\\tilde{\\mathbf{Q}}_{ij} = \\mathbf{Q}_{ij} / \\sqrt{\\mathbf{Q}_{ii} \\mathbf{Q}_{jj}}$，特别注意对于所有$i$，$\\tilde{\\mathbf{Q}}_{ii} = 1$。在大多数情况下，这大大简化了条件数。例如我们之前讨论的案例，它将完全消除眼下的问题，因为问题是轴对齐的。\n",
    "\n",
    "遗憾的是，我们还面临另一个问题：在深度学习中，我们通常情况甚至无法计算目标函数的二阶导数：对于$\\mathbf{x} \\in \\mathbb{R}^d$，即使只在小批量上，二阶导数可能也需要$\\mathcal{O}(d^2)$空间来计算，导致几乎不可行。AdaGrad算法巧妙的思路是，**使用一个代理来表示黑塞矩阵（Hessian）的对角线**，既相对易于计算又高效。\n",
    "\n",
    "为了了解它是如何生效的，让我们来看看$\\bar{f}(\\bar{\\mathbf{x}})$。我们有\n",
    "\n",
    "$$\\partial_{\\bar{\\mathbf{x}}} \\bar{f}(\\bar{\\mathbf{x}}) = \\boldsymbol{\\Lambda} \\bar{\\mathbf{x}} + \\bar{\\mathbf{c}} = \\boldsymbol{\\Lambda} \\left(\\bar{\\mathbf{x}} - \\bar{\\mathbf{x}}_0\\right),\\tag{11.7.4}$$\n",
    "\n",
    "其中$\\bar{\\mathbf{x}}_0$是$\\bar{f}$的优化器。因此，梯度的大小取决于$\\boldsymbol{\\Lambda}$和与最佳值的差值。如果$\\bar{\\mathbf{x}} - \\bar{\\mathbf{x}}_0$没有改变，那这就是我们所求的。毕竟在这种情况下，梯度$\\partial_{\\bar{\\mathbf{x}}} \\bar{f}(\\bar{\\mathbf{x}})$的大小就足够了。由于AdaGrad算法是一种随机梯度下降算法，所以即使是在最佳值中，我们也会看到具有非零方差的梯度。因此，我们可以放心地使用梯度的方差作为黑塞矩阵比例的廉价替代。详尽的分析（要花几页解释）超出了本节的范围，请读者参考`Duchi.Hazan.Singer.2011`。\n",
    "\n",
    "## 11.7.3.算法\n",
    "\n",
    "让我们接着上面正式开始讨论。我们使用变量$\\mathbf{s}_t$来累加过去的梯度方差，如下所示：\n",
    "\n",
    "$$\\begin{aligned}\n",
    "    \\mathbf{g}_t & = \\partial_{\\mathbf{w}} l(y_t, f(\\mathbf{x}_t, \\mathbf{w})), \\\\\n",
    "    \\mathbf{s}_t & = \\mathbf{s}_{t-1} + \\mathbf{g}_t^2, \\\\\n",
    "    \\mathbf{w}_t & = \\mathbf{w}_{t-1} - \\frac{\\eta}{\\sqrt{\\mathbf{s}_t + \\epsilon}} \\cdot \\mathbf{g}_t.\n",
    "\\end{aligned}\\tag{11.7.5}$$\n",
    "\n",
    "在这里，操作是按照坐标顺序应用。也就是说，$\\mathbf{v}^2$有条目$v_i^2$。同样，$\\frac{1}{\\sqrt{v}}$有条目$\\frac{1}{\\sqrt{v_i}}$，并且$\\mathbf{u} \\cdot \\mathbf{v}$有条目$u_i v_i$。与之前一样，$\\eta$是学习率，$\\epsilon$是一个为维持数值稳定性而添加的常数，用来确保我们不会除以$0$。最后，我们初始化$\\mathbf{s}_0 = \\mathbf{0}$。\n",
    "\n",
    "就像在动量法中我们需要跟踪一个辅助变量一样，在AdaGrad算法中，我们允许每个坐标有单独的学习率。与SGD算法相比，这并没有明显增加AdaGrad的计算代价，因为主要计算用在$l(y_t, f(\\mathbf{x}_t, \\mathbf{w}))$及其导数。\n",
    "\n",
    "请注意，在$\\mathbf{s}_t$中累加平方梯度意味着$\\mathbf{s}_t$基本上以线性速率增长（由于梯度从最初开始衰减，实际上比线性慢一些）。这产生了一个学习率$\\mathcal{O}(t^{-\\frac{1}{2}})$，但是在单个坐标的层面上进行了调整。对于凸问题，这完全足够了。然而，在深度学习中，我们可能希望更慢地降低学习率。这引出了许多AdaGrad算法的变体，我们将在后续章节中讨论它们。眼下让我们先看看它在二次凸问题中的表现如何。我们仍然以同一函数为例：\n",
    "\n",
    "$$f(\\mathbf{x}) = 0.1 x_1^2 + 2 x_2^2.\\tag{11.7.6}$$\n",
    "\n",
    "我们将使用与之前相同的学习率来实现AdaGrad算法，即$\\eta = 0.4$。可以看到，自变量的迭代轨迹较平滑。但由于$\\boldsymbol{s}_t$的累加效果使学习率不断衰减，自变量在迭代后期的移动幅度较小。"
   ]
  },
  {
   "cell_type": "code",
   "execution_count": 1,
   "outputs": [
    {
     "name": "stdout",
     "output_type": "stream",
     "text": [
      "epoch 20, x1: -2.382563, x2: -0.158591\n"
     ]
    },
    {
     "name": "stderr",
     "output_type": "stream",
     "text": [
      "/home/zhang/anaconda3/envs/d2l/lib/python3.8/site-packages/torch/functional.py:478: UserWarning: torch.meshgrid: in an upcoming release, it will be required to pass the indexing argument. (Triggered internally at  /opt/conda/conda-bld/pytorch_1656352463056/work/aten/src/ATen/native/TensorShape.cpp:2894.)\n",
      "  return _VF.meshgrid(tensors, **kwargs)  # type: ignore[attr-defined]\n"
     ]
    },
    {
     "data": {
      "text/plain": "<Figure size 350x250 with 1 Axes>",
      "image/svg+xml": "<?xml version=\"1.0\" encoding=\"utf-8\" standalone=\"no\"?>\n<!DOCTYPE svg PUBLIC \"-//W3C//DTD SVG 1.1//EN\"\n  \"http://www.w3.org/Graphics/SVG/1.1/DTD/svg11.dtd\">\n<svg xmlns:xlink=\"http://www.w3.org/1999/xlink\" width=\"245.120313pt\" height=\"183.35625pt\" viewBox=\"0 0 245.120313 183.35625\" xmlns=\"http://www.w3.org/2000/svg\" version=\"1.1\">\n <metadata>\n  <rdf:RDF xmlns:dc=\"http://purl.org/dc/elements/1.1/\" xmlns:cc=\"http://creativecommons.org/ns#\" xmlns:rdf=\"http://www.w3.org/1999/02/22-rdf-syntax-ns#\">\n   <cc:Work>\n    <dc:type rdf:resource=\"http://purl.org/dc/dcmitype/StillImage\"/>\n    <dc:date>2022-10-28T19:07:16.836469</dc:date>\n    <dc:format>image/svg+xml</dc:format>\n    <dc:creator>\n     <cc:Agent>\n      <dc:title>Matplotlib v3.5.1, https://matplotlib.org/</dc:title>\n     </cc:Agent>\n    </dc:creator>\n   </cc:Work>\n  </rdf:RDF>\n </metadata>\n <defs>\n  <style type=\"text/css\">*{stroke-linejoin: round; stroke-linecap: butt}</style>\n </defs>\n <g id=\"figure_1\">\n  <g id=\"patch_1\">\n   <path d=\"M 0 183.35625 \nL 245.120313 183.35625 \nL 245.120313 0 \nL 0 0 \nz\n\" style=\"fill: #ffffff\"/>\n  </g>\n  <g id=\"axes_1\">\n   <g id=\"patch_2\">\n    <path d=\"M 42.620312 145.8 \nL 237.920313 145.8 \nL 237.920313 7.2 \nL 42.620312 7.2 \nz\n\" style=\"fill: #ffffff\"/>\n   </g>\n   <g id=\"matplotlib.axis_1\">\n    <g id=\"xtick_1\">\n     <g id=\"line2d_1\">\n      <defs>\n       <path id=\"m6d8f2facd4\" d=\"M 0 0 \nL 0 3.5 \n\" style=\"stroke: #000000; stroke-width: 0.8\"/>\n      </defs>\n      <g>\n       <use xlink:href=\"#m6d8f2facd4\" x=\"88.39375\" y=\"145.8\" style=\"stroke: #000000; stroke-width: 0.8\"/>\n      </g>\n     </g>\n     <g id=\"text_1\">\n      <!-- −4 -->\n      <g transform=\"translate(81.022656 160.398438)scale(0.1 -0.1)\">\n       <defs>\n        <path id=\"DejaVuSans-2212\" d=\"M 678 2272 \nL 4684 2272 \nL 4684 1741 \nL 678 1741 \nL 678 2272 \nz\n\" transform=\"scale(0.015625)\"/>\n        <path id=\"DejaVuSans-34\" d=\"M 2419 4116 \nL 825 1625 \nL 2419 1625 \nL 2419 4116 \nz\nM 2253 4666 \nL 3047 4666 \nL 3047 1625 \nL 3713 1625 \nL 3713 1100 \nL 3047 1100 \nL 3047 0 \nL 2419 0 \nL 2419 1100 \nL 313 1100 \nL 313 1709 \nL 2253 4666 \nz\n\" transform=\"scale(0.015625)\"/>\n       </defs>\n       <use xlink:href=\"#DejaVuSans-2212\"/>\n       <use xlink:href=\"#DejaVuSans-34\" x=\"83.789062\"/>\n      </g>\n     </g>\n    </g>\n    <g id=\"xtick_2\">\n     <g id=\"line2d_2\">\n      <g>\n       <use xlink:href=\"#m6d8f2facd4\" x=\"149.425\" y=\"145.8\" style=\"stroke: #000000; stroke-width: 0.8\"/>\n      </g>\n     </g>\n     <g id=\"text_2\">\n      <!-- −2 -->\n      <g transform=\"translate(142.053907 160.398438)scale(0.1 -0.1)\">\n       <defs>\n        <path id=\"DejaVuSans-32\" d=\"M 1228 531 \nL 3431 531 \nL 3431 0 \nL 469 0 \nL 469 531 \nQ 828 903 1448 1529 \nQ 2069 2156 2228 2338 \nQ 2531 2678 2651 2914 \nQ 2772 3150 2772 3378 \nQ 2772 3750 2511 3984 \nQ 2250 4219 1831 4219 \nQ 1534 4219 1204 4116 \nQ 875 4013 500 3803 \nL 500 4441 \nQ 881 4594 1212 4672 \nQ 1544 4750 1819 4750 \nQ 2544 4750 2975 4387 \nQ 3406 4025 3406 3419 \nQ 3406 3131 3298 2873 \nQ 3191 2616 2906 2266 \nQ 2828 2175 2409 1742 \nQ 1991 1309 1228 531 \nz\n\" transform=\"scale(0.015625)\"/>\n       </defs>\n       <use xlink:href=\"#DejaVuSans-2212\"/>\n       <use xlink:href=\"#DejaVuSans-32\" x=\"83.789062\"/>\n      </g>\n     </g>\n    </g>\n    <g id=\"xtick_3\">\n     <g id=\"line2d_3\">\n      <g>\n       <use xlink:href=\"#m6d8f2facd4\" x=\"210.456251\" y=\"145.8\" style=\"stroke: #000000; stroke-width: 0.8\"/>\n      </g>\n     </g>\n     <g id=\"text_3\">\n      <!-- 0 -->\n      <g transform=\"translate(207.275001 160.398438)scale(0.1 -0.1)\">\n       <defs>\n        <path id=\"DejaVuSans-30\" d=\"M 2034 4250 \nQ 1547 4250 1301 3770 \nQ 1056 3291 1056 2328 \nQ 1056 1369 1301 889 \nQ 1547 409 2034 409 \nQ 2525 409 2770 889 \nQ 3016 1369 3016 2328 \nQ 3016 3291 2770 3770 \nQ 2525 4250 2034 4250 \nz\nM 2034 4750 \nQ 2819 4750 3233 4129 \nQ 3647 3509 3647 2328 \nQ 3647 1150 3233 529 \nQ 2819 -91 2034 -91 \nQ 1250 -91 836 529 \nQ 422 1150 422 2328 \nQ 422 3509 836 4129 \nQ 1250 4750 2034 4750 \nz\n\" transform=\"scale(0.015625)\"/>\n       </defs>\n       <use xlink:href=\"#DejaVuSans-30\"/>\n      </g>\n     </g>\n    </g>\n    <g id=\"text_4\">\n     <!-- x1 -->\n     <g transform=\"translate(134.129687 174.076563)scale(0.1 -0.1)\">\n      <defs>\n       <path id=\"DejaVuSans-78\" d=\"M 3513 3500 \nL 2247 1797 \nL 3578 0 \nL 2900 0 \nL 1881 1375 \nL 863 0 \nL 184 0 \nL 1544 1831 \nL 300 3500 \nL 978 3500 \nL 1906 2253 \nL 2834 3500 \nL 3513 3500 \nz\n\" transform=\"scale(0.015625)\"/>\n       <path id=\"DejaVuSans-31\" d=\"M 794 531 \nL 1825 531 \nL 1825 4091 \nL 703 3866 \nL 703 4441 \nL 1819 4666 \nL 2450 4666 \nL 2450 531 \nL 3481 531 \nL 3481 0 \nL 794 0 \nL 794 531 \nz\n\" transform=\"scale(0.015625)\"/>\n      </defs>\n      <use xlink:href=\"#DejaVuSans-78\"/>\n      <use xlink:href=\"#DejaVuSans-31\" x=\"59.179688\"/>\n     </g>\n    </g>\n   </g>\n   <g id=\"matplotlib.axis_2\">\n    <g id=\"ytick_1\">\n     <g id=\"line2d_4\">\n      <defs>\n       <path id=\"m24c754cb59\" d=\"M 0 0 \nL -3.5 0 \n\" style=\"stroke: #000000; stroke-width: 0.8\"/>\n      </defs>\n      <g>\n       <use xlink:href=\"#m24c754cb59\" x=\"42.620312\" y=\"145.8\" style=\"stroke: #000000; stroke-width: 0.8\"/>\n      </g>\n     </g>\n     <g id=\"text_5\">\n      <!-- −3 -->\n      <g transform=\"translate(20.878125 149.599219)scale(0.1 -0.1)\">\n       <defs>\n        <path id=\"DejaVuSans-33\" d=\"M 2597 2516 \nQ 3050 2419 3304 2112 \nQ 3559 1806 3559 1356 \nQ 3559 666 3084 287 \nQ 2609 -91 1734 -91 \nQ 1441 -91 1130 -33 \nQ 819 25 488 141 \nL 488 750 \nQ 750 597 1062 519 \nQ 1375 441 1716 441 \nQ 2309 441 2620 675 \nQ 2931 909 2931 1356 \nQ 2931 1769 2642 2001 \nQ 2353 2234 1838 2234 \nL 1294 2234 \nL 1294 2753 \nL 1863 2753 \nQ 2328 2753 2575 2939 \nQ 2822 3125 2822 3475 \nQ 2822 3834 2567 4026 \nQ 2313 4219 1838 4219 \nQ 1578 4219 1281 4162 \nQ 984 4106 628 3988 \nL 628 4550 \nQ 988 4650 1302 4700 \nQ 1616 4750 1894 4750 \nQ 2613 4750 3031 4423 \nQ 3450 4097 3450 3541 \nQ 3450 3153 3228 2886 \nQ 3006 2619 2597 2516 \nz\n\" transform=\"scale(0.015625)\"/>\n       </defs>\n       <use xlink:href=\"#DejaVuSans-2212\"/>\n       <use xlink:href=\"#DejaVuSans-33\" x=\"83.789062\"/>\n      </g>\n     </g>\n    </g>\n    <g id=\"ytick_2\">\n     <g id=\"line2d_5\">\n      <g>\n       <use xlink:href=\"#m24c754cb59\" x=\"42.620312\" y=\"110.261538\" style=\"stroke: #000000; stroke-width: 0.8\"/>\n      </g>\n     </g>\n     <g id=\"text_6\">\n      <!-- −2 -->\n      <g transform=\"translate(20.878125 114.060757)scale(0.1 -0.1)\">\n       <use xlink:href=\"#DejaVuSans-2212\"/>\n       <use xlink:href=\"#DejaVuSans-32\" x=\"83.789062\"/>\n      </g>\n     </g>\n    </g>\n    <g id=\"ytick_3\">\n     <g id=\"line2d_6\">\n      <g>\n       <use xlink:href=\"#m24c754cb59\" x=\"42.620312\" y=\"74.723076\" style=\"stroke: #000000; stroke-width: 0.8\"/>\n      </g>\n     </g>\n     <g id=\"text_7\">\n      <!-- −1 -->\n      <g transform=\"translate(20.878125 78.522295)scale(0.1 -0.1)\">\n       <use xlink:href=\"#DejaVuSans-2212\"/>\n       <use xlink:href=\"#DejaVuSans-31\" x=\"83.789062\"/>\n      </g>\n     </g>\n    </g>\n    <g id=\"ytick_4\">\n     <g id=\"line2d_7\">\n      <g>\n       <use xlink:href=\"#m24c754cb59\" x=\"42.620312\" y=\"39.184615\" style=\"stroke: #000000; stroke-width: 0.8\"/>\n      </g>\n     </g>\n     <g id=\"text_8\">\n      <!-- 0 -->\n      <g transform=\"translate(29.257812 42.983833)scale(0.1 -0.1)\">\n       <use xlink:href=\"#DejaVuSans-30\"/>\n      </g>\n     </g>\n    </g>\n    <g id=\"text_9\">\n     <!-- x2 -->\n     <g transform=\"translate(14.798437 82.640625)rotate(-90)scale(0.1 -0.1)\">\n      <use xlink:href=\"#DejaVuSans-78\"/>\n      <use xlink:href=\"#DejaVuSans-32\" x=\"59.179688\"/>\n     </g>\n    </g>\n   </g>\n   <g id=\"line2d_8\">\n    <path d=\"M 57.878125 110.261538 \nL 70.084369 96.046154 \nL 78.348688 87.165873 \nL 84.908015 80.537052 \nL 90.459611 75.236107 \nL 95.325825 70.841109 \nL 99.686585 67.116708 \nL 103.654327 63.914925 \nL 107.304852 61.134891 \nL 110.692126 58.703726 \nL 113.856191 56.566407 \nL 116.827734 54.679956 \nL 119.630892 53.009887 \nL 122.285063 51.527936 \nL 124.806116 50.210531 \nL 127.207235 49.037745 \nL 129.499519 47.992541 \nL 131.692415 47.060222 \nL 133.79405 46.228018 \nL 135.811476 45.48477 \nL 137.750858 44.820679 \n\" clip-path=\"url(#p3e3b061784)\" style=\"fill: none; stroke: #ff7f0e; stroke-width: 1.5; stroke-linecap: square\"/>\n    <defs>\n     <path id=\"m678fdc7a4c\" d=\"M 0 3 \nC 0.795609 3 1.55874 2.683901 2.12132 2.12132 \nC 2.683901 1.55874 3 0.795609 3 0 \nC 3 -0.795609 2.683901 -1.55874 2.12132 -2.12132 \nC 1.55874 -2.683901 0.795609 -3 0 -3 \nC -0.795609 -3 -1.55874 -2.683901 -2.12132 -2.12132 \nC -2.683901 -1.55874 -3 -0.795609 -3 0 \nC -3 0.795609 -2.683901 1.55874 -2.12132 2.12132 \nC -1.55874 2.683901 -0.795609 3 0 3 \nz\n\" style=\"stroke: #ff7f0e\"/>\n    </defs>\n    <g clip-path=\"url(#p3e3b061784)\">\n     <use xlink:href=\"#m678fdc7a4c\" x=\"57.878125\" y=\"110.261538\" style=\"fill: #ff7f0e; stroke: #ff7f0e\"/>\n     <use xlink:href=\"#m678fdc7a4c\" x=\"70.084369\" y=\"96.046154\" style=\"fill: #ff7f0e; stroke: #ff7f0e\"/>\n     <use xlink:href=\"#m678fdc7a4c\" x=\"78.348688\" y=\"87.165873\" style=\"fill: #ff7f0e; stroke: #ff7f0e\"/>\n     <use xlink:href=\"#m678fdc7a4c\" x=\"84.908015\" y=\"80.537052\" style=\"fill: #ff7f0e; stroke: #ff7f0e\"/>\n     <use xlink:href=\"#m678fdc7a4c\" x=\"90.459611\" y=\"75.236107\" style=\"fill: #ff7f0e; stroke: #ff7f0e\"/>\n     <use xlink:href=\"#m678fdc7a4c\" x=\"95.325825\" y=\"70.841109\" style=\"fill: #ff7f0e; stroke: #ff7f0e\"/>\n     <use xlink:href=\"#m678fdc7a4c\" x=\"99.686585\" y=\"67.116708\" style=\"fill: #ff7f0e; stroke: #ff7f0e\"/>\n     <use xlink:href=\"#m678fdc7a4c\" x=\"103.654327\" y=\"63.914925\" style=\"fill: #ff7f0e; stroke: #ff7f0e\"/>\n     <use xlink:href=\"#m678fdc7a4c\" x=\"107.304852\" y=\"61.134891\" style=\"fill: #ff7f0e; stroke: #ff7f0e\"/>\n     <use xlink:href=\"#m678fdc7a4c\" x=\"110.692126\" y=\"58.703726\" style=\"fill: #ff7f0e; stroke: #ff7f0e\"/>\n     <use xlink:href=\"#m678fdc7a4c\" x=\"113.856191\" y=\"56.566407\" style=\"fill: #ff7f0e; stroke: #ff7f0e\"/>\n     <use xlink:href=\"#m678fdc7a4c\" x=\"116.827734\" y=\"54.679956\" style=\"fill: #ff7f0e; stroke: #ff7f0e\"/>\n     <use xlink:href=\"#m678fdc7a4c\" x=\"119.630892\" y=\"53.009887\" style=\"fill: #ff7f0e; stroke: #ff7f0e\"/>\n     <use xlink:href=\"#m678fdc7a4c\" x=\"122.285063\" y=\"51.527936\" style=\"fill: #ff7f0e; stroke: #ff7f0e\"/>\n     <use xlink:href=\"#m678fdc7a4c\" x=\"124.806116\" y=\"50.210531\" style=\"fill: #ff7f0e; stroke: #ff7f0e\"/>\n     <use xlink:href=\"#m678fdc7a4c\" x=\"127.207235\" y=\"49.037745\" style=\"fill: #ff7f0e; stroke: #ff7f0e\"/>\n     <use xlink:href=\"#m678fdc7a4c\" x=\"129.499519\" y=\"47.992541\" style=\"fill: #ff7f0e; stroke: #ff7f0e\"/>\n     <use xlink:href=\"#m678fdc7a4c\" x=\"131.692415\" y=\"47.060222\" style=\"fill: #ff7f0e; stroke: #ff7f0e\"/>\n     <use xlink:href=\"#m678fdc7a4c\" x=\"133.79405\" y=\"46.228018\" style=\"fill: #ff7f0e; stroke: #ff7f0e\"/>\n     <use xlink:href=\"#m678fdc7a4c\" x=\"135.811476\" y=\"45.48477\" style=\"fill: #ff7f0e; stroke: #ff7f0e\"/>\n     <use xlink:href=\"#m678fdc7a4c\" x=\"137.750858\" y=\"44.820679\" style=\"fill: #ff7f0e; stroke: #ff7f0e\"/>\n    </g>\n   </g>\n   <g id=\"PathCollection_1\"/>\n   <g id=\"PathCollection_2\">\n    <path d=\"M 97.100868 7.2 \nL 94.496869 7.868961 \nL 91.44531 8.673801 \nL 88.393757 9.499545 \nL 85.342191 10.346198 \nL 83.908323 10.753845 \nL 82.290631 11.275074 \nL 79.239071 12.281998 \nL 76.187512 13.312611 \nL 73.307377 14.307692 \nL 73.135938 14.376037 \nL 70.084378 15.61988 \nL 67.032818 16.891062 \nL 64.752171 17.861537 \nL 63.981244 18.249232 \nL 60.929685 19.816153 \nL 57.878125 21.415384 \nL 54.826565 23.409482 \nL 52.48604 24.96923 \nL 51.775006 25.578453 \nL 48.723432 28.243853 \nL 48.409729 28.523076 \nL 45.671872 31.93477 \nL 45.55989 32.076922 \nL 43.880133 35.630769 \nL 43.320214 39.184616 \nL 43.880133 42.738462 \nL 45.55989 46.292308 \nL 45.671872 46.43446 \nL 48.409729 49.846154 \nL 48.723432 50.125377 \nL 51.775006 52.790777 \nL 52.486042 53.400001 \nL 54.826565 54.959745 \nL 57.878125 56.953846 \nL 60.929685 58.553076 \nL 63.981244 60.119998 \nL 64.752171 60.507693 \nL 67.032818 61.478167 \nL 70.084378 62.749349 \nL 73.135938 63.993193 \nL 73.307377 64.061538 \nL 76.187512 65.056618 \nL 79.239071 66.087232 \nL 82.290631 67.094156 \nL 83.908319 67.615382 \nL 85.342191 68.02303 \nL 88.393757 68.869685 \nL 91.44531 69.695427 \nL 94.496869 70.500269 \nL 97.100868 71.169229 \nL 97.548436 71.272105 \nL 100.599996 71.954818 \nL 103.651563 72.618826 \nL 106.703122 73.264128 \nL 109.754682 73.890726 \nL 112.806249 74.498621 \nL 113.968755 74.723076 \nL 115.857816 75.053077 \nL 118.909375 75.56923 \nL 121.960942 76.068463 \nL 125.012502 76.55077 \nL 128.064069 77.016155 \nL 131.115628 77.464616 \nL 134.167188 77.896154 \nL 136.969651 78.276924 \nL 137.218755 78.307826 \nL 140.270314 78.670936 \nL 143.321874 79.018595 \nL 146.373441 79.350803 \nL 149.425 79.667558 \nL 152.476564 79.968862 \nL 155.528127 80.254716 \nL 158.57969 80.525117 \nL 161.631253 80.780066 \nL 164.682813 81.019566 \nL 167.734376 81.243611 \nL 170.785939 81.452208 \nL 173.837499 81.645351 \nL 176.889062 81.823043 \nL 177.034329 81.830766 \nL 179.940626 81.972923 \nL 182.992189 82.107968 \nL 186.04375 82.228801 \nL 189.095313 82.335415 \nL 192.146877 82.427815 \nL 195.198438 82.505999 \nL 198.250001 82.569969 \nL 201.301564 82.619722 \nL 204.353126 82.655262 \nL 207.404689 82.676585 \nL 210.456251 82.683692 \nL 213.507813 82.676585 \nL 216.559376 82.655262 \nL 219.610939 82.619722 \nL 222.662501 82.569969 \nL 225.714063 82.505999 \nL 228.765626 82.427815 \nL 231.817188 82.335415 \nL 234.868751 82.228801 \nL 237.920313 82.107968 \n\" clip-path=\"url(#p3e3b061784)\" style=\"fill: none; stroke: #1f77b4; stroke-width: 1.5\"/>\n   </g>\n   <g id=\"PathCollection_3\">\n    <path d=\"M 42.620312 82.505999 \nL 45.671872 83.280739 \nL 48.723432 84.041258 \nL 51.775006 84.78757 \nL 54.263642 85.384613 \nL 54.826565 85.509659 \nL 57.878125 86.174359 \nL 60.929685 86.825897 \nL 63.981244 87.464272 \nL 67.032818 88.089488 \nL 70.084378 88.701539 \nL 71.29158 88.93846 \nL 73.135938 89.275465 \nL 76.187512 89.820797 \nL 79.239071 90.353873 \nL 82.290631 90.874696 \nL 85.342191 91.383263 \nL 88.393757 91.879576 \nL 91.44531 92.363634 \nL 92.277553 92.492307 \nL 94.496869 92.813298 \nL 97.548436 93.243201 \nL 100.599996 93.661637 \nL 103.651563 94.06861 \nL 106.703122 94.464117 \nL 109.754682 94.848161 \nL 112.806249 95.220742 \nL 115.857816 95.58186 \nL 118.909375 95.931512 \nL 119.943828 96.046154 \nL 121.960942 96.256152 \nL 125.012502 96.563076 \nL 128.064069 96.859229 \nL 131.115628 97.144614 \nL 134.167188 97.41923 \nL 137.218755 97.683078 \nL 140.270314 97.936154 \nL 143.321874 98.17846 \nL 146.373441 98.41 \nL 149.425 98.630769 \nL 152.476564 98.840769 \nL 155.528127 99.040001 \nL 158.57969 99.228461 \nL 161.631253 99.406154 \nL 164.682813 99.573078 \nL 165.20896 99.600001 \nL 167.734376 99.721846 \nL 170.785939 99.858923 \nL 173.837499 99.985846 \nL 176.889062 100.102617 \nL 179.940626 100.209232 \nL 182.992189 100.305693 \nL 186.04375 100.392 \nL 189.095313 100.468155 \nL 192.146877 100.534155 \nL 195.198438 100.59 \nL 198.250001 100.635694 \nL 201.301564 100.671232 \nL 204.353126 100.696615 \nL 207.404689 100.711847 \nL 210.456251 100.716923 \nL 213.507813 100.711847 \nL 216.559376 100.696615 \nL 219.610939 100.671232 \nL 222.662501 100.635694 \nL 225.714063 100.59 \nL 228.765626 100.534155 \nL 231.817188 100.468155 \nL 234.868751 100.392 \nL 237.920313 100.305693 \n\" clip-path=\"url(#p3e3b061784)\" style=\"fill: none; stroke: #1f77b4; stroke-width: 1.5\"/>\n   </g>\n   <g id=\"PathCollection_4\">\n    <path d=\"M 42.620312 100.589999 \nL 45.671872 101.143384 \nL 48.723432 101.686614 \nL 51.775006 102.219694 \nL 54.826565 102.742616 \nL 57.27387 103.153848 \nL 57.878125 103.249896 \nL 60.929685 103.725343 \nL 63.981244 104.191185 \nL 67.032818 104.647423 \nL 70.084378 105.094054 \nL 73.135938 105.53108 \nL 76.187512 105.958505 \nL 79.239071 106.376322 \nL 81.716227 106.707695 \nL 82.290631 106.780594 \nL 85.342191 107.158756 \nL 88.393757 107.527811 \nL 91.44531 107.88775 \nL 94.496869 108.23858 \nL 97.548436 108.580295 \nL 100.599996 108.912898 \nL 103.651563 109.236389 \nL 106.703122 109.550769 \nL 109.754682 109.856036 \nL 112.806249 110.152188 \nL 113.968764 110.261538 \nL 115.857816 110.430561 \nL 118.909375 110.694936 \nL 121.960942 110.950639 \nL 125.012502 111.197671 \nL 128.064069 111.43604 \nL 131.115628 111.665742 \nL 134.167188 111.886772 \nL 137.218755 112.099135 \nL 140.270314 112.302831 \nL 143.321874 112.497859 \nL 146.373441 112.68422 \nL 149.425 112.861914 \nL 152.476564 113.030936 \nL 155.528127 113.191291 \nL 158.57969 113.342983 \nL 161.631253 113.486004 \nL 164.682813 113.620353 \nL 167.734376 113.746039 \nL 169.542874 113.81539 \nL 170.785939 113.86084 \nL 173.837499 113.964148 \nL 176.889062 114.059192 \nL 179.940626 114.145972 \nL 182.992189 114.224487 \nL 186.04375 114.294739 \nL 189.095313 114.356726 \nL 192.146877 114.410445 \nL 195.198438 114.455904 \nL 198.250001 114.493094 \nL 201.301564 114.522021 \nL 204.353126 114.542683 \nL 207.404689 114.555078 \nL 210.456251 114.559212 \nL 213.507813 114.555078 \nL 216.559376 114.542683 \nL 219.610939 114.522021 \nL 222.662501 114.493094 \nL 225.714063 114.455904 \nL 228.765626 114.410445 \nL 231.817188 114.356726 \nL 234.868751 114.294739 \nL 237.920313 114.224487 \n\" clip-path=\"url(#p3e3b061784)\" style=\"fill: none; stroke: #1f77b4; stroke-width: 1.5\"/>\n   </g>\n   <g id=\"PathCollection_5\">\n    <path d=\"M 42.620312 114.455904 \nL 45.671872 114.90633 \nL 48.723432 115.348496 \nL 51.775006 115.782398 \nL 54.826565 116.208033 \nL 57.878125 116.625402 \nL 60.929685 117.034508 \nL 63.477901 117.369232 \nL 63.981244 117.432411 \nL 67.032818 117.80754 \nL 70.084378 118.174768 \nL 73.135938 118.534104 \nL 76.187512 118.885538 \nL 79.239071 119.229076 \nL 82.290631 119.564717 \nL 85.342191 119.892461 \nL 88.393757 120.212309 \nL 91.44531 120.524255 \nL 94.496869 120.828305 \nL 95.47338 120.923075 \nL 97.548436 121.115889 \nL 100.599996 121.391879 \nL 103.651563 121.660309 \nL 106.703122 121.921177 \nL 109.754682 122.174485 \nL 112.806249 122.420228 \nL 115.857816 122.658411 \nL 118.909375 122.889036 \nL 121.960942 123.112097 \nL 125.012502 123.327593 \nL 128.064069 123.535532 \nL 131.115628 123.735911 \nL 134.167188 123.928724 \nL 137.218755 124.113977 \nL 140.270314 124.29167 \nL 143.321874 124.461801 \nL 143.605786 124.476926 \nL 146.373441 124.618353 \nL 149.425 124.767036 \nL 152.476564 124.908463 \nL 155.528127 125.042637 \nL 158.57969 125.169563 \nL 161.631253 125.289234 \nL 164.682813 125.401648 \nL 167.734376 125.506814 \nL 170.785939 125.604728 \nL 173.837499 125.695385 \nL 176.889062 125.778791 \nL 179.940626 125.854945 \nL 182.992189 125.923846 \nL 186.04375 125.985495 \nL 189.095313 126.039892 \nL 192.146877 126.087033 \nL 195.198438 126.126925 \nL 198.250001 126.159562 \nL 201.301564 126.184946 \nL 204.353126 126.203079 \nL 207.404689 126.213955 \nL 210.456251 126.217583 \nL 213.507813 126.213955 \nL 216.559376 126.203079 \nL 219.610939 126.184946 \nL 222.662501 126.159562 \nL 225.714063 126.126925 \nL 228.765626 126.087033 \nL 231.817188 126.039892 \nL 234.868751 125.985495 \nL 237.920313 125.923846 \n\" clip-path=\"url(#p3e3b061784)\" style=\"fill: none; stroke: #1f77b4; stroke-width: 1.5\"/>\n   </g>\n   <g id=\"PathCollection_6\">\n    <path d=\"M 42.620312 126.126925 \nL 45.671872 126.522197 \nL 48.723432 126.91022 \nL 51.775006 127.290991 \nL 54.826565 127.664506 \nL 57.878125 128.030769 \nL 60.929685 128.375701 \nL 63.981244 128.713666 \nL 67.032818 129.044662 \nL 70.084378 129.368688 \nL 73.135938 129.685749 \nL 76.187512 129.995838 \nL 79.239071 130.29896 \nL 82.290631 130.595114 \nL 85.342191 130.884301 \nL 88.393757 131.166519 \nL 91.44531 131.441767 \nL 93.070112 131.584612 \nL 94.496869 131.705313 \nL 97.548436 131.956763 \nL 100.599996 132.201509 \nL 103.651563 132.43955 \nL 106.703122 132.670885 \nL 109.754682 132.895516 \nL 112.806249 133.113439 \nL 115.857816 133.324659 \nL 118.909375 133.529174 \nL 121.960942 133.726982 \nL 125.012502 133.918082 \nL 128.064069 134.102481 \nL 131.115628 134.280175 \nL 134.167188 134.45116 \nL 137.218755 134.615441 \nL 140.270314 134.773017 \nL 143.321874 134.923888 \nL 146.373441 135.068054 \nL 147.936485 135.138463 \nL 149.425 135.203077 \nL 152.476564 135.329076 \nL 155.528127 135.448613 \nL 158.57969 135.561693 \nL 161.631253 135.668308 \nL 164.682813 135.768459 \nL 167.734376 135.862153 \nL 170.785939 135.949385 \nL 173.837499 136.030153 \nL 176.889062 136.10446 \nL 179.940626 136.172306 \nL 182.992189 136.233691 \nL 186.04375 136.288614 \nL 189.095313 136.337077 \nL 192.146877 136.379075 \nL 195.198438 136.414616 \nL 198.250001 136.443692 \nL 201.301564 136.466308 \nL 204.353126 136.482462 \nL 207.404689 136.492152 \nL 210.456251 136.495384 \nL 213.507813 136.492152 \nL 216.559376 136.482462 \nL 219.610939 136.466308 \nL 222.662501 136.443692 \nL 225.714063 136.414616 \nL 228.765626 136.379075 \nL 231.817188 136.337077 \nL 234.868751 136.288614 \nL 237.920313 136.233691 \n\" clip-path=\"url(#p3e3b061784)\" style=\"fill: none; stroke: #1f77b4; stroke-width: 1.5\"/>\n   </g>\n   <g id=\"PathCollection_7\">\n    <path d=\"M 42.620312 136.414613 \nL 45.671872 136.766771 \nL 48.723432 137.112458 \nL 51.775006 137.451694 \nL 54.826565 137.784465 \nL 57.878125 138.110766 \nL 60.929685 138.430616 \nL 63.477871 138.692306 \nL 63.981244 138.742187 \nL 67.032818 139.038339 \nL 70.084378 139.328259 \nL 73.135938 139.611942 \nL 76.187512 139.889394 \nL 79.239071 140.160608 \nL 82.290631 140.425588 \nL 85.342191 140.684331 \nL 88.393757 140.936841 \nL 91.44531 141.183116 \nL 94.496869 141.423157 \nL 97.548436 141.656963 \nL 100.599996 141.884534 \nL 103.651563 142.105868 \nL 105.641791 142.246157 \nL 106.703122 142.318434 \nL 109.754682 142.520218 \nL 112.806249 142.715983 \nL 115.857816 142.905721 \nL 118.909375 143.089439 \nL 121.960942 143.267132 \nL 125.012502 143.438798 \nL 128.064069 143.604445 \nL 131.115628 143.764065 \nL 134.167188 143.917665 \nL 137.218755 144.06524 \nL 140.270314 144.206794 \nL 143.321874 144.342322 \nL 146.373441 144.471825 \nL 149.425 144.595307 \nL 152.476564 144.712763 \nL 155.528127 144.8242 \nL 158.57969 144.92961 \nL 161.631253 145.028994 \nL 164.682813 145.122358 \nL 167.734376 145.209702 \nL 170.785939 145.291015 \nL 173.837499 145.366313 \nL 176.889062 145.435579 \nL 179.940626 145.498825 \nL 182.992189 145.556051 \nL 186.04375 145.607251 \nL 189.095313 145.652426 \nL 192.146877 145.69158 \nL 195.198438 145.724708 \nL 198.250001 145.75181 \nL 201.301564 145.772892 \nL 204.353126 145.787954 \nL 207.404689 145.79699 \nL 210.456251 145.8 \n\" clip-path=\"url(#p3e3b061784)\" style=\"fill: none; stroke: #1f77b4; stroke-width: 1.5\"/>\n    <path d=\"M 210.456251 145.8 \nL 213.507813 145.79699 \nL 216.559376 145.787954 \nL 219.610939 145.772892 \nL 222.662501 145.75181 \nL 225.714063 145.724708 \nL 228.765626 145.69158 \nL 231.817188 145.652426 \nL 234.868751 145.607251 \nL 237.920313 145.556051 \n\" clip-path=\"url(#p3e3b061784)\" style=\"fill: none; stroke: #1f77b4; stroke-width: 1.5\"/>\n   </g>\n   <g id=\"PathCollection_8\">\n    <path d=\"M 42.620312 145.724708 \nL 43.320206 145.8 \n\" clip-path=\"url(#p3e3b061784)\" style=\"fill: none; stroke: #1f77b4; stroke-width: 1.5\"/>\n   </g>\n   <g id=\"PathCollection_9\"/>\n   <g id=\"patch_3\">\n    <path d=\"M 42.620312 145.8 \nL 42.620312 7.2 \n\" style=\"fill: none; stroke: #000000; stroke-width: 0.8; stroke-linejoin: miter; stroke-linecap: square\"/>\n   </g>\n   <g id=\"patch_4\">\n    <path d=\"M 237.920313 145.8 \nL 237.920313 7.2 \n\" style=\"fill: none; stroke: #000000; stroke-width: 0.8; stroke-linejoin: miter; stroke-linecap: square\"/>\n   </g>\n   <g id=\"patch_5\">\n    <path d=\"M 42.620312 145.8 \nL 237.920313 145.8 \n\" style=\"fill: none; stroke: #000000; stroke-width: 0.8; stroke-linejoin: miter; stroke-linecap: square\"/>\n   </g>\n   <g id=\"patch_6\">\n    <path d=\"M 42.620312 7.2 \nL 237.920313 7.2 \n\" style=\"fill: none; stroke: #000000; stroke-width: 0.8; stroke-linejoin: miter; stroke-linecap: square\"/>\n   </g>\n  </g>\n </g>\n <defs>\n  <clipPath id=\"p3e3b061784\">\n   <rect x=\"42.620312\" y=\"7.2\" width=\"195.3\" height=\"138.6\"/>\n  </clipPath>\n </defs>\n</svg>\n"
     },
     "metadata": {},
     "output_type": "display_data"
    }
   ],
   "source": [
    "%matplotlib inline\n",
    "import math\n",
    "import torch\n",
    "from d2l import torch as d2l\n",
    "\n",
    "def adagrad_2d(x1, x2, s1, s2):\n",
    "    eps = 1e-6\n",
    "    g1, g2 = 0.2 * x1, 4 * x2\n",
    "    s1 += g1 ** 2\n",
    "    s2 += g2 ** 2\n",
    "    x1 -= eta / math.sqrt(s1 + eps) * g1\n",
    "    x2 -= eta / math.sqrt(s2 + eps) * g2\n",
    "    return x1, x2, s1, s2\n",
    "\n",
    "def f_2d(x1, x2):\n",
    "    return 0.1 * x1 ** 2 + 2 * x2 ** 2\n",
    "\n",
    "eta = 0.4\n",
    "d2l.show_trace_2d(f_2d, d2l.train_2d(adagrad_2d))"
   ],
   "metadata": {
    "collapsed": false,
    "pycharm": {
     "name": "#%%\n"
    }
   }
  },
  {
   "cell_type": "code",
   "execution_count": 2,
   "outputs": [
    {
     "name": "stdout",
     "output_type": "stream",
     "text": [
      "epoch 20, x1: -0.002295, x2: -0.000000\n"
     ]
    },
    {
     "data": {
      "text/plain": "<Figure size 350x250 with 1 Axes>",
      "image/svg+xml": "<?xml version=\"1.0\" encoding=\"utf-8\" standalone=\"no\"?>\n<!DOCTYPE svg PUBLIC \"-//W3C//DTD SVG 1.1//EN\"\n  \"http://www.w3.org/Graphics/SVG/1.1/DTD/svg11.dtd\">\n<svg xmlns:xlink=\"http://www.w3.org/1999/xlink\" width=\"245.120313pt\" height=\"183.35625pt\" viewBox=\"0 0 245.120313 183.35625\" xmlns=\"http://www.w3.org/2000/svg\" version=\"1.1\">\n <metadata>\n  <rdf:RDF xmlns:dc=\"http://purl.org/dc/elements/1.1/\" xmlns:cc=\"http://creativecommons.org/ns#\" xmlns:rdf=\"http://www.w3.org/1999/02/22-rdf-syntax-ns#\">\n   <cc:Work>\n    <dc:type rdf:resource=\"http://purl.org/dc/dcmitype/StillImage\"/>\n    <dc:date>2022-10-28T19:07:47.996277</dc:date>\n    <dc:format>image/svg+xml</dc:format>\n    <dc:creator>\n     <cc:Agent>\n      <dc:title>Matplotlib v3.5.1, https://matplotlib.org/</dc:title>\n     </cc:Agent>\n    </dc:creator>\n   </cc:Work>\n  </rdf:RDF>\n </metadata>\n <defs>\n  <style type=\"text/css\">*{stroke-linejoin: round; stroke-linecap: butt}</style>\n </defs>\n <g id=\"figure_1\">\n  <g id=\"patch_1\">\n   <path d=\"M 0 183.35625 \nL 245.120313 183.35625 \nL 245.120313 0 \nL 0 0 \nz\n\" style=\"fill: #ffffff\"/>\n  </g>\n  <g id=\"axes_1\">\n   <g id=\"patch_2\">\n    <path d=\"M 42.620312 145.8 \nL 237.920313 145.8 \nL 237.920313 7.2 \nL 42.620312 7.2 \nz\n\" style=\"fill: #ffffff\"/>\n   </g>\n   <g id=\"matplotlib.axis_1\">\n    <g id=\"xtick_1\">\n     <g id=\"line2d_1\">\n      <defs>\n       <path id=\"m1677e561ab\" d=\"M 0 0 \nL 0 3.5 \n\" style=\"stroke: #000000; stroke-width: 0.8\"/>\n      </defs>\n      <g>\n       <use xlink:href=\"#m1677e561ab\" x=\"88.39375\" y=\"145.8\" style=\"stroke: #000000; stroke-width: 0.8\"/>\n      </g>\n     </g>\n     <g id=\"text_1\">\n      <!-- −4 -->\n      <g transform=\"translate(81.022656 160.398438)scale(0.1 -0.1)\">\n       <defs>\n        <path id=\"DejaVuSans-2212\" d=\"M 678 2272 \nL 4684 2272 \nL 4684 1741 \nL 678 1741 \nL 678 2272 \nz\n\" transform=\"scale(0.015625)\"/>\n        <path id=\"DejaVuSans-34\" d=\"M 2419 4116 \nL 825 1625 \nL 2419 1625 \nL 2419 4116 \nz\nM 2253 4666 \nL 3047 4666 \nL 3047 1625 \nL 3713 1625 \nL 3713 1100 \nL 3047 1100 \nL 3047 0 \nL 2419 0 \nL 2419 1100 \nL 313 1100 \nL 313 1709 \nL 2253 4666 \nz\n\" transform=\"scale(0.015625)\"/>\n       </defs>\n       <use xlink:href=\"#DejaVuSans-2212\"/>\n       <use xlink:href=\"#DejaVuSans-34\" x=\"83.789062\"/>\n      </g>\n     </g>\n    </g>\n    <g id=\"xtick_2\">\n     <g id=\"line2d_2\">\n      <g>\n       <use xlink:href=\"#m1677e561ab\" x=\"149.425\" y=\"145.8\" style=\"stroke: #000000; stroke-width: 0.8\"/>\n      </g>\n     </g>\n     <g id=\"text_2\">\n      <!-- −2 -->\n      <g transform=\"translate(142.053907 160.398438)scale(0.1 -0.1)\">\n       <defs>\n        <path id=\"DejaVuSans-32\" d=\"M 1228 531 \nL 3431 531 \nL 3431 0 \nL 469 0 \nL 469 531 \nQ 828 903 1448 1529 \nQ 2069 2156 2228 2338 \nQ 2531 2678 2651 2914 \nQ 2772 3150 2772 3378 \nQ 2772 3750 2511 3984 \nQ 2250 4219 1831 4219 \nQ 1534 4219 1204 4116 \nQ 875 4013 500 3803 \nL 500 4441 \nQ 881 4594 1212 4672 \nQ 1544 4750 1819 4750 \nQ 2544 4750 2975 4387 \nQ 3406 4025 3406 3419 \nQ 3406 3131 3298 2873 \nQ 3191 2616 2906 2266 \nQ 2828 2175 2409 1742 \nQ 1991 1309 1228 531 \nz\n\" transform=\"scale(0.015625)\"/>\n       </defs>\n       <use xlink:href=\"#DejaVuSans-2212\"/>\n       <use xlink:href=\"#DejaVuSans-32\" x=\"83.789062\"/>\n      </g>\n     </g>\n    </g>\n    <g id=\"xtick_3\">\n     <g id=\"line2d_3\">\n      <g>\n       <use xlink:href=\"#m1677e561ab\" x=\"210.456251\" y=\"145.8\" style=\"stroke: #000000; stroke-width: 0.8\"/>\n      </g>\n     </g>\n     <g id=\"text_3\">\n      <!-- 0 -->\n      <g transform=\"translate(207.275001 160.398438)scale(0.1 -0.1)\">\n       <defs>\n        <path id=\"DejaVuSans-30\" d=\"M 2034 4250 \nQ 1547 4250 1301 3770 \nQ 1056 3291 1056 2328 \nQ 1056 1369 1301 889 \nQ 1547 409 2034 409 \nQ 2525 409 2770 889 \nQ 3016 1369 3016 2328 \nQ 3016 3291 2770 3770 \nQ 2525 4250 2034 4250 \nz\nM 2034 4750 \nQ 2819 4750 3233 4129 \nQ 3647 3509 3647 2328 \nQ 3647 1150 3233 529 \nQ 2819 -91 2034 -91 \nQ 1250 -91 836 529 \nQ 422 1150 422 2328 \nQ 422 3509 836 4129 \nQ 1250 4750 2034 4750 \nz\n\" transform=\"scale(0.015625)\"/>\n       </defs>\n       <use xlink:href=\"#DejaVuSans-30\"/>\n      </g>\n     </g>\n    </g>\n    <g id=\"text_4\">\n     <!-- x1 -->\n     <g transform=\"translate(134.129687 174.076563)scale(0.1 -0.1)\">\n      <defs>\n       <path id=\"DejaVuSans-78\" d=\"M 3513 3500 \nL 2247 1797 \nL 3578 0 \nL 2900 0 \nL 1881 1375 \nL 863 0 \nL 184 0 \nL 1544 1831 \nL 300 3500 \nL 978 3500 \nL 1906 2253 \nL 2834 3500 \nL 3513 3500 \nz\n\" transform=\"scale(0.015625)\"/>\n       <path id=\"DejaVuSans-31\" d=\"M 794 531 \nL 1825 531 \nL 1825 4091 \nL 703 3866 \nL 703 4441 \nL 1819 4666 \nL 2450 4666 \nL 2450 531 \nL 3481 531 \nL 3481 0 \nL 794 0 \nL 794 531 \nz\n\" transform=\"scale(0.015625)\"/>\n      </defs>\n      <use xlink:href=\"#DejaVuSans-78\"/>\n      <use xlink:href=\"#DejaVuSans-31\" x=\"59.179688\"/>\n     </g>\n    </g>\n   </g>\n   <g id=\"matplotlib.axis_2\">\n    <g id=\"ytick_1\">\n     <g id=\"line2d_4\">\n      <defs>\n       <path id=\"mab77947d8f\" d=\"M 0 0 \nL -3.5 0 \n\" style=\"stroke: #000000; stroke-width: 0.8\"/>\n      </defs>\n      <g>\n       <use xlink:href=\"#mab77947d8f\" x=\"42.620312\" y=\"145.8\" style=\"stroke: #000000; stroke-width: 0.8\"/>\n      </g>\n     </g>\n     <g id=\"text_5\">\n      <!-- −3 -->\n      <g transform=\"translate(20.878125 149.599219)scale(0.1 -0.1)\">\n       <defs>\n        <path id=\"DejaVuSans-33\" d=\"M 2597 2516 \nQ 3050 2419 3304 2112 \nQ 3559 1806 3559 1356 \nQ 3559 666 3084 287 \nQ 2609 -91 1734 -91 \nQ 1441 -91 1130 -33 \nQ 819 25 488 141 \nL 488 750 \nQ 750 597 1062 519 \nQ 1375 441 1716 441 \nQ 2309 441 2620 675 \nQ 2931 909 2931 1356 \nQ 2931 1769 2642 2001 \nQ 2353 2234 1838 2234 \nL 1294 2234 \nL 1294 2753 \nL 1863 2753 \nQ 2328 2753 2575 2939 \nQ 2822 3125 2822 3475 \nQ 2822 3834 2567 4026 \nQ 2313 4219 1838 4219 \nQ 1578 4219 1281 4162 \nQ 984 4106 628 3988 \nL 628 4550 \nQ 988 4650 1302 4700 \nQ 1616 4750 1894 4750 \nQ 2613 4750 3031 4423 \nQ 3450 4097 3450 3541 \nQ 3450 3153 3228 2886 \nQ 3006 2619 2597 2516 \nz\n\" transform=\"scale(0.015625)\"/>\n       </defs>\n       <use xlink:href=\"#DejaVuSans-2212\"/>\n       <use xlink:href=\"#DejaVuSans-33\" x=\"83.789062\"/>\n      </g>\n     </g>\n    </g>\n    <g id=\"ytick_2\">\n     <g id=\"line2d_5\">\n      <g>\n       <use xlink:href=\"#mab77947d8f\" x=\"42.620312\" y=\"110.261538\" style=\"stroke: #000000; stroke-width: 0.8\"/>\n      </g>\n     </g>\n     <g id=\"text_6\">\n      <!-- −2 -->\n      <g transform=\"translate(20.878125 114.060757)scale(0.1 -0.1)\">\n       <use xlink:href=\"#DejaVuSans-2212\"/>\n       <use xlink:href=\"#DejaVuSans-32\" x=\"83.789062\"/>\n      </g>\n     </g>\n    </g>\n    <g id=\"ytick_3\">\n     <g id=\"line2d_6\">\n      <g>\n       <use xlink:href=\"#mab77947d8f\" x=\"42.620312\" y=\"74.723076\" style=\"stroke: #000000; stroke-width: 0.8\"/>\n      </g>\n     </g>\n     <g id=\"text_7\">\n      <!-- −1 -->\n      <g transform=\"translate(20.878125 78.522295)scale(0.1 -0.1)\">\n       <use xlink:href=\"#DejaVuSans-2212\"/>\n       <use xlink:href=\"#DejaVuSans-31\" x=\"83.789062\"/>\n      </g>\n     </g>\n    </g>\n    <g id=\"ytick_4\">\n     <g id=\"line2d_7\">\n      <g>\n       <use xlink:href=\"#mab77947d8f\" x=\"42.620312\" y=\"39.184615\" style=\"stroke: #000000; stroke-width: 0.8\"/>\n      </g>\n     </g>\n     <g id=\"text_8\">\n      <!-- 0 -->\n      <g transform=\"translate(29.257812 42.983833)scale(0.1 -0.1)\">\n       <use xlink:href=\"#DejaVuSans-30\"/>\n      </g>\n     </g>\n    </g>\n    <g id=\"text_9\">\n     <!-- x2 -->\n     <g transform=\"translate(14.798437 82.640625)rotate(-90)scale(0.1 -0.1)\">\n      <use xlink:href=\"#DejaVuSans-78\"/>\n      <use xlink:href=\"#DejaVuSans-32\" x=\"59.179688\"/>\n     </g>\n    </g>\n   </g>\n   <g id=\"line2d_8\">\n    <path d=\"M 57.878125 110.261538 \nL 118.909345 39.184615 \nL 150.30966 39.184615 \nL 169.853409 39.184615 \nL 182.748839 39.184615 \nL 191.45862 39.184615 \nL 197.40211 39.184615 \nL 201.47704 39.184615 \nL 204.277004 39.184615 \nL 206.202904 39.184615 \nL 207.528241 39.184615 \nL 208.440503 39.184615 \nL 209.068504 39.184615 \nL 209.500842 39.184615 \nL 209.798486 39.184615 \nL 210.003402 39.184615 \nL 210.144479 39.184615 \nL 210.241606 39.184615 \nL 210.308475 39.184615 \nL 210.354512 39.184615 \nL 210.386207 39.184615 \n\" clip-path=\"url(#pe20e27a2f5)\" style=\"fill: none; stroke: #ff7f0e; stroke-width: 1.5; stroke-linecap: square\"/>\n    <defs>\n     <path id=\"m22af741335\" d=\"M 0 3 \nC 0.795609 3 1.55874 2.683901 2.12132 2.12132 \nC 2.683901 1.55874 3 0.795609 3 0 \nC 3 -0.795609 2.683901 -1.55874 2.12132 -2.12132 \nC 1.55874 -2.683901 0.795609 -3 0 -3 \nC -0.795609 -3 -1.55874 -2.683901 -2.12132 -2.12132 \nC -2.683901 -1.55874 -3 -0.795609 -3 0 \nC -3 0.795609 -2.683901 1.55874 -2.12132 2.12132 \nC -1.55874 2.683901 -0.795609 3 0 3 \nz\n\" style=\"stroke: #ff7f0e\"/>\n    </defs>\n    <g clip-path=\"url(#pe20e27a2f5)\">\n     <use xlink:href=\"#m22af741335\" x=\"57.878125\" y=\"110.261538\" style=\"fill: #ff7f0e; stroke: #ff7f0e\"/>\n     <use xlink:href=\"#m22af741335\" x=\"118.909345\" y=\"39.184615\" style=\"fill: #ff7f0e; stroke: #ff7f0e\"/>\n     <use xlink:href=\"#m22af741335\" x=\"150.30966\" y=\"39.184615\" style=\"fill: #ff7f0e; stroke: #ff7f0e\"/>\n     <use xlink:href=\"#m22af741335\" x=\"169.853409\" y=\"39.184615\" style=\"fill: #ff7f0e; stroke: #ff7f0e\"/>\n     <use xlink:href=\"#m22af741335\" x=\"182.748839\" y=\"39.184615\" style=\"fill: #ff7f0e; stroke: #ff7f0e\"/>\n     <use xlink:href=\"#m22af741335\" x=\"191.45862\" y=\"39.184615\" style=\"fill: #ff7f0e; stroke: #ff7f0e\"/>\n     <use xlink:href=\"#m22af741335\" x=\"197.40211\" y=\"39.184615\" style=\"fill: #ff7f0e; stroke: #ff7f0e\"/>\n     <use xlink:href=\"#m22af741335\" x=\"201.47704\" y=\"39.184615\" style=\"fill: #ff7f0e; stroke: #ff7f0e\"/>\n     <use xlink:href=\"#m22af741335\" x=\"204.277004\" y=\"39.184615\" style=\"fill: #ff7f0e; stroke: #ff7f0e\"/>\n     <use xlink:href=\"#m22af741335\" x=\"206.202904\" y=\"39.184615\" style=\"fill: #ff7f0e; stroke: #ff7f0e\"/>\n     <use xlink:href=\"#m22af741335\" x=\"207.528241\" y=\"39.184615\" style=\"fill: #ff7f0e; stroke: #ff7f0e\"/>\n     <use xlink:href=\"#m22af741335\" x=\"208.440503\" y=\"39.184615\" style=\"fill: #ff7f0e; stroke: #ff7f0e\"/>\n     <use xlink:href=\"#m22af741335\" x=\"209.068504\" y=\"39.184615\" style=\"fill: #ff7f0e; stroke: #ff7f0e\"/>\n     <use xlink:href=\"#m22af741335\" x=\"209.500842\" y=\"39.184615\" style=\"fill: #ff7f0e; stroke: #ff7f0e\"/>\n     <use xlink:href=\"#m22af741335\" x=\"209.798486\" y=\"39.184615\" style=\"fill: #ff7f0e; stroke: #ff7f0e\"/>\n     <use xlink:href=\"#m22af741335\" x=\"210.003402\" y=\"39.184615\" style=\"fill: #ff7f0e; stroke: #ff7f0e\"/>\n     <use xlink:href=\"#m22af741335\" x=\"210.144479\" y=\"39.184615\" style=\"fill: #ff7f0e; stroke: #ff7f0e\"/>\n     <use xlink:href=\"#m22af741335\" x=\"210.241606\" y=\"39.184615\" style=\"fill: #ff7f0e; stroke: #ff7f0e\"/>\n     <use xlink:href=\"#m22af741335\" x=\"210.308475\" y=\"39.184615\" style=\"fill: #ff7f0e; stroke: #ff7f0e\"/>\n     <use xlink:href=\"#m22af741335\" x=\"210.354512\" y=\"39.184615\" style=\"fill: #ff7f0e; stroke: #ff7f0e\"/>\n     <use xlink:href=\"#m22af741335\" x=\"210.386207\" y=\"39.184615\" style=\"fill: #ff7f0e; stroke: #ff7f0e\"/>\n    </g>\n   </g>\n   <g id=\"PathCollection_1\"/>\n   <g id=\"PathCollection_2\">\n    <path d=\"M 97.100868 7.2 \nL 94.496869 7.868961 \nL 91.44531 8.673801 \nL 88.393757 9.499545 \nL 85.342191 10.346198 \nL 83.908323 10.753845 \nL 82.290631 11.275074 \nL 79.239071 12.281998 \nL 76.187512 13.312611 \nL 73.307377 14.307692 \nL 73.135938 14.376037 \nL 70.084378 15.61988 \nL 67.032818 16.891062 \nL 64.752171 17.861537 \nL 63.981244 18.249232 \nL 60.929685 19.816153 \nL 57.878125 21.415384 \nL 54.826565 23.409482 \nL 52.48604 24.96923 \nL 51.775006 25.578453 \nL 48.723432 28.243853 \nL 48.409729 28.523076 \nL 45.671872 31.93477 \nL 45.55989 32.076922 \nL 43.880133 35.630769 \nL 43.320214 39.184616 \nL 43.880133 42.738462 \nL 45.55989 46.292308 \nL 45.671872 46.43446 \nL 48.409729 49.846154 \nL 48.723432 50.125377 \nL 51.775006 52.790777 \nL 52.486042 53.400001 \nL 54.826565 54.959745 \nL 57.878125 56.953846 \nL 60.929685 58.553076 \nL 63.981244 60.119998 \nL 64.752171 60.507693 \nL 67.032818 61.478167 \nL 70.084378 62.749349 \nL 73.135938 63.993193 \nL 73.307377 64.061538 \nL 76.187512 65.056618 \nL 79.239071 66.087232 \nL 82.290631 67.094156 \nL 83.908319 67.615382 \nL 85.342191 68.02303 \nL 88.393757 68.869685 \nL 91.44531 69.695427 \nL 94.496869 70.500269 \nL 97.100868 71.169229 \nL 97.548436 71.272105 \nL 100.599996 71.954818 \nL 103.651563 72.618826 \nL 106.703122 73.264128 \nL 109.754682 73.890726 \nL 112.806249 74.498621 \nL 113.968755 74.723076 \nL 115.857816 75.053077 \nL 118.909375 75.56923 \nL 121.960942 76.068463 \nL 125.012502 76.55077 \nL 128.064069 77.016155 \nL 131.115628 77.464616 \nL 134.167188 77.896154 \nL 136.969651 78.276924 \nL 137.218755 78.307826 \nL 140.270314 78.670936 \nL 143.321874 79.018595 \nL 146.373441 79.350803 \nL 149.425 79.667558 \nL 152.476564 79.968862 \nL 155.528127 80.254716 \nL 158.57969 80.525117 \nL 161.631253 80.780066 \nL 164.682813 81.019566 \nL 167.734376 81.243611 \nL 170.785939 81.452208 \nL 173.837499 81.645351 \nL 176.889062 81.823043 \nL 177.034329 81.830766 \nL 179.940626 81.972923 \nL 182.992189 82.107968 \nL 186.04375 82.228801 \nL 189.095313 82.335415 \nL 192.146877 82.427815 \nL 195.198438 82.505999 \nL 198.250001 82.569969 \nL 201.301564 82.619722 \nL 204.353126 82.655262 \nL 207.404689 82.676585 \nL 210.456251 82.683692 \nL 213.507813 82.676585 \nL 216.559376 82.655262 \nL 219.610939 82.619722 \nL 222.662501 82.569969 \nL 225.714063 82.505999 \nL 228.765626 82.427815 \nL 231.817188 82.335415 \nL 234.868751 82.228801 \nL 237.920313 82.107968 \n\" clip-path=\"url(#pe20e27a2f5)\" style=\"fill: none; stroke: #1f77b4; stroke-width: 1.5\"/>\n   </g>\n   <g id=\"PathCollection_3\">\n    <path d=\"M 42.620312 82.505999 \nL 45.671872 83.280739 \nL 48.723432 84.041258 \nL 51.775006 84.78757 \nL 54.263642 85.384613 \nL 54.826565 85.509659 \nL 57.878125 86.174359 \nL 60.929685 86.825897 \nL 63.981244 87.464272 \nL 67.032818 88.089488 \nL 70.084378 88.701539 \nL 71.29158 88.93846 \nL 73.135938 89.275465 \nL 76.187512 89.820797 \nL 79.239071 90.353873 \nL 82.290631 90.874696 \nL 85.342191 91.383263 \nL 88.393757 91.879576 \nL 91.44531 92.363634 \nL 92.277553 92.492307 \nL 94.496869 92.813298 \nL 97.548436 93.243201 \nL 100.599996 93.661637 \nL 103.651563 94.06861 \nL 106.703122 94.464117 \nL 109.754682 94.848161 \nL 112.806249 95.220742 \nL 115.857816 95.58186 \nL 118.909375 95.931512 \nL 119.943828 96.046154 \nL 121.960942 96.256152 \nL 125.012502 96.563076 \nL 128.064069 96.859229 \nL 131.115628 97.144614 \nL 134.167188 97.41923 \nL 137.218755 97.683078 \nL 140.270314 97.936154 \nL 143.321874 98.17846 \nL 146.373441 98.41 \nL 149.425 98.630769 \nL 152.476564 98.840769 \nL 155.528127 99.040001 \nL 158.57969 99.228461 \nL 161.631253 99.406154 \nL 164.682813 99.573078 \nL 165.20896 99.600001 \nL 167.734376 99.721846 \nL 170.785939 99.858923 \nL 173.837499 99.985846 \nL 176.889062 100.102617 \nL 179.940626 100.209232 \nL 182.992189 100.305693 \nL 186.04375 100.392 \nL 189.095313 100.468155 \nL 192.146877 100.534155 \nL 195.198438 100.59 \nL 198.250001 100.635694 \nL 201.301564 100.671232 \nL 204.353126 100.696615 \nL 207.404689 100.711847 \nL 210.456251 100.716923 \nL 213.507813 100.711847 \nL 216.559376 100.696615 \nL 219.610939 100.671232 \nL 222.662501 100.635694 \nL 225.714063 100.59 \nL 228.765626 100.534155 \nL 231.817188 100.468155 \nL 234.868751 100.392 \nL 237.920313 100.305693 \n\" clip-path=\"url(#pe20e27a2f5)\" style=\"fill: none; stroke: #1f77b4; stroke-width: 1.5\"/>\n   </g>\n   <g id=\"PathCollection_4\">\n    <path d=\"M 42.620312 100.589999 \nL 45.671872 101.143384 \nL 48.723432 101.686614 \nL 51.775006 102.219694 \nL 54.826565 102.742616 \nL 57.27387 103.153848 \nL 57.878125 103.249896 \nL 60.929685 103.725343 \nL 63.981244 104.191185 \nL 67.032818 104.647423 \nL 70.084378 105.094054 \nL 73.135938 105.53108 \nL 76.187512 105.958505 \nL 79.239071 106.376322 \nL 81.716227 106.707695 \nL 82.290631 106.780594 \nL 85.342191 107.158756 \nL 88.393757 107.527811 \nL 91.44531 107.88775 \nL 94.496869 108.23858 \nL 97.548436 108.580295 \nL 100.599996 108.912898 \nL 103.651563 109.236389 \nL 106.703122 109.550769 \nL 109.754682 109.856036 \nL 112.806249 110.152188 \nL 113.968764 110.261538 \nL 115.857816 110.430561 \nL 118.909375 110.694936 \nL 121.960942 110.950639 \nL 125.012502 111.197671 \nL 128.064069 111.43604 \nL 131.115628 111.665742 \nL 134.167188 111.886772 \nL 137.218755 112.099135 \nL 140.270314 112.302831 \nL 143.321874 112.497859 \nL 146.373441 112.68422 \nL 149.425 112.861914 \nL 152.476564 113.030936 \nL 155.528127 113.191291 \nL 158.57969 113.342983 \nL 161.631253 113.486004 \nL 164.682813 113.620353 \nL 167.734376 113.746039 \nL 169.542874 113.81539 \nL 170.785939 113.86084 \nL 173.837499 113.964148 \nL 176.889062 114.059192 \nL 179.940626 114.145972 \nL 182.992189 114.224487 \nL 186.04375 114.294739 \nL 189.095313 114.356726 \nL 192.146877 114.410445 \nL 195.198438 114.455904 \nL 198.250001 114.493094 \nL 201.301564 114.522021 \nL 204.353126 114.542683 \nL 207.404689 114.555078 \nL 210.456251 114.559212 \nL 213.507813 114.555078 \nL 216.559376 114.542683 \nL 219.610939 114.522021 \nL 222.662501 114.493094 \nL 225.714063 114.455904 \nL 228.765626 114.410445 \nL 231.817188 114.356726 \nL 234.868751 114.294739 \nL 237.920313 114.224487 \n\" clip-path=\"url(#pe20e27a2f5)\" style=\"fill: none; stroke: #1f77b4; stroke-width: 1.5\"/>\n   </g>\n   <g id=\"PathCollection_5\">\n    <path d=\"M 42.620312 114.455904 \nL 45.671872 114.90633 \nL 48.723432 115.348496 \nL 51.775006 115.782398 \nL 54.826565 116.208033 \nL 57.878125 116.625402 \nL 60.929685 117.034508 \nL 63.477901 117.369232 \nL 63.981244 117.432411 \nL 67.032818 117.80754 \nL 70.084378 118.174768 \nL 73.135938 118.534104 \nL 76.187512 118.885538 \nL 79.239071 119.229076 \nL 82.290631 119.564717 \nL 85.342191 119.892461 \nL 88.393757 120.212309 \nL 91.44531 120.524255 \nL 94.496869 120.828305 \nL 95.47338 120.923075 \nL 97.548436 121.115889 \nL 100.599996 121.391879 \nL 103.651563 121.660309 \nL 106.703122 121.921177 \nL 109.754682 122.174485 \nL 112.806249 122.420228 \nL 115.857816 122.658411 \nL 118.909375 122.889036 \nL 121.960942 123.112097 \nL 125.012502 123.327593 \nL 128.064069 123.535532 \nL 131.115628 123.735911 \nL 134.167188 123.928724 \nL 137.218755 124.113977 \nL 140.270314 124.29167 \nL 143.321874 124.461801 \nL 143.605786 124.476926 \nL 146.373441 124.618353 \nL 149.425 124.767036 \nL 152.476564 124.908463 \nL 155.528127 125.042637 \nL 158.57969 125.169563 \nL 161.631253 125.289234 \nL 164.682813 125.401648 \nL 167.734376 125.506814 \nL 170.785939 125.604728 \nL 173.837499 125.695385 \nL 176.889062 125.778791 \nL 179.940626 125.854945 \nL 182.992189 125.923846 \nL 186.04375 125.985495 \nL 189.095313 126.039892 \nL 192.146877 126.087033 \nL 195.198438 126.126925 \nL 198.250001 126.159562 \nL 201.301564 126.184946 \nL 204.353126 126.203079 \nL 207.404689 126.213955 \nL 210.456251 126.217583 \nL 213.507813 126.213955 \nL 216.559376 126.203079 \nL 219.610939 126.184946 \nL 222.662501 126.159562 \nL 225.714063 126.126925 \nL 228.765626 126.087033 \nL 231.817188 126.039892 \nL 234.868751 125.985495 \nL 237.920313 125.923846 \n\" clip-path=\"url(#pe20e27a2f5)\" style=\"fill: none; stroke: #1f77b4; stroke-width: 1.5\"/>\n   </g>\n   <g id=\"PathCollection_6\">\n    <path d=\"M 42.620312 126.126925 \nL 45.671872 126.522197 \nL 48.723432 126.91022 \nL 51.775006 127.290991 \nL 54.826565 127.664506 \nL 57.878125 128.030769 \nL 60.929685 128.375701 \nL 63.981244 128.713666 \nL 67.032818 129.044662 \nL 70.084378 129.368688 \nL 73.135938 129.685749 \nL 76.187512 129.995838 \nL 79.239071 130.29896 \nL 82.290631 130.595114 \nL 85.342191 130.884301 \nL 88.393757 131.166519 \nL 91.44531 131.441767 \nL 93.070112 131.584612 \nL 94.496869 131.705313 \nL 97.548436 131.956763 \nL 100.599996 132.201509 \nL 103.651563 132.43955 \nL 106.703122 132.670885 \nL 109.754682 132.895516 \nL 112.806249 133.113439 \nL 115.857816 133.324659 \nL 118.909375 133.529174 \nL 121.960942 133.726982 \nL 125.012502 133.918082 \nL 128.064069 134.102481 \nL 131.115628 134.280175 \nL 134.167188 134.45116 \nL 137.218755 134.615441 \nL 140.270314 134.773017 \nL 143.321874 134.923888 \nL 146.373441 135.068054 \nL 147.936485 135.138463 \nL 149.425 135.203077 \nL 152.476564 135.329076 \nL 155.528127 135.448613 \nL 158.57969 135.561693 \nL 161.631253 135.668308 \nL 164.682813 135.768459 \nL 167.734376 135.862153 \nL 170.785939 135.949385 \nL 173.837499 136.030153 \nL 176.889062 136.10446 \nL 179.940626 136.172306 \nL 182.992189 136.233691 \nL 186.04375 136.288614 \nL 189.095313 136.337077 \nL 192.146877 136.379075 \nL 195.198438 136.414616 \nL 198.250001 136.443692 \nL 201.301564 136.466308 \nL 204.353126 136.482462 \nL 207.404689 136.492152 \nL 210.456251 136.495384 \nL 213.507813 136.492152 \nL 216.559376 136.482462 \nL 219.610939 136.466308 \nL 222.662501 136.443692 \nL 225.714063 136.414616 \nL 228.765626 136.379075 \nL 231.817188 136.337077 \nL 234.868751 136.288614 \nL 237.920313 136.233691 \n\" clip-path=\"url(#pe20e27a2f5)\" style=\"fill: none; stroke: #1f77b4; stroke-width: 1.5\"/>\n   </g>\n   <g id=\"PathCollection_7\">\n    <path d=\"M 42.620312 136.414613 \nL 45.671872 136.766771 \nL 48.723432 137.112458 \nL 51.775006 137.451694 \nL 54.826565 137.784465 \nL 57.878125 138.110766 \nL 60.929685 138.430616 \nL 63.477871 138.692306 \nL 63.981244 138.742187 \nL 67.032818 139.038339 \nL 70.084378 139.328259 \nL 73.135938 139.611942 \nL 76.187512 139.889394 \nL 79.239071 140.160608 \nL 82.290631 140.425588 \nL 85.342191 140.684331 \nL 88.393757 140.936841 \nL 91.44531 141.183116 \nL 94.496869 141.423157 \nL 97.548436 141.656963 \nL 100.599996 141.884534 \nL 103.651563 142.105868 \nL 105.641791 142.246157 \nL 106.703122 142.318434 \nL 109.754682 142.520218 \nL 112.806249 142.715983 \nL 115.857816 142.905721 \nL 118.909375 143.089439 \nL 121.960942 143.267132 \nL 125.012502 143.438798 \nL 128.064069 143.604445 \nL 131.115628 143.764065 \nL 134.167188 143.917665 \nL 137.218755 144.06524 \nL 140.270314 144.206794 \nL 143.321874 144.342322 \nL 146.373441 144.471825 \nL 149.425 144.595307 \nL 152.476564 144.712763 \nL 155.528127 144.8242 \nL 158.57969 144.92961 \nL 161.631253 145.028994 \nL 164.682813 145.122358 \nL 167.734376 145.209702 \nL 170.785939 145.291015 \nL 173.837499 145.366313 \nL 176.889062 145.435579 \nL 179.940626 145.498825 \nL 182.992189 145.556051 \nL 186.04375 145.607251 \nL 189.095313 145.652426 \nL 192.146877 145.69158 \nL 195.198438 145.724708 \nL 198.250001 145.75181 \nL 201.301564 145.772892 \nL 204.353126 145.787954 \nL 207.404689 145.79699 \nL 210.456251 145.8 \n\" clip-path=\"url(#pe20e27a2f5)\" style=\"fill: none; stroke: #1f77b4; stroke-width: 1.5\"/>\n    <path d=\"M 210.456251 145.8 \nL 213.507813 145.79699 \nL 216.559376 145.787954 \nL 219.610939 145.772892 \nL 222.662501 145.75181 \nL 225.714063 145.724708 \nL 228.765626 145.69158 \nL 231.817188 145.652426 \nL 234.868751 145.607251 \nL 237.920313 145.556051 \n\" clip-path=\"url(#pe20e27a2f5)\" style=\"fill: none; stroke: #1f77b4; stroke-width: 1.5\"/>\n   </g>\n   <g id=\"PathCollection_8\">\n    <path d=\"M 42.620312 145.724708 \nL 43.320206 145.8 \n\" clip-path=\"url(#pe20e27a2f5)\" style=\"fill: none; stroke: #1f77b4; stroke-width: 1.5\"/>\n   </g>\n   <g id=\"PathCollection_9\"/>\n   <g id=\"patch_3\">\n    <path d=\"M 42.620312 145.8 \nL 42.620312 7.2 \n\" style=\"fill: none; stroke: #000000; stroke-width: 0.8; stroke-linejoin: miter; stroke-linecap: square\"/>\n   </g>\n   <g id=\"patch_4\">\n    <path d=\"M 237.920313 145.8 \nL 237.920313 7.2 \n\" style=\"fill: none; stroke: #000000; stroke-width: 0.8; stroke-linejoin: miter; stroke-linecap: square\"/>\n   </g>\n   <g id=\"patch_5\">\n    <path d=\"M 42.620312 145.8 \nL 237.920313 145.8 \n\" style=\"fill: none; stroke: #000000; stroke-width: 0.8; stroke-linejoin: miter; stroke-linecap: square\"/>\n   </g>\n   <g id=\"patch_6\">\n    <path d=\"M 42.620312 7.2 \nL 237.920313 7.2 \n\" style=\"fill: none; stroke: #000000; stroke-width: 0.8; stroke-linejoin: miter; stroke-linecap: square\"/>\n   </g>\n  </g>\n </g>\n <defs>\n  <clipPath id=\"pe20e27a2f5\">\n   <rect x=\"42.620312\" y=\"7.2\" width=\"195.3\" height=\"138.6\"/>\n  </clipPath>\n </defs>\n</svg>\n"
     },
     "metadata": {},
     "output_type": "display_data"
    }
   ],
   "source": [
    "\"\"\"\n",
    "我们将学习率提高到2，可以看到更好的表现。 这已经表明，即使在无噪声的情况下，学习率的降低可能相当剧烈，我们需要确保参数能够适当地收敛。\n",
    "\"\"\"\n",
    "eta = 2\n",
    "d2l.show_trace_2d(f_2d, d2l.train_2d(adagrad_2d))"
   ],
   "metadata": {
    "collapsed": false,
    "pycharm": {
     "name": "#%%\n"
    }
   }
  },
  {
   "cell_type": "markdown",
   "source": [
    "## 11.7.4. 从零开始实现\n",
    "同动量法一样，AdaGrad算法需要对**每个自变量**维护同它一样形状的**状态变量**。"
   ],
   "metadata": {
    "collapsed": false,
    "pycharm": {
     "name": "#%% md\n"
    }
   }
  },
  {
   "cell_type": "code",
   "execution_count": 3,
   "outputs": [
    {
     "name": "stdout",
     "output_type": "stream",
     "text": [
      "loss: 0.244, 0.003 sec/epoch\n"
     ]
    }
   ],
   "source": [
    "def init_adagrad_states(feature_dim):\n",
    "    s_w = torch.zeros((feature_dim, 1))\n",
    "    s_b = torch.zeros(1)\n",
    "    return (s_w, s_b)\n",
    "\n",
    "def adagrad(params, states, hyperparams):\n",
    "    eps = 1e-6\n",
    "    for p, s in zip(params, states):\n",
    "        with torch.no_grad():\n",
    "            s[:] += torch.square(p.grad)\n",
    "            p[:] -= hyperparams['lr'] * p.grad / torch.sqrt(s + eps)\n",
    "        p.grad.data.zero_()\n",
    "\n",
    "\"\"\"\n",
    "与 11.5节中的实验相比，这里使用更大的学习率来训练模型。\n",
    "\"\"\"\n",
    "data_iter, feature_dim = d2l.get_data_ch11(batch_size=10)\n",
    "d2l.train_ch11(adagrad, init_adagrad_states(feature_dim),\n",
    "               {'lr': 0.1}, data_iter, feature_dim);"
   ],
   "metadata": {
    "collapsed": false,
    "pycharm": {
     "name": "#%%\n"
    }
   }
  },
  {
   "cell_type": "markdown",
   "source": [
    "## 11.7.5. 简洁实现"
   ],
   "metadata": {
    "collapsed": false,
    "pycharm": {
     "name": "#%% md\n"
    }
   }
  },
  {
   "cell_type": "code",
   "execution_count": 4,
   "outputs": [
    {
     "name": "stdout",
     "output_type": "stream",
     "text": [
      "loss: 0.243, 0.003 sec/epoch\n"
     ]
    }
   ],
   "source": [
    "\"\"\"\n",
    "我们可直接使用深度学习框架中提供的AdaGrad算法来训练模型。\n",
    "\"\"\"\n",
    "trainer = torch.optim.Adagrad\n",
    "d2l.train_concise_ch11(trainer, {'lr': 0.1}, data_iter)"
   ],
   "metadata": {
    "collapsed": false,
    "pycharm": {
     "name": "#%%\n"
    }
   }
  },
  {
   "cell_type": "markdown",
   "source": [
    "## 11.7.6. 小结\n",
    "* AdaGrad算法会在单个坐标层面动态降低学习率。\n",
    "* AdaGrad算法利用梯度的大小作为调整进度速率的手段：用较小的学习率来补偿带有较大梯度的坐标。\n",
    "* 在深度学习问题中，由于内存和计算限制，计算准确的二阶导数通常是不可行的。梯度可以作为一个有效的代理。\n",
    "* 如果优化问题的结构相当不均匀，AdaGrad算法可以帮助缓解扭曲。\n",
    "* AdaGrad算法对于稀疏特征特别有效，在此情况下由于不常出现的问题，学习率需要更慢地降低。\n",
    "* 在深度学习问题上，AdaGrad算法有时在降低学习率方面可能过于剧烈。我们将在11.10节讨论缓解这种情况的策略。"
   ],
   "metadata": {
    "collapsed": false,
    "pycharm": {
     "name": "#%% md\n"
    }
   }
  },
  {
   "cell_type": "code",
   "execution_count": null,
   "outputs": [],
   "source": [],
   "metadata": {
    "collapsed": false,
    "pycharm": {
     "name": "#%%\n"
    }
   }
  }
 ],
 "metadata": {
  "kernelspec": {
   "display_name": "Python 3",
   "language": "python",
   "name": "python3"
  },
  "language_info": {
   "codemirror_mode": {
    "name": "ipython",
    "version": 2
   },
   "file_extension": ".py",
   "mimetype": "text/x-python",
   "name": "python",
   "nbconvert_exporter": "python",
   "pygments_lexer": "ipython2",
   "version": "2.7.6"
  }
 },
 "nbformat": 4,
 "nbformat_minor": 0
}