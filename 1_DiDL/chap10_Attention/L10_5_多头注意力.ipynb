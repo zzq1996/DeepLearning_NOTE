{
 "cells": [
  {
   "cell_type": "markdown",
   "metadata": {
    "collapsed": true,
    "pycharm": {
     "name": "#%% md\n"
    }
   },
   "source": [
    "# 10.5 多头注意力\n",
    "在实践中，当给定相同的查询（query）、键（key）和值（value）的集合时，我们希望模型可以基于相同的注意力机制学习到不同的行为，然后将不同的行为作为知识组合起来，捕获序列内各种范围的依赖关系（例如，短距离依赖和长距离依赖关系）。因此，允许注意力机制组合使用查询、键和值的不同**子空间表示**（representation subspaces）可能是有益的。\n",
    "\n",
    "为此，与其只使用单独一个注意力汇聚，我们可以用独立学习得到的$h$组不同的**线性投影**（linear projections）来变换查询、键和值。\n",
    "然后，这$h$组变换后的查询、键和值将并行地送到注意力汇聚中。\n",
    "最后，将这$h$个注意力汇聚的输出**拼接**在一起，并且通过另一个可以学习的线性投影进行变换，以产生最终输出。这种设计被称为**多头注意力**（multihead attention）`Vaswani.Shazeer.Parmar.ea.2017`。对于$h$个注意力汇聚输出，每一个注意力汇聚都被称作一个**头**（head）。下图展示了使用全连接层来实现可学习的线性变换的多头注意力。\n",
    "![](../img/10_13.png)\n",
    "![多头注意力](../img/10_4.png)"
   ]
  },
  {
   "cell_type": "markdown",
   "source": [
    "## 10.5.1. 模型\n",
    "在实现多头注意力之前，让我们用数学语言将这个模型形式化地描述出来。给定查询$\\mathbf{q} \\in \\mathbb{R}^{d_q}$、键$\\mathbf{k} \\in \\mathbb{R}^{d_k}$和值$\\mathbf{v} \\in \\mathbb{R}^{d_v}$，每个注意力头$\\mathbf{h}_i$（$i = 1, \\ldots, h$）的计算方法为：\n",
    "\n",
    "$$\\mathbf{h}_i = f(\\mathbf W_i^{(q)}\\mathbf q, \\mathbf W_i^{(k)}\\mathbf k,\\mathbf W_i^{(v)}\\mathbf v) \\in \\mathbb R^{p_v},\\tag{10.5.1}$$\n",
    "\n",
    "其中，可学习的参数包括$\\mathbf W_i^{(q)}\\in\\mathbb R^{p_q\\times d_q}$、$\\mathbf W_i^{(k)}\\in\\mathbb R^{p_k\\times d_k}$和$\\mathbf W_i^{(v)}\\in\\mathbb R^{p_v\\times d_v}$，以及代表注意力汇聚的函数$f$。$f$可以是[10.3节](./L10_3_注意力评分函数.ipynb)中的加性注意力和缩放点积注意力。\n",
    "\n",
    "多头注意力的输出需要经过另一个线性转换，它对应着$h$个头连结后的结果，因此其可学习参数是$\\mathbf W_o\\in\\mathbb R^{p_o\\times h p_v}$：\n",
    "\n",
    "$$\\mathbf W_o \\begin{bmatrix}\\mathbf h_1\\\\\\vdots\\\\\\mathbf h_h\\end{bmatrix} \\in \\mathbb{R}^{p_o}. \\tag{10.5.2}$$\n",
    "\n",
    "基于这种设计，每个头都可能会关注输入的不同部分，可以表示比简单加权平均值更复杂的函数。\n",
    "![](../img/10_18.png)"
   ],
   "metadata": {
    "collapsed": false,
    "pycharm": {
     "name": "#%% md\n"
    }
   }
  },
  {
   "cell_type": "markdown",
   "source": [
    "## 10.5.2. 实现\n",
    "在实现过程中，我们**选择缩放点积注意力作为每一个注意力头**。为了避免计算代价和参数代价的大幅增长，我们设定$p_q = p_k = p_v = p_o / h$。值得注意的是，如果我们将查询、键和值的线性变换的输出数量设置为$p_q h = p_k h = p_v h = p_o$，则可以并行计算$h$个头。在下面的实现中，$p_o$是通过参数`num_hiddens`指定的。"
   ],
   "metadata": {
    "collapsed": false,
    "pycharm": {
     "name": "#%% md\n"
    }
   }
  },
  {
   "cell_type": "code",
   "execution_count": 1,
   "outputs": [],
   "source": [
    "from d2l.torch import masked_softmax\n",
    "import math\n",
    "import torch\n",
    "from torch import nn\n",
    "from d2l import torch as d2l\n",
    "\n",
    "def masked_softmax(X, valid_lens):\n",
    "    \"\"\"Perform softmax operation by masking elements on the last axis.\n",
    "\n",
    "    Defined in :numref:`sec_attention-scoring-functions`\"\"\"\n",
    "    # `X`: 3D tensor, `valid_lens`: 1D or 2D tensor\n",
    "    if valid_lens is None:\n",
    "        return nn.functional.softmax(X, dim=-1)\n",
    "    else:\n",
    "        shape = X.shape\n",
    "        if valid_lens.dim() == 1:\n",
    "            valid_lens = torch.repeat_interleave(valid_lens, shape[1])\n",
    "        else:\n",
    "            valid_lens = valid_lens.reshape(-1)\n",
    "        # On the last axis, replace masked elements with a very large negative\n",
    "        # value, whose exponentiation outputs 0\n",
    "        X = d2l.sequence_mask(X.reshape(-1, shape[-1]), valid_lens,\n",
    "                              value=-1e6)\n",
    "        return nn.functional.softmax(X.reshape(shape), dim=-1)\n",
    "\n",
    "\n",
    "class DotProductAttention(nn.Module):\n",
    "    \"\"\"Scaled dot product attention.\n",
    "\n",
    "    Defined in :numref:`subsec_additive-attention`\"\"\"\n",
    "    def __init__(self, dropout, **kwargs):\n",
    "        super(DotProductAttention, self).__init__(**kwargs)\n",
    "        self.dropout = nn.Dropout(dropout)\n",
    "\n",
    "    # Shape of `queries`: (`batch_size`, no. of queries, `d`)\n",
    "    # Shape of `keys`: (`batch_size`, no. of key-value pairs, `d`)\n",
    "    # Shape of `values`: (`batch_size`, no. of key-value pairs, value\n",
    "    # dimension)\n",
    "    # Shape of `valid_lens`: (`batch_size`,) or (`batch_size`, no. of queries)\n",
    "    def forward(self, queries, keys, values, valid_lens=None):\n",
    "        d = queries.shape[-1]\n",
    "        # Set `transpose_b=True` to swap the last two dimensions of `keys`\n",
    "        scores = torch.bmm(queries, keys.transpose(1,2)) / math.sqrt(d)\n",
    "        self.attention_weights = masked_softmax(scores, valid_lens)\n",
    "        return torch.bmm(self.dropout(self.attention_weights), values)\n",
    "\n",
    "#@save\n",
    "class MultiHeadAttention(nn.Module):\n",
    "    \"\"\"多头注意力\"\"\"\n",
    "    def __init__(self,\n",
    "                 key_size,\n",
    "                 query_size,\n",
    "                 value_size,\n",
    "                 num_hiddens,\n",
    "                 num_heads,\n",
    "                 dropout,\n",
    "                 bias=False,\n",
    "                 **kwargs):\n",
    "        \"\"\"\n",
    "        :param key_size: key\n",
    "        :param query_size: quary\n",
    "        :param value_size: value\n",
    "        :param num_hiddens: 全连接层神经元个数\n",
    "        :param num_heads: 头数\n",
    "        :param dropout: 随机置0\n",
    "        :param bias: 偏置\n",
    "        :param kwargs: 参数\n",
    "        \"\"\"\n",
    "        super(MultiHeadAttention,self).__init__(**kwargs)\n",
    "\n",
    "        self.num_heads = num_heads\n",
    "\n",
    "        self.attention = DotProductAttention(dropout)\n",
    "\n",
    "        self.W_q = nn.Linear(query_size,num_hiddens,bias=bias)\n",
    "\n",
    "        self.W_k = nn.Linear(key_size,num_hiddens,bias=bias)\n",
    "\n",
    "        self.W_v = nn.Linear(value_size,num_hiddens,bias=bias)\n",
    "\n",
    "        self.W_o = nn.Linear(num_hiddens,num_hiddens,bias=bias)\n",
    "\n",
    "    def forward(self,queries,keys,values,valid_lens):\n",
    "        # queries，keys，values的形状:(batch_size，查询或者“键－值”对的个数，num_hiddens)\n",
    "        # valid_lens的形状:(batch_size，)或(batch_size，查询的个数)\n",
    "        # 经过变换后，输出的queries，keys，values　的形状:\n",
    "        # (batch_size*num_heads，查询或者“键－值”对的个数，num_hiddens/num_heads)\n",
    "        queries = transpose_qkv(self.W_q(queries),self.num_heads)\n",
    "        keys = transpose_qkv(self.W_k(keys),self.num_heads)\n",
    "        values = transpose_qkv(self.W_v(values),self.num_heads)\n",
    "\n",
    "        if valid_lens is not None:\n",
    "            # 在轴0，将第一项（标量或者矢量）复制num_heads次，然后如此复制第二项，然后诸如此类。\n",
    "            valid_lens = torch.repeat_interleave(valid_lens,\n",
    "                                                 repeats=self.num_heads,\n",
    "                                                 dim=0)\n",
    "\n",
    "        #output的形状:(batch_size*num_heads，查询的个数，num_hiddens/num_heads)\n",
    "        output = self.attention(queries,keys,values,valid_lens)\n",
    "\n",
    "        # output_concat的形状:(batch_size，查询的个数，num_hiddens)\n",
    "        output_concat = transpose_output(output,self.num_heads)\n",
    "        return self.W_o(output_concat)\n",
    "\n",
    "\"\"\"\n",
    "为了能够使多个头并行计算， 上面的MultiHeadAttention类将使用下面定义的两个转置函数。\n",
    "\n",
    "具体来说，transpose_output函数反转了transpose_qkv函数的操作。\n",
    "\"\"\"\n",
    "#@save\n",
    "def transpose_qkv(X,num_heads):\n",
    "    \"\"\"为了多注意力头的并行计算而变换形状\"\"\"\n",
    "    # 输入X的形状:(batch_size，查询或者“键－值”对的个数，num_hiddens)\n",
    "    # 输出X的形状:(batch_size，查询或者“键－值”对的个数，num_heads，num_hiddens/num_heads)\n",
    "    X = X.reshape(X.shape[0],X.shape[1],num_heads,-1)\n",
    "\n",
    "    # 输出X的形状:(batch_size，num_heads，查询或者“键－值”对的个数,num_hiddens/num_heads)\n",
    "    X = X.permute(0,2,1,3)\n",
    "\n",
    "    # 最终输出的形状:(batch_size*num_heads,查询或者“键－值”对的个数,num_hiddens/num_heads)\n",
    "    return X.reshape(-1,X.shape[2],X.shape[3])\n",
    "\n",
    "#@save\n",
    "def transpose_output(X,num_heads):\n",
    "    \"\"\"逆转transpose_qkv函数的操作\"\"\"\n",
    "    X = X.reshape(-1,num_heads,X.shape[1],X.shape[2])\n",
    "    X = X.permute(0,2,1,3)\n",
    "    return X.reshape(X.shape[0],X.shape[1],-1)\n"
   ],
   "metadata": {
    "collapsed": false,
    "pycharm": {
     "name": "#%%\n"
    }
   }
  },
  {
   "cell_type": "code",
   "execution_count": 2,
   "outputs": [
    {
     "data": {
      "text/plain": "MultiHeadAttention(\n  (attention): DotProductAttention(\n    (dropout): Dropout(p=0.5, inplace=False)\n  )\n  (W_q): Linear(in_features=100, out_features=100, bias=False)\n  (W_k): Linear(in_features=100, out_features=100, bias=False)\n  (W_v): Linear(in_features=100, out_features=100, bias=False)\n  (W_o): Linear(in_features=100, out_features=100, bias=False)\n)"
     },
     "execution_count": 2,
     "metadata": {},
     "output_type": "execute_result"
    }
   ],
   "source": [
    "\"\"\"\n",
    "下面我们使用键和值相同的小例子来测试我们编写的MultiHeadAttention类。\n",
    "\n",
    "多头注意力输出的形状是（batch_size，num_queries，num_hiddens）。\n",
    "\"\"\"\n",
    "num_hiddens, num_heads = 100, 5\n",
    "\n",
    "attention = MultiHeadAttention(num_hiddens,\n",
    "                               num_hiddens,\n",
    "                               num_hiddens,\n",
    "                               num_hiddens,\n",
    "                               num_heads,\n",
    "                               dropout=0.5)\n",
    "\n",
    "# python eval() 函数的功能：将字符串str当成有效的表达式来求值并返回计算结果。\n",
    "attention.eval()\n"
   ],
   "metadata": {
    "collapsed": false,
    "pycharm": {
     "name": "#%%\n"
    }
   }
  },
  {
   "cell_type": "code",
   "execution_count": 3,
   "outputs": [
    {
     "data": {
      "text/plain": "torch.Size([2, 4, 100])"
     },
     "execution_count": 3,
     "metadata": {},
     "output_type": "execute_result"
    }
   ],
   "source": [
    "batch_size, num_queries = 2,4\n",
    "\n",
    "num_kvpairs, valid_lens = 6, torch.tensor([3,2])\n",
    "\n",
    "X = torch.ones((batch_size, num_queries, num_hiddens))\n",
    "Y = torch.ones((batch_size, num_kvpairs, num_hiddens))\n",
    "\n",
    "attention(X, Y, Y, valid_lens).shape"
   ],
   "metadata": {
    "collapsed": false,
    "pycharm": {
     "name": "#%%\n"
    }
   }
  },
  {
   "cell_type": "markdown",
   "source": [
    "## 10.5.3. 小结\n",
    "- 多头注意力融合了来自于多个注意力汇聚的不同知识，这些知识的不同来源于相同的查询、键和值的不同的子空间表示。\n",
    "- 基于适当的张量操作，可以实现多头注意力的并行计算。"
   ],
   "metadata": {
    "collapsed": false,
    "pycharm": {
     "name": "#%% md\n"
    }
   }
  },
  {
   "cell_type": "code",
   "execution_count": null,
   "outputs": [],
   "source": [],
   "metadata": {
    "collapsed": false,
    "pycharm": {
     "name": "#%%\n"
    }
   }
  }
 ],
 "metadata": {
  "kernelspec": {
   "display_name": "Python 3",
   "language": "python",
   "name": "python3"
  },
  "language_info": {
   "codemirror_mode": {
    "name": "ipython",
    "version": 2
   },
   "file_extension": ".py",
   "mimetype": "text/x-python",
   "name": "python",
   "nbconvert_exporter": "python",
   "pygments_lexer": "ipython2",
   "version": "2.7.6"
  }
 },
 "nbformat": 4,
 "nbformat_minor": 0
}
