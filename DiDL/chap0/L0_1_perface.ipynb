{
 "cells": [
  {
   "cell_type": "markdown",
   "metadata": {
    "collapsed": true,
    "pycharm": {
     "name": "#%% md\n"
    }
   },
   "source": [
    "# 机器学习\n",
    "![](../img/0_2.png)\n",
    "\n",
    "## 1.监督学习（supervised learning）\n",
    "![](../img/0_1.png)\n",
    "### 1.1 回归\n",
    "假设你在市场上寻找新房子，你可能需要估计一栋房子的公平市场价值。 销售价格，即标签，是一个数值。 当标签取任意数值时，我们称之为**回归问题**。 我们的目标是生成一个模型，它的预测非常接近实际标签值。\n",
    "\n",
    "### 1.2 分类\n",
    "在分类问题中，我们希望模型能够预测样本属于哪个类别（category，正式称为类（class））。\n",
    "\n",
    "在回归中，我们训练一个回归函数来输出一个数值； 而在分类中，我们训练一个分类器，它的输出即为预测的类别。\n",
    "\n",
    "当我们有两个以上的类别时，我们把这个问题称为多元分类（multiclass classification）问题。 常见的例子包括手写字符识别${0,1,2...9,a,b,c...}$ 。 与解决回归问题不同，分类问题的常见损失函数被称为交叉熵（cross-entropy）\n",
    "\n",
    "分类可能变得比二元分类、多元分类复杂得多。 例如，有一些分类任务的变体可以用于寻找层次结构，层次结构假定在许多类之间存在某种关系。 因此，并不是所有的错误都是均等的。 **我们宁愿错误地分入一个相关的类别，也不愿错误地分入一个遥远的类别**，这通常被称为**层次分类(hierarchical classification)**。 早期的一个例子是卡尔·林奈，他对动物进行了层次分类。\n",
    "\n",
    "\n",
    "### 1.3 标记\n",
    "- 多标签分类（multi-label classification）\n",
    "### 1.4 搜索\n",
    "### 1.5 推荐系统\n",
    "### 1.6 序列学习\n",
    "- 标记和解析\n",
    "- 自动语音识别\n",
    "- 文本到语音\n",
    "- 机器翻译\n",
    "\n",
    "## 2.无监督学习（unsupervised learning）\n",
    "### 2.1 聚类（clustering）\n",
    "\n",
    "### 2.2 主成分分析（principal component analysis）\n",
    "\n",
    "### 2.3 因果关系（causality）和概率图模型（probabilistic graphical models）\n",
    "\n",
    "### 2.4 生成对抗网络（generative adversarial networks）\n",
    "\n",
    "## 3.与环境互动\n",
    "\n",
    "## 4.强化学习"
   ]
  },
  {
   "cell_type": "markdown",
   "source": [
    "# 深度学习\n",
    "- 深度学习：一类机器学习问题，主要解决贡献度分配问题。\n",
    "- 神经网络：一种以（人工）神经元为基本单元的模型\n",
    "\n",
    "## 深度学习\n",
    "![](../img/0_3.png)\n",
    "![](../img/0_4.png)\n",
    "\n",
    "## 神经网络\n",
    "![](../img/0_5.png)\n",
    "![](../img/0_6.png)"
   ],
   "metadata": {
    "collapsed": false,
    "pycharm": {
     "name": "#%% md\n"
    }
   }
  },
  {
   "cell_type": "code",
   "execution_count": null,
   "outputs": [],
   "source": [],
   "metadata": {
    "collapsed": false,
    "pycharm": {
     "name": "#%%\n"
    }
   }
  }
 ],
 "metadata": {
  "kernelspec": {
   "display_name": "Python 3",
   "language": "python",
   "name": "python3"
  },
  "language_info": {
   "codemirror_mode": {
    "name": "ipython",
    "version": 2
   },
   "file_extension": ".py",
   "mimetype": "text/x-python",
   "name": "python",
   "nbconvert_exporter": "python",
   "pygments_lexer": "ipython2",
   "version": "2.7.6"
  }
 },
 "nbformat": 4,
 "nbformat_minor": 0
}