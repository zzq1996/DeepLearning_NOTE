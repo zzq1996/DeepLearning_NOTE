{
 "cells": [
  {
   "cell_type": "markdown",
   "metadata": {
    "collapsed": true,
    "pycharm": {
     "name": "#%% md\n"
    }
   },
   "source": [
    "# 14.7. 词的相似性和类比任务\n",
    "\n",
    "在[14.4节](./L14_4_预训练word2vec.ipynb)中，我们在一个小的数据集上训练了一个word2vec模型，并使用它为一个输入词寻找语义相似的词。实际上，在大型语料库上预先训练的词向量可以应用于下游的自然语言处理任务，这将在后面的第15章中讨论。为了直观地演示大型语料库中预训练词向量的语义，让我们将预训练词向量应用到词的相似性和类比任务中。\n",
    "\n",
    "## 14.7.1. 加载预训练词向量"
   ]
  },
  {
   "cell_type": "code",
   "execution_count": 1,
   "outputs": [
    {
     "name": "stdout",
     "output_type": "stream",
     "text": [
      "Downloading ../data/glove.6B.50d.zip from http://d2l-data.s3-accelerate.amazonaws.com/glove.6B.50d.zip...\n"
     ]
    }
   ],
   "source": [
    "import os\n",
    "import torch\n",
    "from torch import nn\n",
    "from d2l import torch as d2l\n",
    "\n",
    "\"\"\"\n",
    "以下列出维度为50、100和300的预训练GloVe嵌入，可从GloVe网站下载。\n",
    "\n",
    "预训练的fastText嵌入有多种语言。这里我们使用可以从fastText网站下载300维度的英文版本（“wiki.en”）。\n",
    "\"\"\"\n",
    "\n",
    "\n",
    "#@save\n",
    "d2l.DATA_HUB['glove.6b.50d'] = (d2l.DATA_URL + 'glove.6B.50d.zip','0b8703943ccdb6eb788e6f091b8946e82231bc4d')\n",
    "\n",
    "#@save\n",
    "d2l.DATA_HUB['glove.6b.100d'] = (d2l.DATA_URL + 'glove.6B.100d.zip', 'cd43bfb07e44e6f27cbcc7bc9ae3d80284fdaf5a')\n",
    "\n",
    "#@save\n",
    "d2l.DATA_HUB['glove.42b.300d'] = (d2l.DATA_URL + 'glove.42B.300d.zip','b5116e234e9eb9076672cfeabf5469f3eec904fa')\n",
    "\n",
    "#@save\n",
    "d2l.DATA_HUB['wiki.en'] = (d2l.DATA_URL + 'wiki.en.zip','c1816da3821ae9f43899be655002f6c723e91b88')\n",
    "\n",
    "\"\"\"\n",
    "为了加载这些预训练的GloVe和fastText嵌入，我们定义了以下TokenEmbedding类。\n",
    "\"\"\"\n",
    "#@save\n",
    "class TokenEmbedding:\n",
    "    \"\"\"GloVe嵌入\"\"\"\n",
    "    def __init__(self,embedding_name):\n",
    "        self.idx_to_token,self.idx_to_vec=self._load_embedding(embedding_name)\n",
    "        self.unknown_idx=0\n",
    "        self.token_to_idx={token:idx for idx,token in enumerate(self.idx_to_token)}\n",
    "\n",
    "    def _load_embedding(self,embedding_name):\n",
    "        idx_to_token,idx_to_vec=['<unk>'],[]\n",
    "        data_dir=d2l.download_extract(embedding_name)\n",
    "        # GloVe网站：https://nlp.stanford.edu/projects/glove/\n",
    "        # fastText网站：https://fasttext.cc/\n",
    "        with open(os.path.join(data_dir,'vec.txt'),'r') as f:\n",
    "            for line in f:\n",
    "                elems=line.rstrip().split(' ')\n",
    "                token,elems=elems[0],[float(elem) for elem in elems[1:]]\n",
    "                # 跳过标题信息，例如fastText中的首行\n",
    "                if len(elems)>1:\n",
    "                    idx_to_token.append(token)\n",
    "                    idx_to_vec.append(elems)\n",
    "        idx_to_vec=[[0]*len(idx_to_vec[0])] + idx_to_vec\n",
    "        return idx_to_token,torch.tensor(idx_to_vec)\n",
    "\n",
    "    def __getitem__(self, tokens):\n",
    "        indices=[self.token_to_idx.get(token,self.unknown_idx) for token in tokens]\n",
    "        vecs=self.idx_to_vec[torch.tensor(indices)]\n",
    "        return vecs\n",
    "\n",
    "    def __len__(self):\n",
    "        return len(self.idx_to_token)\n",
    "\n",
    "\n",
    "\"\"\"\n",
    "下面我们加载50维GloVe嵌入（在维基百科的子集上预训练）。创建TokenEmbedding实例时，如果尚未下载指定的嵌入文件，则必须下载该文件。\n",
    "\"\"\"\n",
    "glove_6b50d=TokenEmbedding('glove.6b.50d')"
   ],
   "metadata": {
    "collapsed": false,
    "pycharm": {
     "name": "#%%\n"
    }
   }
  },
  {
   "cell_type": "code",
   "execution_count": 2,
   "outputs": [
    {
     "data": {
      "text/plain": "400001"
     },
     "execution_count": 2,
     "metadata": {},
     "output_type": "execute_result"
    }
   ],
   "source": [
    "\"\"\"\n",
    "输出词表大小。词表包含400000个词（词元）和一个特殊的未知词元。\n",
    "\"\"\"\n",
    "len(glove_6b50d)"
   ],
   "metadata": {
    "collapsed": false,
    "pycharm": {
     "name": "#%%\n"
    }
   }
  },
  {
   "cell_type": "code",
   "execution_count": 3,
   "outputs": [
    {
     "data": {
      "text/plain": "(3367, 'beautiful')"
     },
     "execution_count": 3,
     "metadata": {},
     "output_type": "execute_result"
    }
   ],
   "source": [
    "\"\"\"\n",
    "我们可以得到词表中一个单词的索引，反之亦然。\n",
    "\"\"\"\n",
    "glove_6b50d.token_to_idx['beautiful'],glove_6b50d.idx_to_token[3367]"
   ],
   "metadata": {
    "collapsed": false,
    "pycharm": {
     "name": "#%%\n"
    }
   }
  },
  {
   "cell_type": "markdown",
   "source": [
    "## 14.7.2. 应用预训练词向量\n",
    "使用加载的GloVe向量，我们将通过下面的词相似性和类比任务中来展示词向量的语义。\n",
    "\n",
    "### 词相似度\n",
    "\n",
    "与[14.4.3节](./L14_3_用于预训练词嵌入的数据集.ipynb)类似，为了根据词向量之间的余弦相似性为输入词查找语义相似的词，我们实现了以下`knn`（$k$近邻）函数。\n"
   ],
   "metadata": {
    "collapsed": false,
    "pycharm": {
     "name": "#%% md\n"
    }
   }
  },
  {
   "cell_type": "code",
   "execution_count": 4,
   "outputs": [
    {
     "name": "stdout",
     "output_type": "stream",
     "text": [
      "chips:cosine相似度=0.856\n",
      "intel:cosine相似度=0.749\n",
      "electronics:cosine相似度=0.749\n"
     ]
    }
   ],
   "source": [
    "def knn(W,x,k):\n",
    "    # 增加1e-9以获得数值稳定性\n",
    "    cos=torch.mv(W,x.reshape(-1,)) / (\n",
    "            torch.sqrt(torch.sum(W*W,axis=1) + 1e-9 ) *\n",
    "            torch.sqrt((x*x).sum() ) )\n",
    "    _, topk = torch.topk(cos,k=k)\n",
    "    return topk,[cos[int(i)] for i in topk]\n",
    "\n",
    "\"\"\"\n",
    "使用TokenEmbedding的实例embed中预训练好的词向量来搜索相似的词。\n",
    "\"\"\"\n",
    "def get_similar_tokens(query_token,k,embed):\n",
    "    topk,cos = knn(embed.idx_to_vec,embed[[query_token]], k+1)\n",
    "    for i,c in zip(topk[1:],cos[1:]):  # 排除输入词\n",
    "        print(f'{embed.idx_to_token[int(i)]}:cosine相似度={float(c):.3f}')\n",
    "\n",
    "\"\"\"\n",
    "glove_6b50d中预训练词向量的词表包含400000个词和一个特殊的未知词元。排除输入词和未知词元后，我们在词表中找到与“chip”一词语义最相似的三个词。\n",
    "\"\"\"\n",
    "get_similar_tokens('chip',3,glove_6b50d)"
   ],
   "metadata": {
    "collapsed": false,
    "pycharm": {
     "name": "#%%\n"
    }
   }
  },
  {
   "cell_type": "code",
   "execution_count": 5,
   "outputs": [
    {
     "name": "stdout",
     "output_type": "stream",
     "text": [
      "babies:cosine相似度=0.839\n",
      "boy:cosine相似度=0.800\n",
      "girl:cosine相似度=0.792\n"
     ]
    }
   ],
   "source": [
    "\"\"\"\n",
    "下面输出与“baby”和“beautiful”相似的词。\n",
    "\"\"\"\n",
    "get_similar_tokens('baby',3,glove_6b50d)"
   ],
   "metadata": {
    "collapsed": false,
    "pycharm": {
     "name": "#%%\n"
    }
   }
  },
  {
   "cell_type": "code",
   "execution_count": 6,
   "outputs": [
    {
     "name": "stdout",
     "output_type": "stream",
     "text": [
      "lovely:cosine相似度=0.921\n",
      "gorgeous:cosine相似度=0.893\n",
      "wonderful:cosine相似度=0.830\n"
     ]
    }
   ],
   "source": [
    "get_similar_tokens('beautiful',3,glove_6b50d)"
   ],
   "metadata": {
    "collapsed": false,
    "pycharm": {
     "name": "#%%\n"
    }
   }
  },
  {
   "cell_type": "markdown",
   "source": [
    "### 词类比\n",
    "除了找到相似的词，我们还可以将词向量应用到词类比任务中。例如，“man” : “woman” :: “son” : “daughter”是一个词的类比。“man”是对“woman”的类比，“son”是对“daughter”的类比。具体来说，词类比任务可以定义为：对于单词类比$a : b :: c : d$，给出前三个词$a$、$b$和$c$，找到$d$。用$\\text{vec}(w)$表示词$w$的向量，为了完成这个类比，我们将找到一个词，其向量与$\\text{vec}(c)+\\text{vec}(b)-\\text{vec}(a)$的结果最相似。"
   ],
   "metadata": {
    "collapsed": false,
    "pycharm": {
     "name": "#%% md\n"
    }
   }
  },
  {
   "cell_type": "code",
   "execution_count": 7,
   "outputs": [
    {
     "data": {
      "text/plain": "'daughter'"
     },
     "execution_count": 7,
     "metadata": {},
     "output_type": "execute_result"
    }
   ],
   "source": [
    "def get_analogy(token_a,token_b,token_c,embed):\n",
    "    vecs=embed[[token_a,token_b,token_c]]\n",
    "    x=vecs[1]-vecs[0]+vecs[2]\n",
    "    topk,cos=knn(embed.idx_to_vec,x,1)\n",
    "    return embed.idx_to_token[int(topk[0])]  # 删除未知词\n",
    "\n",
    "\"\"\"\n",
    "使用加载的词向量来验证“male-female”类比。\n",
    "\"\"\"\n",
    "get_analogy('man','woman','son',glove_6b50d)"
   ],
   "metadata": {
    "collapsed": false,
    "pycharm": {
     "name": "#%%\n"
    }
   }
  },
  {
   "cell_type": "code",
   "execution_count": 8,
   "outputs": [
    {
     "data": {
      "text/plain": "'japan'"
     },
     "execution_count": 8,
     "metadata": {},
     "output_type": "execute_result"
    }
   ],
   "source": [
    "\"\"\"\n",
    "下面完成一个“首都-国家”的类比： “beijing” : “china” :: “tokyo” : “japan”。 这说明了预训练词向量中的语义。\n",
    "\"\"\"\n",
    "get_analogy('beijing','china','tokyo',glove_6b50d)"
   ],
   "metadata": {
    "collapsed": false,
    "pycharm": {
     "name": "#%%\n"
    }
   }
  },
  {
   "cell_type": "code",
   "execution_count": 9,
   "outputs": [
    {
     "data": {
      "text/plain": "'biggest'"
     },
     "execution_count": 9,
     "metadata": {},
     "output_type": "execute_result"
    }
   ],
   "source": [
    "\"\"\"\n",
    "另外，对于“bad” : “worst” :: “big” : “biggest”等“形容词-形容词最高级”的比喻，预训练词向量可以捕捉到句法信息。\n",
    "\"\"\"\n",
    "get_analogy('bad','worst','big',glove_6b50d)"
   ],
   "metadata": {
    "collapsed": false,
    "pycharm": {
     "name": "#%%\n"
    }
   }
  },
  {
   "cell_type": "code",
   "execution_count": 10,
   "outputs": [
    {
     "data": {
      "text/plain": "'went'"
     },
     "execution_count": 10,
     "metadata": {},
     "output_type": "execute_result"
    }
   ],
   "source": [
    "\"\"\"\n",
    "为了演示在预训练词向量中捕捉到的过去式概念，我们可以使用“现在式-过去式”的类比来测试句法：“do” : “did” :: “go” : “went”。\n",
    "\"\"\"\n",
    "get_analogy('do','did','go',glove_6b50d)"
   ],
   "metadata": {
    "collapsed": false,
    "pycharm": {
     "name": "#%%\n"
    }
   }
  },
  {
   "cell_type": "markdown",
   "source": [
    "## 14.7.3. 小结\n",
    "- 在实践中，在**大型语料库上预先练的词向量**可以应用于下游的自然语言处理任务。\n",
    "\n",
    "- 预训练的词向量可以应用于词的相似性和类比任务。"
   ],
   "metadata": {
    "collapsed": false,
    "pycharm": {
     "name": "#%% md\n"
    }
   }
  },
  {
   "cell_type": "code",
   "execution_count": null,
   "outputs": [],
   "source": [],
   "metadata": {
    "collapsed": false,
    "pycharm": {
     "name": "#%%\n"
    }
   }
  }
 ],
 "metadata": {
  "kernelspec": {
   "display_name": "Python 3",
   "language": "python",
   "name": "python3"
  },
  "language_info": {
   "codemirror_mode": {
    "name": "ipython",
    "version": 2
   },
   "file_extension": ".py",
   "mimetype": "text/x-python",
   "name": "python",
   "nbconvert_exporter": "python",
   "pygments_lexer": "ipython2",
   "version": "2.7.6"
  }
 },
 "nbformat": 4,
 "nbformat_minor": 0
}